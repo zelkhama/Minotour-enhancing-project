{
 "cells": [
  {
   "cell_type": "markdown",
   "metadata": {},
   "source": [
    "<h1 style=\"text-align:center\"> Doc2vec on clients reviews for places classification  </h1>"
   ]
  },
  {
   "cell_type": "markdown",
   "metadata": {},
   "source": [
    "## Introduction \n",
    "\n",
    "\n",
    "The goal of the following study is to explore the potential of doc2vec algorithm applied on customers reviews in the task of places classification. "
   ]
  },
  {
   "cell_type": "markdown",
   "metadata": {},
   "source": [
    "## Process  \n",
    "\n",
    "<p>The algorithmic process that we are aiming to implement contains the following steps:\n",
    "<p>   .  </p>\n",
    "<p>1- Read data from places scrapped CSV file and select places that have french reviews (at least one french review).\n",
    "<p>2- Group the reviews by places and create 1 document per place containing all of its french reviews. \n",
    "<p>3- Training a Doc2vec model to generate 1 vector per document\n",
    "<p>4- Study similarities detected and analyse the patterns.\n",
    "<p>5- Based on the previous analysis create generic place classes and Label the data. \n",
    "<p>9- Prepare data for classification : mapping Vectors to place Labels \n",
    "<p>10- Train a classifier to perform the mapping \n",
    "<p>11- Analyse the overall accuracy and intra-classes accuracy and optimize the model and the data.\n"
   ]
  },
  {
   "cell_type": "markdown",
   "metadata": {},
   "source": [
    "### Data importing "
   ]
  },
  {
   "cell_type": "code",
   "execution_count": 148,
   "metadata": {},
   "outputs": [],
   "source": [
    "# Import all the required libraries \n",
    "\n",
    "import pandas as pd\n",
    "import matplotlib.pyplot as plt\n",
    "import numpy as np\n",
    "from gensim.models.doc2vec import Doc2Vec, TaggedDocument\n",
    "from nltk.tokenize import word_tokenize\n",
    "from sklearn.preprocessing import LabelEncoder\n",
    "from sklearn.ensemble import GradientBoostingClassifier\n",
    "from sklearn.metrics import confusion_matrix\n"
   ]
  },
  {
   "cell_type": "code",
   "execution_count": 6,
   "metadata": {},
   "outputs": [
    {
     "name": "stderr",
     "output_type": "stream",
     "text": [
      "C:\\Users\\Lenovo_T530\\Anaconda3\\lib\\site-packages\\IPython\\core\\interactiveshell.py:2728: DtypeWarning: Columns (2,4,11,15,20,21) have mixed types. Specify dtype option on import or set low_memory=False.\n",
      "  interactivity=interactivity, compiler=compiler, result=result)\n"
     ]
    },
    {
     "data": {
      "text/html": [
       "<div>\n",
       "<style scoped>\n",
       "    .dataframe tbody tr th:only-of-type {\n",
       "        vertical-align: middle;\n",
       "    }\n",
       "\n",
       "    .dataframe tbody tr th {\n",
       "        vertical-align: top;\n",
       "    }\n",
       "\n",
       "    .dataframe thead th {\n",
       "        text-align: right;\n",
       "    }\n",
       "</style>\n",
       "<table border=\"1\" class=\"dataframe\">\n",
       "  <thead>\n",
       "    <tr style=\"text-align: right;\">\n",
       "      <th></th>\n",
       "      <th>venue</th>\n",
       "      <th>title</th>\n",
       "      <th>description</th>\n",
       "      <th>lang</th>\n",
       "      <th>telephone</th>\n",
       "      <th>email</th>\n",
       "      <th>url</th>\n",
       "      <th>businessType</th>\n",
       "      <th>categoryName</th>\n",
       "      <th>latitude</th>\n",
       "      <th>...</th>\n",
       "      <th>streetAddress</th>\n",
       "      <th>city</th>\n",
       "      <th>img</th>\n",
       "      <th>seeAlso</th>\n",
       "      <th>publisher</th>\n",
       "      <th>sameAs</th>\n",
       "      <th>topoImportance</th>\n",
       "      <th>rating</th>\n",
       "      <th>reviewLang</th>\n",
       "      <th>review</th>\n",
       "    </tr>\n",
       "  </thead>\n",
       "  <tbody>\n",
       "    <tr>\n",
       "      <th>0</th>\n",
       "      <td>http://data.linkedevents.org/location/a8a1f925...</td>\n",
       "      <td>McDonald's</td>\n",
       "      <td>NaN</td>\n",
       "      <td>NaN</td>\n",
       "      <td>3.34946e+10</td>\n",
       "      <td>NaN</td>\n",
       "      <td>http://www.restaurants.mcdonalds.fr/mcdonalds-...</td>\n",
       "      <td>http://data.linkedevents.org/kos/foursquare/fa...</td>\n",
       "      <td>Fast Food Restaurant</td>\n",
       "      <td>43.2616</td>\n",
       "      <td>...</td>\n",
       "      <td>RN 559 (Quartier Joffret), 83580 GASSIN, France</td>\n",
       "      <td>GASSIN</td>\n",
       "      <td>https://igx.4sqi.net/img/general/720x431/24260...</td>\n",
       "      <td>NaN</td>\n",
       "      <td>http://www.foursquare.com</td>\n",
       "      <td>https://www.foursquare.com/v/mcdonalds/4c62f10...</td>\n",
       "      <td>NaN</td>\n",
       "      <td>3.0</td>\n",
       "      <td>en</td>\n",
       "      <td>Use the easy order system. Very fast!</td>\n",
       "    </tr>\n",
       "    <tr>\n",
       "      <th>1</th>\n",
       "      <td>http://data.linkedevents.org/location/a8a1f925...</td>\n",
       "      <td>McDonald's</td>\n",
       "      <td>NaN</td>\n",
       "      <td>NaN</td>\n",
       "      <td>3.34946e+10</td>\n",
       "      <td>NaN</td>\n",
       "      <td>http://www.restaurants.mcdonalds.fr/mcdonalds-...</td>\n",
       "      <td>http://data.linkedevents.org/kos/foursquare/fa...</td>\n",
       "      <td>Fast Food Restaurant</td>\n",
       "      <td>43.2616</td>\n",
       "      <td>...</td>\n",
       "      <td>RN 559 (Quartier Joffret), 83580 GASSIN, France</td>\n",
       "      <td>GASSIN</td>\n",
       "      <td>https://igx.4sqi.net/img/general/720x431/24260...</td>\n",
       "      <td>NaN</td>\n",
       "      <td>http://www.foursquare.com</td>\n",
       "      <td>https://www.foursquare.com/v/mcdonalds/4c62f10...</td>\n",
       "      <td>NaN</td>\n",
       "      <td>3.0</td>\n",
       "      <td>fr</td>\n",
       "      <td>Les employés ne connaissent pas (littéralement...</td>\n",
       "    </tr>\n",
       "    <tr>\n",
       "      <th>2</th>\n",
       "      <td>http://data.linkedevents.org/location/a8a1f925...</td>\n",
       "      <td>McDonald's</td>\n",
       "      <td>NaN</td>\n",
       "      <td>NaN</td>\n",
       "      <td>3.34946e+10</td>\n",
       "      <td>NaN</td>\n",
       "      <td>http://www.restaurants.mcdonalds.fr/mcdonalds-...</td>\n",
       "      <td>http://data.linkedevents.org/kos/foursquare/fa...</td>\n",
       "      <td>Fast Food Restaurant</td>\n",
       "      <td>43.2616</td>\n",
       "      <td>...</td>\n",
       "      <td>RN 559 (Quartier Joffret), 83580 GASSIN, France</td>\n",
       "      <td>GASSIN</td>\n",
       "      <td>https://igx.4sqi.net/img/general/720x431/24260...</td>\n",
       "      <td>NaN</td>\n",
       "      <td>http://www.foursquare.com</td>\n",
       "      <td>https://www.foursquare.com/v/mcdonalds/4c62f10...</td>\n",
       "      <td>NaN</td>\n",
       "      <td>3.0</td>\n",
       "      <td>fr</td>\n",
       "      <td>Super rapide, relativement propre mais personn...</td>\n",
       "    </tr>\n",
       "    <tr>\n",
       "      <th>3</th>\n",
       "      <td>http://data.linkedevents.org/location/a8a1f925...</td>\n",
       "      <td>McDonald's</td>\n",
       "      <td>NaN</td>\n",
       "      <td>NaN</td>\n",
       "      <td>3.34946e+10</td>\n",
       "      <td>NaN</td>\n",
       "      <td>http://www.restaurants.mcdonalds.fr/mcdonalds-...</td>\n",
       "      <td>http://data.linkedevents.org/kos/foursquare/fa...</td>\n",
       "      <td>Fast Food Restaurant</td>\n",
       "      <td>43.2616</td>\n",
       "      <td>...</td>\n",
       "      <td>RN 559 (Quartier Joffret), 83580 GASSIN, France</td>\n",
       "      <td>GASSIN</td>\n",
       "      <td>https://igx.4sqi.net/img/general/720x431/24260...</td>\n",
       "      <td>NaN</td>\n",
       "      <td>http://www.foursquare.com</td>\n",
       "      <td>https://www.foursquare.com/v/mcdonalds/4c62f10...</td>\n",
       "      <td>NaN</td>\n",
       "      <td>3.0</td>\n",
       "      <td>en</td>\n",
       "      <td>Mac shittt</td>\n",
       "    </tr>\n",
       "    <tr>\n",
       "      <th>4</th>\n",
       "      <td>http://data.linkedevents.org/location/194949f0...</td>\n",
       "      <td>Barbarac</td>\n",
       "      <td>NaN</td>\n",
       "      <td>NaN</td>\n",
       "      <td>3.3495e+10</td>\n",
       "      <td>NaN</td>\n",
       "      <td>http://barbarac.fr</td>\n",
       "      <td>http://data.linkedevents.org/kos/foursquare/ic...</td>\n",
       "      <td>Ice Cream Shop</td>\n",
       "      <td>43.2714</td>\n",
       "      <td>...</td>\n",
       "      <td>2 rue Général Allard, 83990 Saint-Tropez, France</td>\n",
       "      <td>Saint-Tropez</td>\n",
       "      <td>https://igx.4sqi.net/img/general/537x720/sq9hS...</td>\n",
       "      <td>NaN</td>\n",
       "      <td>http://www.foursquare.com</td>\n",
       "      <td>https://www.foursquare.com/v/barbarac/4bfaed7a...</td>\n",
       "      <td>NaN</td>\n",
       "      <td>4.5</td>\n",
       "      <td>it</td>\n",
       "      <td>Gelato fantastico. Il migliore di St. Tropez</td>\n",
       "    </tr>\n",
       "  </tbody>\n",
       "</table>\n",
       "<p>5 rows × 22 columns</p>\n",
       "</div>"
      ],
      "text/plain": [
       "                                               venue       title description  \\\n",
       "0  http://data.linkedevents.org/location/a8a1f925...  McDonald's         NaN   \n",
       "1  http://data.linkedevents.org/location/a8a1f925...  McDonald's         NaN   \n",
       "2  http://data.linkedevents.org/location/a8a1f925...  McDonald's         NaN   \n",
       "3  http://data.linkedevents.org/location/a8a1f925...  McDonald's         NaN   \n",
       "4  http://data.linkedevents.org/location/194949f0...    Barbarac         NaN   \n",
       "\n",
       "   lang    telephone  email  \\\n",
       "0   NaN  3.34946e+10    NaN   \n",
       "1   NaN  3.34946e+10    NaN   \n",
       "2   NaN  3.34946e+10    NaN   \n",
       "3   NaN  3.34946e+10    NaN   \n",
       "4   NaN   3.3495e+10    NaN   \n",
       "\n",
       "                                                 url  \\\n",
       "0  http://www.restaurants.mcdonalds.fr/mcdonalds-...   \n",
       "1  http://www.restaurants.mcdonalds.fr/mcdonalds-...   \n",
       "2  http://www.restaurants.mcdonalds.fr/mcdonalds-...   \n",
       "3  http://www.restaurants.mcdonalds.fr/mcdonalds-...   \n",
       "4                                 http://barbarac.fr   \n",
       "\n",
       "                                        businessType          categoryName  \\\n",
       "0  http://data.linkedevents.org/kos/foursquare/fa...  Fast Food Restaurant   \n",
       "1  http://data.linkedevents.org/kos/foursquare/fa...  Fast Food Restaurant   \n",
       "2  http://data.linkedevents.org/kos/foursquare/fa...  Fast Food Restaurant   \n",
       "3  http://data.linkedevents.org/kos/foursquare/fa...  Fast Food Restaurant   \n",
       "4  http://data.linkedevents.org/kos/foursquare/ic...        Ice Cream Shop   \n",
       "\n",
       "   latitude                        ...                          \\\n",
       "0   43.2616                        ...                           \n",
       "1   43.2616                        ...                           \n",
       "2   43.2616                        ...                           \n",
       "3   43.2616                        ...                           \n",
       "4   43.2714                        ...                           \n",
       "\n",
       "                                      streetAddress          city  \\\n",
       "0   RN 559 (Quartier Joffret), 83580 GASSIN, France        GASSIN   \n",
       "1   RN 559 (Quartier Joffret), 83580 GASSIN, France        GASSIN   \n",
       "2   RN 559 (Quartier Joffret), 83580 GASSIN, France        GASSIN   \n",
       "3   RN 559 (Quartier Joffret), 83580 GASSIN, France        GASSIN   \n",
       "4  2 rue Général Allard, 83990 Saint-Tropez, France  Saint-Tropez   \n",
       "\n",
       "                                                 img seeAlso  \\\n",
       "0  https://igx.4sqi.net/img/general/720x431/24260...     NaN   \n",
       "1  https://igx.4sqi.net/img/general/720x431/24260...     NaN   \n",
       "2  https://igx.4sqi.net/img/general/720x431/24260...     NaN   \n",
       "3  https://igx.4sqi.net/img/general/720x431/24260...     NaN   \n",
       "4  https://igx.4sqi.net/img/general/537x720/sq9hS...     NaN   \n",
       "\n",
       "                   publisher  \\\n",
       "0  http://www.foursquare.com   \n",
       "1  http://www.foursquare.com   \n",
       "2  http://www.foursquare.com   \n",
       "3  http://www.foursquare.com   \n",
       "4  http://www.foursquare.com   \n",
       "\n",
       "                                              sameAs topoImportance rating  \\\n",
       "0  https://www.foursquare.com/v/mcdonalds/4c62f10...            NaN    3.0   \n",
       "1  https://www.foursquare.com/v/mcdonalds/4c62f10...            NaN    3.0   \n",
       "2  https://www.foursquare.com/v/mcdonalds/4c62f10...            NaN    3.0   \n",
       "3  https://www.foursquare.com/v/mcdonalds/4c62f10...            NaN    3.0   \n",
       "4  https://www.foursquare.com/v/barbarac/4bfaed7a...            NaN    4.5   \n",
       "\n",
       "   reviewLang                                             review  \n",
       "0          en              Use the easy order system. Very fast!  \n",
       "1          fr  Les employés ne connaissent pas (littéralement...  \n",
       "2          fr  Super rapide, relativement propre mais personn...  \n",
       "3          en                                         Mac shittt  \n",
       "4          it       Gelato fantastico. Il migliore di St. Tropez  \n",
       "\n",
       "[5 rows x 22 columns]"
      ]
     },
     "execution_count": 6,
     "metadata": {},
     "output_type": "execute_result"
    }
   ],
   "source": [
    "# Import the CSV file (provided in the directory), change the path if the csv file is not in the same folder as your notebook\n",
    "\n",
    "#df_pl = pd.read_csv(\"C:\\\\Users\\\\Lenovo_T530\\\\Desktop\\\\Project\\\\Reviews\\\\cotedazur_places_full_2018-11-15.csv\",sep=\",\")\n",
    "\n",
    "df_pl = pd.read_csv(\"cotedazur_places_full_2018-11-15.csv\",sep=\",\")\n",
    "\n",
    "df_pl.head(5)\n",
    "\n",
    "#Each row corresponds to a different review. So the same place is repeated in this table the number of reviews it has.\n",
    "    "
   ]
  },
  {
   "cell_type": "code",
   "execution_count": 7,
   "metadata": {},
   "outputs": [
    {
     "data": {
      "text/html": [
       "<div>\n",
       "<style scoped>\n",
       "    .dataframe tbody tr th:only-of-type {\n",
       "        vertical-align: middle;\n",
       "    }\n",
       "\n",
       "    .dataframe tbody tr th {\n",
       "        vertical-align: top;\n",
       "    }\n",
       "\n",
       "    .dataframe thead th {\n",
       "        text-align: right;\n",
       "    }\n",
       "</style>\n",
       "<table border=\"1\" class=\"dataframe\">\n",
       "  <thead>\n",
       "    <tr style=\"text-align: right;\">\n",
       "      <th></th>\n",
       "      <th>venue</th>\n",
       "      <th>title</th>\n",
       "      <th>telephone</th>\n",
       "      <th>url</th>\n",
       "      <th>latitude</th>\n",
       "      <th>longitude</th>\n",
       "      <th>postalCode</th>\n",
       "      <th>streetAddress</th>\n",
       "      <th>img</th>\n",
       "      <th>publisher</th>\n",
       "      <th>sameAs</th>\n",
       "      <th>rating</th>\n",
       "      <th>reviewLang</th>\n",
       "      <th>review</th>\n",
       "    </tr>\n",
       "  </thead>\n",
       "  <tbody>\n",
       "    <tr>\n",
       "      <th>0</th>\n",
       "      <td>http://data.linkedevents.org/location/a8a1f925...</td>\n",
       "      <td>McDonald's</td>\n",
       "      <td>3.34946e+10</td>\n",
       "      <td>http://www.restaurants.mcdonalds.fr/mcdonalds-...</td>\n",
       "      <td>43.2616</td>\n",
       "      <td>6.57665</td>\n",
       "      <td>83580</td>\n",
       "      <td>RN 559 (Quartier Joffret), 83580 GASSIN, France</td>\n",
       "      <td>https://igx.4sqi.net/img/general/720x431/24260...</td>\n",
       "      <td>http://www.foursquare.com</td>\n",
       "      <td>https://www.foursquare.com/v/mcdonalds/4c62f10...</td>\n",
       "      <td>3.0</td>\n",
       "      <td>fr</td>\n",
       "      <td>Les employés ne connaissent pas (littéralement...</td>\n",
       "    </tr>\n",
       "    <tr>\n",
       "      <th>1</th>\n",
       "      <td>http://data.linkedevents.org/location/a8a1f925...</td>\n",
       "      <td>McDonald's</td>\n",
       "      <td>3.34946e+10</td>\n",
       "      <td>http://www.restaurants.mcdonalds.fr/mcdonalds-...</td>\n",
       "      <td>43.2616</td>\n",
       "      <td>6.57665</td>\n",
       "      <td>83580</td>\n",
       "      <td>RN 559 (Quartier Joffret), 83580 GASSIN, France</td>\n",
       "      <td>https://igx.4sqi.net/img/general/720x431/24260...</td>\n",
       "      <td>http://www.foursquare.com</td>\n",
       "      <td>https://www.foursquare.com/v/mcdonalds/4c62f10...</td>\n",
       "      <td>3.0</td>\n",
       "      <td>fr</td>\n",
       "      <td>Super rapide, relativement propre mais personn...</td>\n",
       "    </tr>\n",
       "    <tr>\n",
       "      <th>2</th>\n",
       "      <td>http://data.linkedevents.org/location/194949f0...</td>\n",
       "      <td>Barbarac</td>\n",
       "      <td>3.3495e+10</td>\n",
       "      <td>http://barbarac.fr</td>\n",
       "      <td>43.2714</td>\n",
       "      <td>6.63842</td>\n",
       "      <td>83990</td>\n",
       "      <td>2 rue Général Allard, 83990 Saint-Tropez, France</td>\n",
       "      <td>https://igx.4sqi.net/img/general/537x720/sq9hS...</td>\n",
       "      <td>http://www.foursquare.com</td>\n",
       "      <td>https://www.foursquare.com/v/barbarac/4bfaed7a...</td>\n",
       "      <td>4.5</td>\n",
       "      <td>fr</td>\n",
       "      <td>Assurément les meilleures glaces de St Tropez ...</td>\n",
       "    </tr>\n",
       "    <tr>\n",
       "      <th>3</th>\n",
       "      <td>http://data.linkedevents.org/location/194949f0...</td>\n",
       "      <td>Barbarac</td>\n",
       "      <td>3.3495e+10</td>\n",
       "      <td>http://barbarac.fr</td>\n",
       "      <td>43.2714</td>\n",
       "      <td>6.63842</td>\n",
       "      <td>83990</td>\n",
       "      <td>2 rue Général Allard, 83990 Saint-Tropez, France</td>\n",
       "      <td>https://igx.4sqi.net/img/general/537x720/sq9hS...</td>\n",
       "      <td>http://www.foursquare.com</td>\n",
       "      <td>https://www.foursquare.com/v/barbarac/4bfaed7a...</td>\n",
       "      <td>4.5</td>\n",
       "      <td>fr</td>\n",
       "      <td>La glace au yaourt ... Un délice !!</td>\n",
       "    </tr>\n",
       "    <tr>\n",
       "      <th>4</th>\n",
       "      <td>http://data.linkedevents.org/location/194949f0...</td>\n",
       "      <td>Barbarac</td>\n",
       "      <td>3.3495e+10</td>\n",
       "      <td>http://barbarac.fr</td>\n",
       "      <td>43.2714</td>\n",
       "      <td>6.63842</td>\n",
       "      <td>83990</td>\n",
       "      <td>2 rue Général Allard, 83990 Saint-Tropez, France</td>\n",
       "      <td>https://igx.4sqi.net/img/general/537x720/sq9hS...</td>\n",
       "      <td>http://www.foursquare.com</td>\n",
       "      <td>https://www.foursquare.com/v/barbarac/4bfaed7a...</td>\n",
       "      <td>4.5</td>\n",
       "      <td>fr</td>\n",
       "      <td>Glace au yaourt sans hésiter!</td>\n",
       "    </tr>\n",
       "  </tbody>\n",
       "</table>\n",
       "</div>"
      ],
      "text/plain": [
       "                                               venue       title    telephone  \\\n",
       "0  http://data.linkedevents.org/location/a8a1f925...  McDonald's  3.34946e+10   \n",
       "1  http://data.linkedevents.org/location/a8a1f925...  McDonald's  3.34946e+10   \n",
       "2  http://data.linkedevents.org/location/194949f0...    Barbarac   3.3495e+10   \n",
       "3  http://data.linkedevents.org/location/194949f0...    Barbarac   3.3495e+10   \n",
       "4  http://data.linkedevents.org/location/194949f0...    Barbarac   3.3495e+10   \n",
       "\n",
       "                                                 url  latitude  longitude  \\\n",
       "0  http://www.restaurants.mcdonalds.fr/mcdonalds-...   43.2616    6.57665   \n",
       "1  http://www.restaurants.mcdonalds.fr/mcdonalds-...   43.2616    6.57665   \n",
       "2                                 http://barbarac.fr   43.2714    6.63842   \n",
       "3                                 http://barbarac.fr   43.2714    6.63842   \n",
       "4                                 http://barbarac.fr   43.2714    6.63842   \n",
       "\n",
       "  postalCode                                     streetAddress  \\\n",
       "0      83580   RN 559 (Quartier Joffret), 83580 GASSIN, France   \n",
       "1      83580   RN 559 (Quartier Joffret), 83580 GASSIN, France   \n",
       "2      83990  2 rue Général Allard, 83990 Saint-Tropez, France   \n",
       "3      83990  2 rue Général Allard, 83990 Saint-Tropez, France   \n",
       "4      83990  2 rue Général Allard, 83990 Saint-Tropez, France   \n",
       "\n",
       "                                                 img  \\\n",
       "0  https://igx.4sqi.net/img/general/720x431/24260...   \n",
       "1  https://igx.4sqi.net/img/general/720x431/24260...   \n",
       "2  https://igx.4sqi.net/img/general/537x720/sq9hS...   \n",
       "3  https://igx.4sqi.net/img/general/537x720/sq9hS...   \n",
       "4  https://igx.4sqi.net/img/general/537x720/sq9hS...   \n",
       "\n",
       "                   publisher  \\\n",
       "0  http://www.foursquare.com   \n",
       "1  http://www.foursquare.com   \n",
       "2  http://www.foursquare.com   \n",
       "3  http://www.foursquare.com   \n",
       "4  http://www.foursquare.com   \n",
       "\n",
       "                                              sameAs  rating reviewLang  \\\n",
       "0  https://www.foursquare.com/v/mcdonalds/4c62f10...     3.0         fr   \n",
       "1  https://www.foursquare.com/v/mcdonalds/4c62f10...     3.0         fr   \n",
       "2  https://www.foursquare.com/v/barbarac/4bfaed7a...     4.5         fr   \n",
       "3  https://www.foursquare.com/v/barbarac/4bfaed7a...     4.5         fr   \n",
       "4  https://www.foursquare.com/v/barbarac/4bfaed7a...     4.5         fr   \n",
       "\n",
       "                                              review  \n",
       "0  Les employés ne connaissent pas (littéralement...  \n",
       "1  Super rapide, relativement propre mais personn...  \n",
       "2  Assurément les meilleures glaces de St Tropez ...  \n",
       "3                La glace au yaourt ... Un délice !!  \n",
       "4                      Glace au yaourt sans hésiter!  "
      ]
     },
     "execution_count": 7,
     "metadata": {},
     "output_type": "execute_result"
    }
   ],
   "source": [
    "# Selecting only rows that hold a french review  \n",
    "\n",
    "df_pl_fr_old = df_pl[df_pl.reviewLang == \"fr\"]\n",
    "\n",
    "# Dropping empty or irrelevant columns \n",
    "\n",
    "df_pl_fr = df_pl_fr_old.drop(['categoryName','description','lang','email',\n",
    "                              'businessType','city','seeAlso','topoImportance'],1)\n",
    "# Drop duplicates (if any)\n",
    "\n",
    "df_pl_fr = df_pl_fr.drop_duplicates()\n",
    "\n",
    "# Update the indexes of the new table \n",
    "\n",
    "df_pl_fr.index=range(len(df_pl_fr))\n",
    "\n",
    "# print the  new table  \n",
    "\n",
    "df_pl_fr.head(5)\n"
   ]
  },
  {
   "cell_type": "markdown",
   "metadata": {},
   "source": [
    "## Grouping the reviews"
   ]
  },
  {
   "cell_type": "code",
   "execution_count": 8,
   "metadata": {},
   "outputs": [
    {
     "name": "stdout",
     "output_type": "stream",
     "text": [
      "First Places names:  [\"McDonald's\", 'Barbarac', 'Café de Paris', 'La Place de Mougins']\n"
     ]
    }
   ],
   "source": [
    "## Create a list holding all the places names we have \n",
    "\n",
    "placeNames = list(df_pl_fr.title.unique())\n",
    "\n",
    "print(\"First Places names: \", placeNames[0:4])"
   ]
  },
  {
   "cell_type": "code",
   "execution_count": 12,
   "metadata": {
    "scrolled": true
   },
   "outputs": [
    {
     "name": "stdout",
     "output_type": "stream",
     "text": [
      "McDonald's reviews:\n",
      "\n",
      " 0       Les employés ne connaissent pas (littéralement...\n",
      "1       Super rapide, relativement propre mais personn...\n",
      "8                                Trés bon! Je recommende!\n",
      "9       Heureusement qu'on paye pas le sourire des emp...\n",
      "10      très bruyant à midi en semaine à cause du coll...\n",
      "20      Service impéccable et accueil chaleureux comme...\n",
      "21      Service rapide, nourriture sans saveur bourrée...\n",
      "25      A 8,20€ le Maxi BestOf Chicken Mythic Bacon es...\n",
      "27      Ne pas être pressé (comble pour de la restaura...\n",
      "28      Un véritable effort a été fait pour aménager d...\n",
      "29      Commander aux bornes de l'étage ! Y'a moins de...\n",
      "45      Attente longue due à un personnel incompétent ...\n",
      "46              oubliez le \"p'tit oriental\": PAS TERRIBLE\n",
      "56      Equipe sympathique, face à la mer. Le McDo idé...\n",
      "104     Pensez a mettre les sauces potatoes et ketchup...\n",
      "105     Plus de gentillesse et de respect envers la cl...\n",
      "110     Restaurant assez sympa quand il fait beau avec...\n",
      "111        Sympa en plus en début de soirée y a pas foule\n",
      "112     Un petit café avant de prendre le train ça ne ...\n",
      "119      Les enfants sont toujours ravis et nous avec ;-)\n",
      "122     Prenez la carte fidelité a ce macdo pour avoir...\n",
      "123                   Comme partout, mais au moins chaud.\n",
      "124     Enfin un McDo propre, où ce qui est servi est ...\n",
      "125                Ne viens pas dans notre McDo, conseil.\n",
      "128     Rapide, moderne, propre ! Vraiment agréable. S...\n",
      "129     Attention j'ai vu de mes yeux le serveur netto...\n",
      "130                       Demande un bisou a la caissiere\n",
      "184     Si vous commandez au Drive et plus de 2 menus,...\n",
      "185     drive catastrpohique manque toujours quelque c...\n",
      "186     Attention les commandes ne sont jamais complèt...\n",
      "                              ...                        \n",
      "1581    C'est un mcdo basique. Ils se trompent assez r...\n",
      "1979    Ya des CAFAAAARD !\\nPas venu ici pour grossir oké\n",
      "1980    Très bon restaurents la noirriture est belle m...\n",
      "1981    Mc do au top, tres bon personnel!!!\\nL oubli e...\n",
      "2039    Lieu satisfaisant. Choisissez de manger plutôt...\n",
      "2040    Service très rapide (je crois que c'est la pre...\n",
      "2041    Accueil sympathique \\n\\nIls nous proposent de ...\n",
      "2042    Ce lieu offre des découvertes savoureuses et c...\n",
      "2816    Toilettes particulièrement sales et à l'image ...\n",
      "2817    Tres bon mac do. Personnel sympa. Le plus il r...\n",
      "2818    Le seul mcdo où il faut attendre 15min pour pa...\n",
      "3452    3 menus maxi Best  of achetés, les 3 frites et...\n",
      "3453    Mécontent  car toujour la pub des verres Coca-...\n",
      "3454    21h30 terrasse desserte intérieur idem des dét...\n",
      "3695              Personnels gentils polient et rapide \\n\n",
      "3696     Pas de Drive mais service rapide et assez propre\n",
      "3697    Très bon Mcdo comme tous les autre mes je trou...\n",
      "3698    Service très rapide , mais aucune notification...\n",
      "3699    Site moyennement attrayant, les 3/4 des sandwi...\n",
      "3910    Je ne suis pas rentré dans le restaurant, je n...\n",
      "3922    Restauration rapide,c cher par rapport à la qu...\n",
      "3923    Une impression de Mc Do sale les tables sont s...\n",
      "6339    Pas  d hygiène  toilettes bouchées  au premier...\n",
      "6340    Service lent, ruptures et service de m**de ..\\...\n",
      "6341          Services trop long, absence de personnel...\n",
      "6342    corecte prix corecte un peu d attente du perso...\n",
      "6377    Très propre pour çommanďeŕ  j'ai perdu beaucou...\n",
      "6658    J'ai vu une fille dans votre fast food vos bur...\n",
      "6659    les tables degueulasse ,pendant que le manager...\n",
      "6660    Long, toutes les recettes n'y sont pas, person...\n",
      "Name: review, Length: 88, dtype: object\n"
     ]
    }
   ],
   "source": [
    "## Selecting the reviews gathered for a specific place\n",
    "\n",
    "mcdoReviews = df_pl_fr[df_pl_fr['title'] == placeNames[0]]['review']\n",
    "\n",
    "print(\"McDonald's reviews:\\n\\n\", mcdoReviews)"
   ]
  },
  {
   "cell_type": "code",
   "execution_count": 41,
   "metadata": {},
   "outputs": [
    {
     "data": {
      "text/plain": [
       "[<matplotlib.lines.Line2D at 0x186d4bda5c0>]"
      ]
     },
     "execution_count": 41,
     "metadata": {},
     "output_type": "execute_result"
    },
    {
     "data": {
      "image/png": "[encoded data removed]",
      "text/plain": [
       "<matplotlib.figure.Figure at 0x186d3712550>"
      ]
     },
     "metadata": {},
     "output_type": "display_data"
    }
   ],
   "source": [
    "## Get the distribution of number of reviews \n",
    "counts = []\n",
    "\n",
    "for place in placeNames: \n",
    "    counts.append(df_pl_fr[df_pl_fr['title'] == place]['review'].count())\n",
    "    \n",
    "plt.figure(figsize = (20,8))\n",
    "plt.plot(counts)"
   ]
  },
  {
   "cell_type": "code",
   "execution_count": 45,
   "metadata": {},
   "outputs": [
    {
     "name": "stdout",
     "output_type": "stream",
     "text": [
      "The Maximum Reviews number:  210  Place:  Casino Shop\n",
      "The Minimum Reviews number:  1  Place:  Centre commercial Carrefour Antibes\n",
      "The Average Reviews number:  4.0\n",
      "The Median  Reviews number:  3.0\n"
     ]
    }
   ],
   "source": [
    "print(\"The Maximum Reviews number: \", max(counts), ' Place: ',placeNames[np.argmax(counts)])\n",
    "print(\"The Minimum Reviews number: \", min(counts), ' Place: ',placeNames[np.argmin(counts)])\n",
    "print(\"The Average Reviews number: \", round(np.mean(counts)))\n",
    "print(\"The Median  Reviews number: \", np.median(counts))\n"
   ]
  },
  {
   "cell_type": "markdown",
   "metadata": {},
   "source": [
    "## Constructing doc2vec training data"
   ]
  },
  {
   "cell_type": "markdown",
   "metadata": {},
   "source": [
    "<div class=\"alert alert-warning\">\n",
    "We construct 1 document per place. Each document will contain all the gathered reviews for the place in question\n",
    "</div>"
   ]
  },
  {
   "cell_type": "code",
   "execution_count": 113,
   "metadata": {},
   "outputs": [],
   "source": [
    "training_data=[]\n",
    "for j in range(len(placeNames)) : \n",
    "    new_file = str()\n",
    "    for i in list(df_pl_fr[df_pl_fr['title'] == placeNames[j]]['review']) : \n",
    "        new_file+=(i+' ')\n",
    "    training_data.append(new_file)"
   ]
  },
  {
   "cell_type": "markdown",
   "metadata": {},
   "source": [
    "<div class=\"alert alert-warning\">\n",
    "Here is a part of the content of the first document: \n",
    "</div>"
   ]
  },
  {
   "cell_type": "code",
   "execution_count": 51,
   "metadata": {},
   "outputs": [
    {
     "name": "stdout",
     "output_type": "stream",
     "text": [
      "Les employés ne connaissent pas (littéralement) les réductions étudiantes Super rapide, relativement propre mais personnel de salle un peu intrusif et manquant cruellement de tact. Trés bon! Je recommende! Heureusement qu'on paye pas le sourire des employé !! très bruyant à midi en semaine à cause du collège/lycée à proximité. Service impéccable et accueil chaleureux comme on en voit très rarement dans un macdo. Bravo ! Service rapide, nourriture sans saveur bourrée de sauce, cher. A 8,20€ le Maxi BestOf Chicken Mythic Bacon est une belle escroquerie! Ne pas être pressé (comble pour de la restauration Rapide),  bien vérifier sa commande!  Amabilité : sans commentaire!  Lol. Un véritable effort a été fait pour aménager de façon chaleureuse ce point de vente et mettre en valeur le savoir-faire de McDonald's. Service à table : c'est novateur mais inutile à mes yeux. Commander aux bornes de l'étage ! Y'a moins de monde. Attente longue due à un personnel incompétent incapable de connaitre s\n"
     ]
    }
   ],
   "source": [
    "print(training_data[0][0:1000])"
   ]
  },
  {
   "cell_type": "markdown",
   "metadata": {},
   "source": [
    "<div class=\"alert alert-warning\">\n",
    "Let's train a doc2vec algorithm on the training data\n",
    "</div>"
   ]
  },
  {
   "cell_type": "code",
   "execution_count": 114,
   "metadata": {},
   "outputs": [],
   "source": [
    "tagged_data = [TaggedDocument(words=word_tokenize(_d.lower()), tags=[str(i)]) for i, _d in enumerate(training_data)]"
   ]
  },
  {
   "cell_type": "code",
   "execution_count": 131,
   "metadata": {},
   "outputs": [
    {
     "name": "stderr",
     "output_type": "stream",
     "text": [
      "C:\\Users\\Lenovo_T530\\Anaconda3\\lib\\site-packages\\gensim\\models\\doc2vec.py:570: UserWarning: The parameter `size` is deprecated, will be removed in 4.0.0, use `vector_size` instead.\n",
      "  warnings.warn(\"The parameter `size` is deprecated, will be removed in 4.0.0, use `vector_size` instead.\")\n"
     ]
    },
    {
     "name": "stdout",
     "output_type": "stream",
     "text": [
      "iteration 0\n"
     ]
    },
    {
     "name": "stderr",
     "output_type": "stream",
     "text": [
      "C:\\Users\\Lenovo_T530\\Anaconda3\\lib\\site-packages\\ipykernel_launcher.py:17: DeprecationWarning: Call to deprecated `iter` (Attribute will be removed in 4.0.0, use self.epochs instead).\n"
     ]
    },
    {
     "name": "stdout",
     "output_type": "stream",
     "text": [
      "iteration 1\n",
      "iteration 2\n",
      "iteration 3\n",
      "iteration 4\n",
      "iteration 5\n",
      "iteration 6\n",
      "iteration 7\n",
      "iteration 8\n",
      "iteration 9\n",
      "iteration 10\n",
      "iteration 11\n",
      "iteration 12\n",
      "iteration 13\n",
      "iteration 14\n",
      "iteration 15\n",
      "iteration 16\n",
      "iteration 17\n",
      "iteration 18\n",
      "iteration 19\n",
      "iteration 20\n",
      "iteration 21\n",
      "iteration 22\n",
      "iteration 23\n",
      "iteration 24\n",
      "iteration 25\n",
      "iteration 26\n",
      "iteration 27\n",
      "iteration 28\n",
      "iteration 29\n",
      "iteration 30\n",
      "iteration 31\n",
      "iteration 32\n",
      "iteration 33\n",
      "iteration 34\n",
      "iteration 35\n",
      "iteration 36\n",
      "iteration 37\n",
      "iteration 38\n",
      "iteration 39\n",
      "iteration 40\n",
      "iteration 41\n",
      "iteration 42\n",
      "iteration 43\n",
      "iteration 44\n",
      "iteration 45\n",
      "iteration 46\n",
      "iteration 47\n",
      "iteration 48\n",
      "iteration 49\n",
      "iteration 50\n",
      "iteration 51\n",
      "iteration 52\n",
      "iteration 53\n",
      "iteration 54\n",
      "iteration 55\n",
      "iteration 56\n",
      "iteration 57\n",
      "iteration 58\n",
      "iteration 59\n",
      "iteration 60\n",
      "iteration 61\n",
      "iteration 62\n",
      "iteration 63\n",
      "iteration 64\n",
      "iteration 65\n",
      "iteration 66\n",
      "iteration 67\n",
      "iteration 68\n",
      "iteration 69\n",
      "iteration 70\n",
      "iteration 71\n",
      "iteration 72\n",
      "iteration 73\n",
      "iteration 74\n",
      "iteration 75\n",
      "iteration 76\n",
      "iteration 77\n",
      "iteration 78\n",
      "iteration 79\n",
      "iteration 80\n",
      "iteration 81\n",
      "iteration 82\n",
      "iteration 83\n",
      "iteration 84\n",
      "iteration 85\n",
      "iteration 86\n",
      "iteration 87\n",
      "iteration 88\n",
      "iteration 89\n",
      "iteration 90\n",
      "iteration 91\n",
      "iteration 92\n",
      "iteration 93\n",
      "iteration 94\n",
      "iteration 95\n",
      "iteration 96\n",
      "iteration 97\n",
      "iteration 98\n",
      "iteration 99\n"
     ]
    }
   ],
   "source": [
    "max_epochs = 100\n",
    "vec_size = 20\n",
    "alpha = 0.025\n",
    "\n",
    "model = Doc2Vec(size=vec_size,\n",
    "                alpha=alpha, \n",
    "                min_alpha=0.00025,\n",
    "                min_count=1,\n",
    "                dm =1)\n",
    "  \n",
    "model.build_vocab(tagged_data)\n",
    "\n",
    "for epoch in range(max_epochs):\n",
    "    print('iteration {0}'.format(epoch))\n",
    "    model.train(tagged_data,\n",
    "                total_examples=model.corpus_count,\n",
    "                epochs=model.iter)\n",
    "    # decrease the learning rate\n",
    "    model.alpha -= 0.0002\n",
    "    # fix the learning rate, no decay\n",
    "    model.min_alpha = model.alpha\n",
    "\n",
    "#model.save(\"d4v.model\")\n",
    "#print(\"Model Saved\")"
   ]
  },
  {
   "cell_type": "code",
   "execution_count": null,
   "metadata": {},
   "outputs": [],
   "source": [
    "# Save your model \n",
    "\n",
    "model.save(\"d4v.model\")\n",
    "print(\"Model Saved\")"
   ]
  },
  {
   "cell_type": "code",
   "execution_count": null,
   "metadata": {},
   "outputs": [],
   "source": [
    "## To load the model\n",
    "\n",
    "model= Doc2Vec.load(\"d4v.model\")"
   ]
  },
  {
   "cell_type": "code",
   "execution_count": 116,
   "metadata": {},
   "outputs": [
    {
     "name": "stdout",
     "output_type": "stream",
     "text": [
      "[('868', 0.857935905456543), ('1671', 0.8571186065673828), ('1959', 0.8526476621627808), ('2806', 0.8505672812461853), ('1875', 0.8431761264801025), ('1292', 0.8401811122894287), ('109', 0.8312878012657166), ('2231', 0.8299049139022827), ('639', 0.8235914707183838), ('1835', 0.8165018558502197)]\n"
     ]
    },
    {
     "name": "stderr",
     "output_type": "stream",
     "text": [
      "C:\\Users\\Lenovo_T530\\Anaconda3\\lib\\site-packages\\gensim\\matutils.py:737: FutureWarning: Conversion of the second argument of issubdtype from `int` to `np.signedinteger` is deprecated. In future, it will be treated as `np.int32 == np.dtype(int).type`.\n",
      "  if np.issubdtype(vec.dtype, np.int):\n"
     ]
    }
   ],
   "source": [
    "# To test the model, we can use most_similar in build function (takes tags as input and return tags )\n",
    "similar_doc = model.docvecs.most_similar(0)\n",
    "print(similar_doc)"
   ]
  },
  {
   "cell_type": "code",
   "execution_count": 117,
   "metadata": {},
   "outputs": [],
   "source": [
    "# A function to test the model that takes names as input and return names\n",
    "\n",
    "def determine_similar(placeName = 'Barbarac') :\n",
    "    results = []\n",
    "    categories = [] \n",
    "    if placeName in placeNames : \n",
    "        tag = placeNames.index(placeName)\n",
    "        similar_doc = model.docvecs.most_similar(tag)\n",
    "        for el in similar_doc:\n",
    "            results.append(placeNames[int(el[0])])\n",
    "            categories.append(df_pl[df_pl['title'] == placeNames[int(el[0])]]['categoryName'])\n",
    "    return results"
   ]
  },
  {
   "cell_type": "code",
   "execution_count": 118,
   "metadata": {},
   "outputs": [
    {
     "name": "stderr",
     "output_type": "stream",
     "text": [
      "C:\\Users\\Lenovo_T530\\Anaconda3\\lib\\site-packages\\gensim\\matutils.py:737: FutureWarning: Conversion of the second argument of issubdtype from `int` to `np.signedinteger` is deprecated. In future, it will be treated as `np.int32 == np.dtype(int).type`.\n",
      "  if np.issubdtype(vec.dtype, np.int):\n"
     ]
    },
    {
     "data": {
      "text/plain": [
       "['La Bella Trattoria',\n",
       " 'Bar Restaurant du Port',\n",
       " 'Papilla',\n",
       " 'La Salle A Manger',\n",
       " 'Le San Remo',\n",
       " 'The Frenchy Burger',\n",
       " 'La Guérite',\n",
       " 'Restaurant Délicatessen',\n",
       " 'Pizzeria Bruno',\n",
       " 'La Pizza']"
      ]
     },
     "execution_count": 118,
     "metadata": {},
     "output_type": "execute_result"
    }
   ],
   "source": [
    "determine_similar(placeName = 'Barbarac')"
   ]
  },
  {
   "cell_type": "code",
   "execution_count": 132,
   "metadata": {},
   "outputs": [
    {
     "name": "stderr",
     "output_type": "stream",
     "text": [
      "C:\\Users\\Lenovo_T530\\Anaconda3\\lib\\site-packages\\gensim\\matutils.py:737: FutureWarning: Conversion of the second argument of issubdtype from `int` to `np.signedinteger` is deprecated. In future, it will be treated as `np.int32 == np.dtype(int).type`.\n",
      "  if np.issubdtype(vec.dtype, np.int):\n"
     ]
    },
    {
     "data": {
      "text/plain": [
       "['Blue Bar',\n",
       " \"L'escapade\",\n",
       " 'Phnom Penh',\n",
       " 'Plage des Trois Pins',\n",
       " 'Pizzeria de la Rade',\n",
       " 'Yummy Pizza',\n",
       " 'Pizza Pili',\n",
       " \"L'Endroit\",\n",
       " 'La Mama',\n",
       " 'Le Comptoir']"
      ]
     },
     "execution_count": 132,
     "metadata": {},
     "output_type": "execute_result"
    }
   ],
   "source": [
    "determine_similar(placeName = \"McDonald's\")"
   ]
  },
  {
   "cell_type": "code",
   "execution_count": 120,
   "metadata": {},
   "outputs": [
    {
     "name": "stderr",
     "output_type": "stream",
     "text": [
      "C:\\Users\\Lenovo_T530\\Anaconda3\\lib\\site-packages\\gensim\\matutils.py:737: FutureWarning: Conversion of the second argument of issubdtype from `int` to `np.signedinteger` is deprecated. In future, it will be treated as `np.int32 == np.dtype(int).type`.\n",
      "  if np.issubdtype(vec.dtype, np.int):\n"
     ]
    },
    {
     "data": {
      "text/plain": [
       "['Auberge Quintessence',\n",
       " 'Hôtel Courbet',\n",
       " 'Hotel Savoy',\n",
       " 'Hôtel Hoche',\n",
       " 'Hôtel Les Amandiers',\n",
       " \"Hôtel Gray d'Albion\",\n",
       " 'Toile Blanche',\n",
       " 'Eglise Saint Jean-Baptiste',\n",
       " 'Le Relais Gourmand',\n",
       " 'Domaine des Bruguières']"
      ]
     },
     "execution_count": 120,
     "metadata": {},
     "output_type": "execute_result"
    }
   ],
   "source": [
    "determine_similar(placeName = \"Hôtel Le Chastellan\")"
   ]
  },
  {
   "cell_type": "code",
   "execution_count": 121,
   "metadata": {},
   "outputs": [
    {
     "name": "stderr",
     "output_type": "stream",
     "text": [
      "C:\\Users\\Lenovo_T530\\Anaconda3\\lib\\site-packages\\gensim\\matutils.py:737: FutureWarning: Conversion of the second argument of issubdtype from `int` to `np.signedinteger` is deprecated. In future, it will be treated as `np.int32 == np.dtype(int).type`.\n",
      "  if np.issubdtype(vec.dtype, np.int):\n"
     ]
    },
    {
     "data": {
      "text/plain": [
       "['Hotel Savoy',\n",
       " 'Hôtel Le Chastellan',\n",
       " \"Le Chalet d'Auron\",\n",
       " 'Mixtape',\n",
       " 'Auberge Quintessence',\n",
       " 'Diffazur Piscines',\n",
       " 'Le Relais Gourmand',\n",
       " 'Une Maison à Saint-Paul de Vence',\n",
       " \"L'atelier Joseph\",\n",
       " 'Au Paradis des Campeurs']"
      ]
     },
     "execution_count": 121,
     "metadata": {},
     "output_type": "execute_result"
    }
   ],
   "source": [
    "determine_similar(placeName = \"Hôtel Courbet\")"
   ]
  },
  {
   "cell_type": "code",
   "execution_count": 122,
   "metadata": {},
   "outputs": [
    {
     "name": "stderr",
     "output_type": "stream",
     "text": [
      "C:\\Users\\Lenovo_T530\\Anaconda3\\lib\\site-packages\\gensim\\matutils.py:737: FutureWarning: Conversion of the second argument of issubdtype from `int` to `np.signedinteger` is deprecated. In future, it will be treated as `np.int32 == np.dtype(int).type`.\n",
      "  if np.issubdtype(vec.dtype, np.int):\n"
     ]
    },
    {
     "data": {
      "text/plain": [
       "['Artcamping Plateau des Chasses',\n",
       " 'Hôtel Méditerranée',\n",
       " 'Camping Le Grand Calme',\n",
       " 'Café du Commerce',\n",
       " 'Studio Bord de Mer à Cannes',\n",
       " 'Camping Azur Rivage',\n",
       " \"Le Chalet d'Auron\",\n",
       " \"Camping Sandaya Riviera d'Azur\",\n",
       " 'Hotel Savoy',\n",
       " 'Au Paradis des Campeurs']"
      ]
     },
     "execution_count": 122,
     "metadata": {},
     "output_type": "execute_result"
    }
   ],
   "source": [
    "determine_similar(placeName = \"Camping Clos Rose Marie\")"
   ]
  },
  {
   "cell_type": "code",
   "execution_count": 123,
   "metadata": {},
   "outputs": [
    {
     "name": "stderr",
     "output_type": "stream",
     "text": [
      "C:\\Users\\Lenovo_T530\\Anaconda3\\lib\\site-packages\\gensim\\matutils.py:737: FutureWarning: Conversion of the second argument of issubdtype from `int` to `np.signedinteger` is deprecated. In future, it will be treated as `np.int32 == np.dtype(int).type`.\n",
      "  if np.issubdtype(vec.dtype, np.int):\n"
     ]
    },
    {
     "data": {
      "text/plain": [
       "['Monoprix',\n",
       " 'Naturalia',\n",
       " 'Carrefour Market Hyères',\n",
       " 'Lidl',\n",
       " 'Maxi Bazar',\n",
       " 'Le Marchand Bio',\n",
       " 'E.Leclerc',\n",
       " 'Super U',\n",
       " 'Stokomani',\n",
       " 'Decathlon']"
      ]
     },
     "execution_count": 123,
     "metadata": {},
     "output_type": "execute_result"
    }
   ],
   "source": [
    "determine_similar(placeName = \"Picard\")"
   ]
  },
  {
   "cell_type": "code",
   "execution_count": 124,
   "metadata": {},
   "outputs": [
    {
     "name": "stderr",
     "output_type": "stream",
     "text": [
      "C:\\Users\\Lenovo_T530\\Anaconda3\\lib\\site-packages\\gensim\\matutils.py:737: FutureWarning: Conversion of the second argument of issubdtype from `int` to `np.signedinteger` is deprecated. In future, it will be treated as `np.int32 == np.dtype(int).type`.\n",
      "  if np.issubdtype(vec.dtype, np.int):\n"
     ]
    },
    {
     "data": {
      "text/plain": [
       "['Leader Price',\n",
       " 'Casino Shop',\n",
       " 'Monoprix',\n",
       " 'E.Leclerc',\n",
       " 'Maxi Bazar',\n",
       " 'Super U',\n",
       " 'SPAR',\n",
       " 'Deal Music',\n",
       " \"Bio c' Bon\",\n",
       " 'Carrefour Market Hyères']"
      ]
     },
     "execution_count": 124,
     "metadata": {},
     "output_type": "execute_result"
    }
   ],
   "source": [
    "determine_similar(placeName = \"Lidl\")"
   ]
  },
  {
   "cell_type": "code",
   "execution_count": 125,
   "metadata": {},
   "outputs": [
    {
     "name": "stderr",
     "output_type": "stream",
     "text": [
      "C:\\Users\\Lenovo_T530\\Anaconda3\\lib\\site-packages\\gensim\\matutils.py:737: FutureWarning: Conversion of the second argument of issubdtype from `int` to `np.signedinteger` is deprecated. In future, it will be treated as `np.int32 == np.dtype(int).type`.\n",
      "  if np.issubdtype(vec.dtype, np.int):\n"
     ]
    },
    {
     "data": {
      "text/plain": [
       "['Eglise Anglicane',\n",
       " 'Galerie de la Marine',\n",
       " 'Mairie',\n",
       " 'Fitlane Mougins',\n",
       " 'Sovrana',\n",
       " 'Rauba Capeu',\n",
       " 'Mandelieu-la-Napoule',\n",
       " 'Cap Ferrat',\n",
       " 'Moulin du Haut Jasson',\n",
       " 'Galerie Art Evolution']"
      ]
     },
     "execution_count": 125,
     "metadata": {},
     "output_type": "execute_result"
    }
   ],
   "source": [
    "determine_similar(placeName = \"Mairie d'Antibes\")"
   ]
  },
  {
   "cell_type": "code",
   "execution_count": 136,
   "metadata": {},
   "outputs": [
    {
     "name": "stderr",
     "output_type": "stream",
     "text": [
      "C:\\Users\\Lenovo_T530\\Anaconda3\\lib\\site-packages\\gensim\\matutils.py:737: FutureWarning: Conversion of the second argument of issubdtype from `int` to `np.signedinteger` is deprecated. In future, it will be treated as `np.int32 == np.dtype(int).type`.\n",
      "  if np.issubdtype(vec.dtype, np.int):\n"
     ]
    },
    {
     "data": {
      "text/plain": [
       "['Docteur Philippe Kestemont',\n",
       " 'Navarre Philippe',\n",
       " 'Dazur Immobilier',\n",
       " 'ACR Expertise',\n",
       " 'Agence Anthalia',\n",
       " \"Le Carré d'Art\",\n",
       " 'La Grangea',\n",
       " 'CIC',\n",
       " 'Clés Talons Minute',\n",
       " \"Tribunal d'Instance\"]"
      ]
     },
     "execution_count": 136,
     "metadata": {},
     "output_type": "execute_result"
    }
   ],
   "source": [
    "#Doctor\n",
    "determine_similar(placeName = \"Navarre Philippe\")"
   ]
  },
  {
   "cell_type": "markdown",
   "metadata": {},
   "source": [
    "<div class=\"alert alert-warning\">\n",
    "We can notice that for the different tests performed most of the similar places correspond to the same category of the place in question (Restaurant, Hotel, Hyper/super market, Camping, etc, which means that the model detecs patterns that can be fed to a classifier and potentially perform well. \n",
    "</div>"
   ]
  },
  {
   "cell_type": "markdown",
   "metadata": {},
   "source": [
    "## Creating New Classes"
   ]
  },
  {
   "cell_type": "markdown",
   "metadata": {},
   "source": [
    "<div class=\"alert alert-warning\">\n",
    "The scrapped data comes with a column called categoryNames. This column contains a lot of noise, empty values,a lot of redunduncy, same element having multiple labels,other elements without labels, and so on. So it would be impossible to feed it to a classifier as it is. Instead, we will try to rely on the information it provides in order to automatize the labeling process \n",
    "</div>"
   ]
  },
  {
   "cell_type": "code",
   "execution_count": 143,
   "metadata": {},
   "outputs": [],
   "source": [
    "# Create some holders for the existing categories\n",
    "\n",
    "categories_1 = list(df_pl.categoryName.unique())\n",
    "categories_2 = list(df_pl.categoryName.unique())\n",
    "categories_3 = list(df_pl.categoryName.unique())\n",
    "categories_4 = list(df_pl.categoryName.unique())\n",
    "categories_5 = list(df_pl.categoryName.unique())\n",
    "categories_6 = list(df_pl.categoryName.unique())\n",
    "categories_7 = list(df_pl.categoryName.unique())\n",
    "\n",
    "# Initialize the new_cat dictionnary that will have our new categories as a key and the categoryNames \n",
    "# that were associated to it as the corresponding value\n",
    "\n",
    "new_cat={}\n",
    "\n",
    "\n",
    "#First Class : Restaurant\n",
    "\n",
    "S=0\n",
    "new_cat['Restaurant'] =  []\n",
    "for k in categories_1 : \n",
    "    if isinstance(k,str) :\n",
    "        #Add any element whom categoryName contain at least one of these words\n",
    "        if set(k.split()).intersection(['Food','Restaurant','Café','Bar','Club','Coffee','Ice','Pizza','Snack',\n",
    "                                            'Breakfast','Lunch','Dinner','Drink','Wine','Beer','Winery','Creperie','Bakery',\n",
    "                                            'Burger','Chicken','Fish','Seafood','Creperies','Restaurants','Bars','Patisserie/Cake',\n",
    "                                           'Burgers','Salad','Sandwiches','Houses','Fruits','Cafe','Cafes','Vegetarian','Vegan',\n",
    "                                           'Desserts','Diners','Halal','Tea','Meat','Cafeteria',\"Sandwich\",\"Diner\"]) :\n",
    "            #print(k)\n",
    "            new_cat['Restaurant'].append(k)\n",
    "            categories_2.pop(categories_2.index(k))\n",
    "            categories_3.pop(categories_3.index(k))\n",
    "            categories_4.pop(categories_4.index(k))\n",
    "            categories_5.pop(categories_5.index(k))\n",
    "            categories_6.pop(categories_6.index(k))\n",
    "            categories_7.pop(categories_7.index(k))\n",
    "\n",
    "            S+=1\n",
    "\n",
    "            \n",
    "#Second Class : Hotel\n",
    "\n",
    "            \n",
    "            \n",
    "S=0\n",
    "new_cat['Hotel'] = []\n",
    "for k in categories_2 : \n",
    "    if isinstance(k,str) :\n",
    "        if set(k.split()).intersection(['Hotel','Hotels','Lodging']) :\n",
    "            #print(k)\n",
    "            new_cat['Hotel'].append(k)\n",
    "            categories_3.pop(categories_3.index(k))\n",
    "            categories_4.pop(categories_4.index(k))\n",
    "            categories_5.pop(categories_5.index(k))\n",
    "            categories_6.pop(categories_6.index(k))\n",
    "            categories_7.pop(categories_7.index(k))\n",
    "            S+=1\n",
    "\n",
    "#Third Class : Grocery\n",
    "\n",
    "            \n",
    "S=0\n",
    "new_cat['Grocery'] = []\n",
    "for k in categories_3 : \n",
    "    if isinstance(k,str) :\n",
    "        if set(k.split()).intersection(['Grocery','Supermarket','Market']) :\n",
    "            #print(k)\n",
    "            new_cat['Grocery'].append(k)\n",
    "            categories_4.pop(categories_4.index(k))\n",
    "            categories_5.pop(categories_5.index(k))\n",
    "            categories_6.pop(categories_6.index(k))\n",
    "            categories_7.pop(categories_7.index(k))\n",
    "            S+=1\n",
    "            \n",
    "#Fourth Class : Shopping\n",
    "            \n",
    "S=0\n",
    "new_cat['Shopping'] = []\n",
    "for k in categories_4 : \n",
    "    if isinstance(k,str) :\n",
    "        if set(k.split()).intersection([\"Store\",\"Stores\",\"Shops\",\"Fashion\",\"Boutique\",\"Shop\",\"Shopping\",\"Mall\",\"Clothing\",\n",
    "                                        \"Accessories\",'Lingerie']) :\n",
    "            #print(k)\n",
    "            new_cat['Shopping'].append(k)\n",
    "            categories_5.pop(categories_5.index(k))\n",
    "            categories_6.pop(categories_6.index(k))\n",
    "            categories_7.pop(categories_7.index(k))\n",
    "            S+=1\n",
    "            \n",
    "#Fifth Class : Entertainment\n",
    "            \n",
    "S=0\n",
    "new_cat['Entertainment'] = []\n",
    "for k in categories_5 : \n",
    "    if isinstance(k,str) :\n",
    "        if set(k.split()).intersection([\"Art\",\"Museum\",\"Park\",\"Stadium\",\"Historic\",\"Beach\",\"Pub\",\"Parks\",\"Sports\",\n",
    "                                        \"Sport\",\"Travel\",\"Boating\",\"Rental\",\"Tennis\",\"Gyms\",\"Theater\",\"Museums\",\"Arts\",\n",
    "                                       \"Cinema\",\"Club\",\"Clubs\",\"Pools\",\"Gardens\",\"Stadiums\",\"Ski\"]) :\n",
    "            #print(k)\n",
    "            new_cat['Entertainment'].append(k)\n",
    "            categories_6.pop(categories_6.index(k))\n",
    "            categories_7.pop(categories_7.index(k))\n",
    "            S+=1\n",
    "            \n",
    "#Sixth Class : Public\n",
    "            \n",
    "S=0\n",
    "new_cat['Public'] = []\n",
    "for k in categories_6 : \n",
    "    if isinstance(k,str) :\n",
    "        if set(k.split()).intersection([\"Public\",\"Airports\",\"Police\",\"University\",\"Universities\",\"Libraries\",\"Hospital\",\n",
    "                                        \"Post\",\"School\",\"Schools\",\"Mairie\",\"Justice\"]) :\n",
    "            #print(k)\n",
    "            new_cat['Public'].append(k)\n",
    "            categories_7.pop(categories_7.index(k))\n",
    "            S+=1\n",
    "\n",
    "# Seventh Class: Other \n",
    "new_cat[\"Other\"] = categories_7\n"
   ]
  },
  {
   "cell_type": "markdown",
   "metadata": {},
   "source": [
    "## Creating Features dataFrame\n"
   ]
  },
  {
   "cell_type": "markdown",
   "metadata": {},
   "source": [
    "<div class=\"alert alert-warning\">\n",
    "The Idea behind the classification problem that we want to define is to map each place vector to each new label. So the features that would be fed into the classifier are the places vectors components. \n",
    "</div>"
   ]
  },
  {
   "cell_type": "code",
   "execution_count": 144,
   "metadata": {},
   "outputs": [],
   "source": [
    "# Creating a Table with 'Places' and their corresponding vectors \n",
    "\n",
    "classData = pd.DataFrame()\n",
    "classData['Places'] = placeNames\n",
    "for i in range(len(model.docvecs['0'])) : \n",
    "    classData['f'+str(i+1)] = [0]*len(classData)\n",
    "    \n",
    "j=0\n",
    "try :\n",
    "    for vector in model.docvecs :\n",
    "        classData.loc[j,'f1':'f'+str(len(model.docvecs['0']))] = vector\n",
    "        j+=1\n",
    "except: \n",
    "    pass\n"
   ]
  },
  {
   "cell_type": "code",
   "execution_count": 145,
   "metadata": {},
   "outputs": [
    {
     "name": "stderr",
     "output_type": "stream",
     "text": [
      "C:\\Users\\Lenovo_T530\\Anaconda3\\lib\\site-packages\\ipykernel_launcher.py:8: SettingWithCopyWarning: \n",
      "A value is trying to be set on a copy of a slice from a DataFrame\n",
      "\n",
      "See the caveats in the documentation: http://pandas.pydata.org/pandas-docs/stable/indexing.html#indexing-view-versus-copy\n",
      "  \n",
      "C:\\Users\\Lenovo_T530\\Anaconda3\\lib\\site-packages\\pandas\\core\\indexing.py:194: SettingWithCopyWarning: \n",
      "A value is trying to be set on a copy of a slice from a DataFrame\n",
      "\n",
      "See the caveats in the documentation: http://pandas.pydata.org/pandas-docs/stable/indexing.html#indexing-view-versus-copy\n",
      "  self._setitem_with_indexer(indexer, value)\n"
     ]
    }
   ],
   "source": [
    "#Adding a Labels column to the previous table filled with the newly defined classes \n",
    "\n",
    "classData['Labels'] = [0]*len(classData)\n",
    "\n",
    "for i in range(len(classData)) : \n",
    "    for key in new_cat.keys():\n",
    "        if set(new_cat[key]).intersection(list(df_pl[df_pl['title'] == classData['Places'][i]]['categoryName'].unique())):\n",
    "            classData['Labels'][i] = key\n",
    "            break"
   ]
  },
  {
   "cell_type": "code",
   "execution_count": 146,
   "metadata": {},
   "outputs": [
    {
     "data": {
      "text/html": [
       "<div>\n",
       "<style scoped>\n",
       "    .dataframe tbody tr th:only-of-type {\n",
       "        vertical-align: middle;\n",
       "    }\n",
       "\n",
       "    .dataframe tbody tr th {\n",
       "        vertical-align: top;\n",
       "    }\n",
       "\n",
       "    .dataframe thead th {\n",
       "        text-align: right;\n",
       "    }\n",
       "</style>\n",
       "<table border=\"1\" class=\"dataframe\">\n",
       "  <thead>\n",
       "    <tr style=\"text-align: right;\">\n",
       "      <th></th>\n",
       "      <th>Places</th>\n",
       "      <th>f1</th>\n",
       "      <th>f2</th>\n",
       "      <th>f3</th>\n",
       "      <th>f4</th>\n",
       "      <th>f5</th>\n",
       "      <th>f6</th>\n",
       "      <th>f7</th>\n",
       "      <th>f8</th>\n",
       "      <th>f9</th>\n",
       "      <th>...</th>\n",
       "      <th>f12</th>\n",
       "      <th>f13</th>\n",
       "      <th>f14</th>\n",
       "      <th>f15</th>\n",
       "      <th>f16</th>\n",
       "      <th>f17</th>\n",
       "      <th>f18</th>\n",
       "      <th>f19</th>\n",
       "      <th>f20</th>\n",
       "      <th>Labels</th>\n",
       "    </tr>\n",
       "  </thead>\n",
       "  <tbody>\n",
       "    <tr>\n",
       "      <th>0</th>\n",
       "      <td>McDonald's</td>\n",
       "      <td>4.516995</td>\n",
       "      <td>3.674039</td>\n",
       "      <td>0.387329</td>\n",
       "      <td>-0.061639</td>\n",
       "      <td>4.342648</td>\n",
       "      <td>0.137342</td>\n",
       "      <td>0.355893</td>\n",
       "      <td>-0.370287</td>\n",
       "      <td>1.990710</td>\n",
       "      <td>...</td>\n",
       "      <td>-0.533253</td>\n",
       "      <td>-3.933933</td>\n",
       "      <td>2.300787</td>\n",
       "      <td>2.753358</td>\n",
       "      <td>-1.593927</td>\n",
       "      <td>0.267052</td>\n",
       "      <td>2.305595</td>\n",
       "      <td>-1.642172</td>\n",
       "      <td>4.793622</td>\n",
       "      <td>Restaurant</td>\n",
       "    </tr>\n",
       "    <tr>\n",
       "      <th>1</th>\n",
       "      <td>Barbarac</td>\n",
       "      <td>1.943647</td>\n",
       "      <td>5.263275</td>\n",
       "      <td>-0.747794</td>\n",
       "      <td>-1.327519</td>\n",
       "      <td>3.915861</td>\n",
       "      <td>-4.322398</td>\n",
       "      <td>-5.025043</td>\n",
       "      <td>-2.499191</td>\n",
       "      <td>2.017468</td>\n",
       "      <td>...</td>\n",
       "      <td>0.869149</td>\n",
       "      <td>-2.314972</td>\n",
       "      <td>0.157298</td>\n",
       "      <td>4.299372</td>\n",
       "      <td>-1.587854</td>\n",
       "      <td>-3.976451</td>\n",
       "      <td>4.058023</td>\n",
       "      <td>0.742681</td>\n",
       "      <td>2.237935</td>\n",
       "      <td>Restaurant</td>\n",
       "    </tr>\n",
       "    <tr>\n",
       "      <th>2</th>\n",
       "      <td>Café de Paris</td>\n",
       "      <td>2.548668</td>\n",
       "      <td>4.653115</td>\n",
       "      <td>2.008550</td>\n",
       "      <td>-5.955188</td>\n",
       "      <td>2.759114</td>\n",
       "      <td>-1.478038</td>\n",
       "      <td>0.369322</td>\n",
       "      <td>2.630619</td>\n",
       "      <td>2.033597</td>\n",
       "      <td>...</td>\n",
       "      <td>2.003682</td>\n",
       "      <td>1.895547</td>\n",
       "      <td>-8.388199</td>\n",
       "      <td>8.863963</td>\n",
       "      <td>2.095098</td>\n",
       "      <td>-4.405679</td>\n",
       "      <td>1.684609</td>\n",
       "      <td>-3.076573</td>\n",
       "      <td>-3.560330</td>\n",
       "      <td>Restaurant</td>\n",
       "    </tr>\n",
       "    <tr>\n",
       "      <th>3</th>\n",
       "      <td>La Place de Mougins</td>\n",
       "      <td>0.243454</td>\n",
       "      <td>3.985611</td>\n",
       "      <td>0.961955</td>\n",
       "      <td>-2.837933</td>\n",
       "      <td>4.193131</td>\n",
       "      <td>-0.039198</td>\n",
       "      <td>1.716041</td>\n",
       "      <td>3.026700</td>\n",
       "      <td>3.789930</td>\n",
       "      <td>...</td>\n",
       "      <td>6.565965</td>\n",
       "      <td>0.999979</td>\n",
       "      <td>0.342077</td>\n",
       "      <td>1.355693</td>\n",
       "      <td>5.362658</td>\n",
       "      <td>0.744635</td>\n",
       "      <td>8.035771</td>\n",
       "      <td>-0.877834</td>\n",
       "      <td>-4.477932</td>\n",
       "      <td>Restaurant</td>\n",
       "    </tr>\n",
       "    <tr>\n",
       "      <th>4</th>\n",
       "      <td>L'Amandier de Mougins</td>\n",
       "      <td>-1.441823</td>\n",
       "      <td>-3.707956</td>\n",
       "      <td>-0.142111</td>\n",
       "      <td>-3.996747</td>\n",
       "      <td>2.254639</td>\n",
       "      <td>2.117974</td>\n",
       "      <td>-4.879098</td>\n",
       "      <td>2.987168</td>\n",
       "      <td>2.454102</td>\n",
       "      <td>...</td>\n",
       "      <td>-2.458864</td>\n",
       "      <td>-0.206459</td>\n",
       "      <td>0.828624</td>\n",
       "      <td>3.484929</td>\n",
       "      <td>0.422429</td>\n",
       "      <td>-0.977357</td>\n",
       "      <td>3.117356</td>\n",
       "      <td>1.003758</td>\n",
       "      <td>-4.511444</td>\n",
       "      <td>Restaurant</td>\n",
       "    </tr>\n",
       "  </tbody>\n",
       "</table>\n",
       "<p>5 rows × 22 columns</p>\n",
       "</div>"
      ],
      "text/plain": [
       "                  Places        f1        f2        f3        f4        f5  \\\n",
       "0             McDonald's  4.516995  3.674039  0.387329 -0.061639  4.342648   \n",
       "1               Barbarac  1.943647  5.263275 -0.747794 -1.327519  3.915861   \n",
       "2          Café de Paris  2.548668  4.653115  2.008550 -5.955188  2.759114   \n",
       "3    La Place de Mougins  0.243454  3.985611  0.961955 -2.837933  4.193131   \n",
       "4  L'Amandier de Mougins -1.441823 -3.707956 -0.142111 -3.996747  2.254639   \n",
       "\n",
       "         f6        f7        f8        f9     ...           f12       f13  \\\n",
       "0  0.137342  0.355893 -0.370287  1.990710     ...     -0.533253 -3.933933   \n",
       "1 -4.322398 -5.025043 -2.499191  2.017468     ...      0.869149 -2.314972   \n",
       "2 -1.478038  0.369322  2.630619  2.033597     ...      2.003682  1.895547   \n",
       "3 -0.039198  1.716041  3.026700  3.789930     ...      6.565965  0.999979   \n",
       "4  2.117974 -4.879098  2.987168  2.454102     ...     -2.458864 -0.206459   \n",
       "\n",
       "        f14       f15       f16       f17       f18       f19       f20  \\\n",
       "0  2.300787  2.753358 -1.593927  0.267052  2.305595 -1.642172  4.793622   \n",
       "1  0.157298  4.299372 -1.587854 -3.976451  4.058023  0.742681  2.237935   \n",
       "2 -8.388199  8.863963  2.095098 -4.405679  1.684609 -3.076573 -3.560330   \n",
       "3  0.342077  1.355693  5.362658  0.744635  8.035771 -0.877834 -4.477932   \n",
       "4  0.828624  3.484929  0.422429 -0.977357  3.117356  1.003758 -4.511444   \n",
       "\n",
       "       Labels  \n",
       "0  Restaurant  \n",
       "1  Restaurant  \n",
       "2  Restaurant  \n",
       "3  Restaurant  \n",
       "4  Restaurant  \n",
       "\n",
       "[5 rows x 22 columns]"
      ]
     },
     "execution_count": 146,
     "metadata": {},
     "output_type": "execute_result"
    }
   ],
   "source": [
    "# The Table looks like this \n",
    "classData.head(5)"
   ]
  },
  {
   "cell_type": "code",
   "execution_count": 149,
   "metadata": {},
   "outputs": [],
   "source": [
    "#Save the table because the labelling operation takes some time \n",
    "\n",
    "classData.to_csv(\"classData.csv\",sep=\",\")"
   ]
  },
  {
   "cell_type": "markdown",
   "metadata": {},
   "source": [
    "## Data distribution among the new classes \n"
   ]
  },
  {
   "cell_type": "code",
   "execution_count": 150,
   "metadata": {},
   "outputs": [
    {
     "name": "stdout",
     "output_type": "stream",
     "text": [
      "Number of elements with Label \"Restaurant\": 1298\n",
      "Number of elements with Label \"Hotel\": 153\n",
      "Number of elements with Label \"Grocery\": 5\n",
      "Number of elements with Label \"Shopping\": 534\n",
      "Number of elements with Label \"Divertissement\": 0\n",
      "Number of elements with Label \"Public\": 16\n",
      "Number of elements with Label \"Other\": 807\n"
     ]
    }
   ],
   "source": [
    "print('Number of elements with Label \"Restaurant\":',len(classData[classData['Labels'] == 'Restaurant']))\n",
    "print('Number of elements with Label \"Hotel\":',len(classData[classData['Labels'] == 'Hotel']))\n",
    "print('Number of elements with Label \"Grocery\":',len(classData[classData['Labels'] == 'Grocery']))\n",
    "print('Number of elements with Label \"Shopping\":',len(classData[classData['Labels'] == 'Shopping']))\n",
    "print('Number of elements with Label \"Divertissement\":',len(classData[classData['Labels'] == 'Divertissement']))\n",
    "print('Number of elements with Label \"Public\":',len(classData[classData['Labels'] == 'Public']))\n",
    "print('Number of elements with Label \"Other\":',len(classData[classData['Labels'] == 'Other']))"
   ]
  },
  {
   "cell_type": "markdown",
   "metadata": {},
   "source": [
    "<div class=\"alert alert-warning\">\n",
    "There is a big imbalance between the classes in terms of number or elements.\n",
    "</div>"
   ]
  },
  {
   "cell_type": "markdown",
   "metadata": {},
   "source": [
    "## Construction training & test sets for the classifier "
   ]
  },
  {
   "cell_type": "markdown",
   "metadata": {},
   "source": [
    "<div class=\"alert alert-warning\">\n",
    "Because of class imbalance, it would be hard to train the classifier on that data as it is. That's why we will try to define a first classification problem with less classes: Restaurant, Hotel and Shopping only, and we will try to gather the maximum elements we can for each of them while enssuring that there isn't a huge different between them in terms of number of training examples. \n",
    "</div>"
   ]
  },
  {
   "cell_type": "code",
   "execution_count": 161,
   "metadata": {},
   "outputs": [],
   "source": [
    "# Let's start first by the following distribution : \n",
    "# Training  Restaurant: 500,     Shopping: 400,      Hotel: 100 \n",
    "\n",
    "df1 = classData[classData['Labels'] == 'Restaurant'][0:500]\n",
    "df2 = classData[classData['Labels'] == 'Shopping'][0:400]\n",
    "df3 = classData[classData['Labels'] == 'Hotel'][0:100]\n",
    "frames = [df1, df2, df3]\n",
    "trainingData = pd.concat(frames)\n",
    "trainingData = trainingData.sample(frac=1)\n",
    "trainTargets = trainingData['Labels']\n",
    "\n",
    "trainingData = trainingData.drop([\"Labels\"],1)\n",
    "trainingData = trainingData.drop([\"Places\"],1)\n",
    "#trainingData.index = range(len(trainingData))\n",
    "\n",
    "#################################################################\n",
    "\n",
    "#Test Restaurant : 200, Shopping: 134 , Hotel: 53\n",
    "\n",
    "df4 = classData[classData['Labels'] == 'Restaurant'][501:700]\n",
    "df5 = classData[classData['Labels'] == 'Shopping'][401:]\n",
    "df6 = classData[classData['Labels'] == 'Hotel'][100:]\n",
    "frames_2 = [df4, df5, df6]\n",
    "testData = pd.concat(frames_2)\n",
    "testData = testData.sample(frac=1)\n",
    "testTargets = testData['Labels']\n",
    "\n",
    "testData = testData.drop([\"Labels\"],1)\n",
    "testData = testData.drop([\"Places\"],1)\n",
    "#testData.index = range(len(testData))\n"
   ]
  },
  {
   "cell_type": "markdown",
   "metadata": {},
   "source": [
    "\n",
    "## Encoding Labels "
   ]
  },
  {
   "cell_type": "code",
   "execution_count": 162,
   "metadata": {},
   "outputs": [],
   "source": [
    "## Mapping the strings labels to numerical values\n",
    "\n",
    "encoderFunct= LabelEncoder()\n",
    "trTargets=pd.DataFrame()\n",
    "teTargets=pd.DataFrame()\n",
    "\n",
    "trTargets['Targets']= encoderFunct.fit_transform(trainTargets)\n",
    "teTargets['Targets']= encoderFunct.fit_transform(testTargets)"
   ]
  },
  {
   "cell_type": "markdown",
   "metadata": {},
   "source": [
    "## Training a classifier "
   ]
  },
  {
   "cell_type": "code",
   "execution_count": 163,
   "metadata": {},
   "outputs": [
    {
     "name": "stderr",
     "output_type": "stream",
     "text": [
      "C:\\Users\\Lenovo_T530\\Anaconda3\\lib\\site-packages\\sklearn\\utils\\validation.py:578: DataConversionWarning: A column-vector y was passed when a 1d array was expected. Please change the shape of y to (n_samples, ), for example using ravel().\n",
      "  y = column_or_1d(y, warn=True)\n"
     ]
    }
   ],
   "source": [
    "## Training a Gradient Boosting classifier \n",
    "\n",
    "classifier = GradientBoostingClassifier(learning_rate=0.1, n_estimators=100, max_depth=3)\n",
    "classifier.fit(trainingData,trTargets)\n",
    "test_pred = classifier.predict(testData)"
   ]
  },
  {
   "cell_type": "code",
   "execution_count": 154,
   "metadata": {},
   "outputs": [
    {
     "name": "stdout",
     "output_type": "stream",
     "text": [
      "Accuracy : 0.7922077922077922\n"
     ]
    }
   ],
   "source": [
    "## computing the overall accuracy\n",
    "\n",
    "S=0\n",
    "for i in range(len(teTargets)): \n",
    "    if teTargets['Targets'][i] == test_pred[i]:\n",
    "        \n",
    "        S+=1\n",
    "print(\"Accuracy :\", S/len(teTargets))"
   ]
  },
  {
   "cell_type": "markdown",
   "metadata": {},
   "source": [
    "<div class=\"alert alert-warning\">\n",
    "The overall accuracy is around 80%, which seems good (compared to our small datasets). However, we had an imbalance between the classes in our training data, that's why we need to check the intra-classes accuracies\n",
    "</div>"
   ]
  },
  {
   "cell_type": "code",
   "execution_count": 155,
   "metadata": {},
   "outputs": [
    {
     "name": "stdout",
     "output_type": "stream",
     "text": [
      "Shopping Accuracy : 0.849624060150376\n",
      "Restaurant Accuracy : 0.8492462311557789\n",
      "Hotel Accuracy : 0.4339622641509434\n"
     ]
    }
   ],
   "source": [
    "# Computing the accuracy inside each of the 3 classes\n",
    "#Shopping : 2 , Restaurant : 1 , Hotel : 0\n",
    "\n",
    "S=0\n",
    "for i in range(len(teTargets)): \n",
    "    if teTargets['Targets'][i] == 2 :\n",
    "        if  test_pred[i] == 2:\n",
    "            S+=1\n",
    "            \n",
    "            \n",
    "S1=0\n",
    "for i in range(len(teTargets)): \n",
    "    if teTargets['Targets'][i] == 1 :\n",
    "        if  test_pred[i] == 1:\n",
    "            S1+=1\n",
    "            \n",
    "S2=0\n",
    "for i in range(len(teTargets)): \n",
    "    if teTargets['Targets'][i] == 0 :\n",
    "        if  test_pred[i] == 0:\n",
    "            S2+=1\n",
    "            \n",
    "            \n",
    "print(\"Shopping Accuracy :\", S/len(teTargets[teTargets['Targets']==2]))\n",
    "print(\"Restaurant Accuracy :\", S1/len(teTargets[teTargets['Targets']==1]))\n",
    "print(\"Hotel Accuracy :\", S2/len(teTargets[teTargets['Targets']==0]))"
   ]
  },
  {
   "cell_type": "markdown",
   "metadata": {},
   "source": [
    "<div class=\"alert alert-warning\">\n",
    "As expected, the accuracy inside the \"hotel\" class is poor compared to the shopphing and restaurant accuracies, as it is the class the least represented in the dataset\n",
    "</div>"
   ]
  },
  {
   "cell_type": "markdown",
   "metadata": {},
   "source": [
    "<div class=\"alert alert-warning\">\n",
    "Let's redefine our training set and test set in order to have exactly the same number of elements per each class both in training set and in the test set \n",
    "</div>"
   ]
  },
  {
   "cell_type": "code",
   "execution_count": 174,
   "metadata": {},
   "outputs": [],
   "source": [
    "df1 = classData[classData['Labels'] == 'Restaurant'][0:100]\n",
    "df2 = classData[classData['Labels'] == 'Shopping'][0:100]\n",
    "df3 = classData[classData['Labels'] == 'Hotel'][0:100]\n",
    "frames = [df1, df2, df3]\n",
    "trainingData = pd.concat(frames)\n",
    "trainingData = trainingData.sample(frac=1)\n",
    "trainTargets = trainingData['Labels']\n",
    "\n",
    "trainingData = trainingData.drop([\"Labels\"],1)\n",
    "trainingData = trainingData.drop([\"Places\"],1)\n",
    "#trainingData.index = range(len(trainingData))\n",
    "\n",
    "#################################################################\n",
    "\n",
    "df4 = classData[classData['Labels'] == 'Restaurant'][101:152]\n",
    "df5 = classData[classData['Labels'] == 'Shopping'][101:152]\n",
    "df6 = classData[classData['Labels'] == 'Hotel'][101:152]\n",
    "frames_2 = [df4, df5, df6]\n",
    "testData = pd.concat(frames_2)\n",
    "testData = testData.sample(frac=1)\n",
    "testTargets = testData['Labels']\n",
    "\n",
    "testData = testData.drop([\"Labels\"],1)\n",
    "testData = testData.drop([\"Places\"],1)\n",
    "#testData.index = range(len(testData))\n"
   ]
  },
  {
   "cell_type": "code",
   "execution_count": 175,
   "metadata": {},
   "outputs": [],
   "source": [
    "encoderFunct= LabelEncoder()\n",
    "trTargets=pd.DataFrame()\n",
    "teTargets=pd.DataFrame()\n",
    "\n",
    "trTargets['Targets']= encoderFunct.fit_transform(trainTargets)\n",
    "teTargets['Targets']= encoderFunct.fit_transform(testTargets)"
   ]
  },
  {
   "cell_type": "code",
   "execution_count": 178,
   "metadata": {},
   "outputs": [
    {
     "name": "stderr",
     "output_type": "stream",
     "text": [
      "C:\\Users\\Lenovo_T530\\Anaconda3\\lib\\site-packages\\sklearn\\utils\\validation.py:578: DataConversionWarning: A column-vector y was passed when a 1d array was expected. Please change the shape of y to (n_samples, ), for example using ravel().\n",
      "  y = column_or_1d(y, warn=True)\n"
     ]
    }
   ],
   "source": [
    "classifier2 = GradientBoostingClassifier(learning_rate=0.1, n_estimators=100, max_depth=3)\n",
    "classifier2.fit(trainingData,trTargets)\n",
    "test_pred = classifier2.predict(testData)"
   ]
  },
  {
   "cell_type": "code",
   "execution_count": 179,
   "metadata": {},
   "outputs": [
    {
     "name": "stdout",
     "output_type": "stream",
     "text": [
      "Accuracy : 0.7516339869281046\n"
     ]
    }
   ],
   "source": [
    "S=0\n",
    "for i in range(len(teTargets)): \n",
    "    if teTargets['Targets'][i] == test_pred[i]:\n",
    "        \n",
    "        S+=1\n",
    "print(\"Accuracy :\", S/len(teTargets))"
   ]
  },
  {
   "cell_type": "code",
   "execution_count": 160,
   "metadata": {},
   "outputs": [
    {
     "name": "stdout",
     "output_type": "stream",
     "text": [
      "Shopping Accuracy : 0.803921568627451\n",
      "Restaurant Accuracy : 0.7450980392156863\n",
      "Hotel Accuracy : 0.7058823529411765\n"
     ]
    }
   ],
   "source": [
    "#Shopping : 2 , Restaurant : 1 , Hotel : 0\n",
    "\n",
    "S=0\n",
    "for i in range(len(teTargets)): \n",
    "    if teTargets['Targets'][i] == 2 :\n",
    "        if  test_pred[i] == 2:\n",
    "            S+=1\n",
    "            \n",
    "            \n",
    "S1=0\n",
    "for i in range(len(teTargets)): \n",
    "    if teTargets['Targets'][i] == 1 :\n",
    "        if  test_pred[i] == 1:\n",
    "            S1+=1\n",
    "            \n",
    "S2=0\n",
    "for i in range(len(teTargets)): \n",
    "    if teTargets['Targets'][i] == 0 :\n",
    "        if  test_pred[i] == 0:\n",
    "            S2+=1\n",
    "            \n",
    "            \n",
    "print(\"Shopping Accuracy :\", S/len(teTargets[teTargets['Targets']==2]))\n",
    "print(\"Restaurant Accuracy :\", S1/len(teTargets[teTargets['Targets']==1]))\n",
    "print(\"Hotel Accuracy :\", S2/len(teTargets[teTargets['Targets']==0]))"
   ]
  },
  {
   "cell_type": "markdown",
   "metadata": {},
   "source": [
    "<div class=\"alert alert-warning\">\n",
    "The \"hotel\" class accuracy is much better than in the previous case. However, the size of the test data being extremly small, we can not conclude anything about the scalability of the model\n",
    "</div>"
   ]
  },
  {
   "cell_type": "markdown",
   "metadata": {},
   "source": [
    "## Further work"
   ]
  },
  {
   "cell_type": "markdown",
   "metadata": {},
   "source": [
    "\n",
    "<p>Figure out methods to enhance the initial data, either by scrapping more sources or by data augmentation techniques,etc </p>\n",
    "<p>Once more data is available, increase the number of classes and compare the performance of the classifier </p>\n",
    "<p> Optimize the modelparameters, and eventually try other classification algorithms. </p>\n"
   ]
  }
 ],
 "metadata": {
  "kernelspec": {
   "display_name": "Python 3",
   "language": "python",
   "name": "python3"
  },
  "language_info": {
   "codemirror_mode": {
    "name": "ipython",
    "version": 3
   },
   "file_extension": ".py",
   "mimetype": "text/x-python",
   "name": "python",
   "nbconvert_exporter": "python",
   "pygments_lexer": "ipython3",
   "version": "3.6.4"
  }
 },
 "nbformat": 4,
 "nbformat_minor": 2
}
