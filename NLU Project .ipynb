{
 "cells": [
  {
   "cell_type": "markdown",
   "metadata": {},
   "source": [
    "# NLU Project"
   ]
  },
  {
   "cell_type": "code",
   "execution_count": 1,
   "metadata": {},
   "outputs": [],
   "source": [
    "import pandas as pd\n",
    "import matplotlib.pyplot as plt\n",
    "import numpy as np\n"
   ]
  },
  {
   "cell_type": "markdown",
   "metadata": {},
   "source": [
    "### Events and Places CSV Files"
   ]
  },
  {
   "cell_type": "code",
   "execution_count": 111,
   "metadata": {},
   "outputs": [
    {
     "name": "stderr",
     "output_type": "stream",
     "text": [
      "C:\\Users\\Lenovo_T530\\Anaconda3\\lib\\site-packages\\IPython\\core\\interactiveshell.py:2728: DtypeWarning: Columns (3,4,5,7,9,13,17,19) have mixed types. Specify dtype option on import or set low_memory=False.\n",
      "  interactivity=interactivity, compiler=compiler, result=result)\n"
     ]
    }
   ],
   "source": [
    "df1 = pd.read_csv(\"C:\\\\Users\\\\Lenovo_T530\\\\Desktop\\\\Project\\\\cotedazur_events_full.csv\",sep=\",\")\n",
    "df2 = pd.read_csv(\"C:\\\\Users\\\\Lenovo_T530\\\\Desktop\\\\Project\\\\cotedazur_places_full.csv\",sep=\",\")\n",
    "log = pd.read_csv(\"C:\\\\Users\\\\Lenovo_T530\\\\Desktop\\\\Project\\\\log_2018-09.csv\",sep=\",\")\n"
   ]
  },
  {
   "cell_type": "code",
   "execution_count": 114,
   "metadata": {},
   "outputs": [
    {
     "data": {
      "text/plain": [
       "'\"ok i would like to do some activities in Antibes this weekend something to propose ?\"'"
      ]
     },
     "execution_count": 114,
     "metadata": {},
     "output_type": "execute_result"
    }
   ],
   "source": [
    "log.iloc[100]['clean_message']"
   ]
  },
  {
   "cell_type": "code",
   "execution_count": 115,
   "metadata": {},
   "outputs": [
    {
     "data": {
      "text/plain": [
       "'\"find sports activity in cannes\"'"
      ]
     },
     "execution_count": 115,
     "metadata": {},
     "output_type": "execute_result"
    }
   ],
   "source": [
    "log.iloc[90]['clean_message']"
   ]
  },
  {
   "cell_type": "code",
   "execution_count": 3,
   "metadata": {},
   "outputs": [
    {
     "data": {
      "text/html": [
       "<div>\n",
       "<style scoped>\n",
       "    .dataframe tbody tr th:only-of-type {\n",
       "        vertical-align: middle;\n",
       "    }\n",
       "\n",
       "    .dataframe tbody tr th {\n",
       "        vertical-align: top;\n",
       "    }\n",
       "\n",
       "    .dataframe thead th {\n",
       "        text-align: right;\n",
       "    }\n",
       "</style>\n",
       "<table border=\"1\" class=\"dataframe\">\n",
       "  <thead>\n",
       "    <tr style=\"text-align: right;\">\n",
       "      <th></th>\n",
       "      <th>g</th>\n",
       "      <th>event</th>\n",
       "      <th>title</th>\n",
       "      <th>description</th>\n",
       "      <th>long</th>\n",
       "      <th>lat</th>\n",
       "      <th>datetimeBegin</th>\n",
       "      <th>datetimeEnd</th>\n",
       "      <th>place</th>\n",
       "      <th>placeName</th>\n",
       "      <th>...</th>\n",
       "      <th>telephone</th>\n",
       "      <th>email</th>\n",
       "      <th>identifier</th>\n",
       "      <th>publisher</th>\n",
       "      <th>seeAlso</th>\n",
       "      <th>category</th>\n",
       "      <th>sameAs</th>\n",
       "      <th>placeSeeAlso</th>\n",
       "      <th>imgObj</th>\n",
       "      <th>img</th>\n",
       "    </tr>\n",
       "  </thead>\n",
       "  <tbody>\n",
       "    <tr>\n",
       "      <th>0</th>\n",
       "      <td>http://3cixty.com/cotedazur/events</td>\n",
       "      <td>http://data.linkedevents.org/event/00f7c5da-04...</td>\n",
       "      <td>Découverte de notre atelier</td>\n",
       "      <td>Dans notre atelier, nous travaillons la cérami...</td>\n",
       "      <td>7.052935</td>\n",
       "      <td>43.577740</td>\n",
       "      <td>2018-07-24T17:23:00Z</td>\n",
       "      <td>2020-07-24T17:23:00Z</td>\n",
       "      <td>http://data.linkedevents.org/location/2cc6c9fc...</td>\n",
       "      <td>bleu-dargile</td>\n",
       "      <td>...</td>\n",
       "      <td>0686493125</td>\n",
       "      <td>NaN</td>\n",
       "      <td>456</td>\n",
       "      <td>http://www.beeshary.com</td>\n",
       "      <td>NaN</td>\n",
       "      <td>Activités</td>\n",
       "      <td>https://beeshary.com/activites/456-decouverte-...</td>\n",
       "      <td>https://www.facebook.com/bleudargile/</td>\n",
       "      <td>http://data.linkedevents.org/media/1c3ec6e8-73...</td>\n",
       "      <td>https://beeshary.com/1398/decouverte-de-notre-...</td>\n",
       "    </tr>\n",
       "    <tr>\n",
       "      <th>1</th>\n",
       "      <td>http://3cixty.com/cotedazur/events</td>\n",
       "      <td>http://data.linkedevents.org/event/1f60e132-8e...</td>\n",
       "      <td>Pour les grands et petits gourmands.</td>\n",
       "      <td>Poussez les portes de notre boutique pour déco...</td>\n",
       "      <td>3.891076</td>\n",
       "      <td>43.612581</td>\n",
       "      <td>2018-07-24T17:23:00Z</td>\n",
       "      <td>2020-07-24T17:23:00Z</td>\n",
       "      <td>http://data.linkedevents.org/location/513cfc21...</td>\n",
       "      <td>Maison Roux</td>\n",
       "      <td>...</td>\n",
       "      <td>0618809742</td>\n",
       "      <td>NaN</td>\n",
       "      <td>472</td>\n",
       "      <td>http://www.beeshary.com</td>\n",
       "      <td>NaN</td>\n",
       "      <td>Activités</td>\n",
       "      <td>https://beeshary.com/activites/472-pour-les-gr...</td>\n",
       "      <td>https://www.facebook.com/macaronsmaisonroux/</td>\n",
       "      <td>http://data.linkedevents.org/media/03ea98d9-77...</td>\n",
       "      <td>https://beeshary.com/1215/pour-les-grands-et-p...</td>\n",
       "    </tr>\n",
       "    <tr>\n",
       "      <th>2</th>\n",
       "      <td>http://3cixty.com/cotedazur/events</td>\n",
       "      <td>http://data.linkedevents.org/event/220511d2-62...</td>\n",
       "      <td>Dégustation de mes bières artisanales</td>\n",
       "      <td>Passionnée par la montagne, par la gastronomie...</td>\n",
       "      <td>2.813919</td>\n",
       "      <td>42.686115</td>\n",
       "      <td>2018-07-24T17:23:00Z</td>\n",
       "      <td>2020-07-24T17:23:00Z</td>\n",
       "      <td>http://data.linkedevents.org/location/bf02094b...</td>\n",
       "      <td>Brasserie Rull</td>\n",
       "      <td>...</td>\n",
       "      <td>0667362868</td>\n",
       "      <td>NaN</td>\n",
       "      <td>458</td>\n",
       "      <td>http://www.beeshary.com</td>\n",
       "      <td>NaN</td>\n",
       "      <td>Activités</td>\n",
       "      <td>https://beeshary.com/activites/458-degustation...</td>\n",
       "      <td>https://www.facebook.com/Bi%C3%A8re-du-Canigou...</td>\n",
       "      <td>http://data.linkedevents.org/media/6b7a7cb5-f7...</td>\n",
       "      <td>https://beeshary.com/1240/degustation-de-mes-b...</td>\n",
       "    </tr>\n",
       "    <tr>\n",
       "      <th>3</th>\n",
       "      <td>http://3cixty.com/cotedazur/events</td>\n",
       "      <td>http://data.linkedevents.org/event/311be86d-9c...</td>\n",
       "      <td>Venez découvrir mon atelier et mon métier de s...</td>\n",
       "      <td>Venez découvrir mon univers et mon travail. Je...</td>\n",
       "      <td>7.103053</td>\n",
       "      <td>43.624941</td>\n",
       "      <td>2018-07-24T17:23:00Z</td>\n",
       "      <td>2020-07-24T17:23:00Z</td>\n",
       "      <td>http://data.linkedevents.org/location/685703da...</td>\n",
       "      <td>Joël Rat</td>\n",
       "      <td>...</td>\n",
       "      <td>0675053333</td>\n",
       "      <td>NaN</td>\n",
       "      <td>464</td>\n",
       "      <td>http://www.beeshary.com</td>\n",
       "      <td>NaN</td>\n",
       "      <td>Activités</td>\n",
       "      <td>https://beeshary.com/activites/464-venez-decou...</td>\n",
       "      <td>https://www.facebook.com/joel.rat</td>\n",
       "      <td>http://data.linkedevents.org/media/cd385284-bc...</td>\n",
       "      <td>https://beeshary.com/1048/venez-decouvrir-mon-...</td>\n",
       "    </tr>\n",
       "    <tr>\n",
       "      <th>4</th>\n",
       "      <td>http://3cixty.com/cotedazur/events</td>\n",
       "      <td>http://data.linkedevents.org/event/359c12b4-a9...</td>\n",
       "      <td>Visite à la ferme</td>\n",
       "      <td>Visite à la ferme</td>\n",
       "      <td>6.913387</td>\n",
       "      <td>43.958342</td>\n",
       "      <td>2018-07-24T17:23:00Z</td>\n",
       "      <td>2020-07-24T17:23:00Z</td>\n",
       "      <td>http://data.linkedevents.org/location/3cf5f596...</td>\n",
       "      <td>Ferme Lavancia</td>\n",
       "      <td>...</td>\n",
       "      <td>+33612231199</td>\n",
       "      <td>NaN</td>\n",
       "      <td>833</td>\n",
       "      <td>http://www.beeshary.com</td>\n",
       "      <td>NaN</td>\n",
       "      <td>Activités</td>\n",
       "      <td>https://beeshary.com/activites/833-visite-a-la...</td>\n",
       "      <td>https://www.facebook.com/FermeLavancia</td>\n",
       "      <td>http://data.linkedevents.org/media/d3533fc9-00...</td>\n",
       "      <td>https://beeshary.com/2260/visite-a-la-ferme.jpg</td>\n",
       "    </tr>\n",
       "  </tbody>\n",
       "</table>\n",
       "<p>5 rows × 23 columns</p>\n",
       "</div>"
      ],
      "text/plain": [
       "                                    g  \\\n",
       "0  http://3cixty.com/cotedazur/events   \n",
       "1  http://3cixty.com/cotedazur/events   \n",
       "2  http://3cixty.com/cotedazur/events   \n",
       "3  http://3cixty.com/cotedazur/events   \n",
       "4  http://3cixty.com/cotedazur/events   \n",
       "\n",
       "                                               event  \\\n",
       "0  http://data.linkedevents.org/event/00f7c5da-04...   \n",
       "1  http://data.linkedevents.org/event/1f60e132-8e...   \n",
       "2  http://data.linkedevents.org/event/220511d2-62...   \n",
       "3  http://data.linkedevents.org/event/311be86d-9c...   \n",
       "4  http://data.linkedevents.org/event/359c12b4-a9...   \n",
       "\n",
       "                                               title  \\\n",
       "0                       Découverte de notre atelier    \n",
       "1              Pour les grands et petits gourmands.    \n",
       "2              Dégustation de mes bières artisanales   \n",
       "3  Venez découvrir mon atelier et mon métier de s...   \n",
       "4                                  Visite à la ferme   \n",
       "\n",
       "                                         description      long        lat  \\\n",
       "0  Dans notre atelier, nous travaillons la cérami...  7.052935  43.577740   \n",
       "1  Poussez les portes de notre boutique pour déco...  3.891076  43.612581   \n",
       "2  Passionnée par la montagne, par la gastronomie...  2.813919  42.686115   \n",
       "3  Venez découvrir mon univers et mon travail. Je...  7.103053  43.624941   \n",
       "4                                  Visite à la ferme  6.913387  43.958342   \n",
       "\n",
       "          datetimeBegin           datetimeEnd  \\\n",
       "0  2018-07-24T17:23:00Z  2020-07-24T17:23:00Z   \n",
       "1  2018-07-24T17:23:00Z  2020-07-24T17:23:00Z   \n",
       "2  2018-07-24T17:23:00Z  2020-07-24T17:23:00Z   \n",
       "3  2018-07-24T17:23:00Z  2020-07-24T17:23:00Z   \n",
       "4  2018-07-24T17:23:00Z  2020-07-24T17:23:00Z   \n",
       "\n",
       "                                               place       placeName  \\\n",
       "0  http://data.linkedevents.org/location/2cc6c9fc...    bleu-dargile   \n",
       "1  http://data.linkedevents.org/location/513cfc21...     Maison Roux   \n",
       "2  http://data.linkedevents.org/location/bf02094b...  Brasserie Rull   \n",
       "3  http://data.linkedevents.org/location/685703da...        Joël Rat   \n",
       "4  http://data.linkedevents.org/location/3cf5f596...  Ferme Lavancia   \n",
       "\n",
       "                         ...                             telephone email  \\\n",
       "0                        ...                            0686493125   NaN   \n",
       "1                        ...                            0618809742   NaN   \n",
       "2                        ...                            0667362868   NaN   \n",
       "3                        ...                            0675053333   NaN   \n",
       "4                        ...                          +33612231199   NaN   \n",
       "\n",
       "  identifier                publisher  seeAlso   category  \\\n",
       "0        456  http://www.beeshary.com      NaN  Activités   \n",
       "1        472  http://www.beeshary.com      NaN  Activités   \n",
       "2        458  http://www.beeshary.com      NaN  Activités   \n",
       "3        464  http://www.beeshary.com      NaN  Activités   \n",
       "4        833  http://www.beeshary.com      NaN  Activités   \n",
       "\n",
       "                                              sameAs  \\\n",
       "0  https://beeshary.com/activites/456-decouverte-...   \n",
       "1  https://beeshary.com/activites/472-pour-les-gr...   \n",
       "2  https://beeshary.com/activites/458-degustation...   \n",
       "3  https://beeshary.com/activites/464-venez-decou...   \n",
       "4  https://beeshary.com/activites/833-visite-a-la...   \n",
       "\n",
       "                                        placeSeeAlso  \\\n",
       "0              https://www.facebook.com/bleudargile/   \n",
       "1       https://www.facebook.com/macaronsmaisonroux/   \n",
       "2  https://www.facebook.com/Bi%C3%A8re-du-Canigou...   \n",
       "3                  https://www.facebook.com/joel.rat   \n",
       "4             https://www.facebook.com/FermeLavancia   \n",
       "\n",
       "                                              imgObj  \\\n",
       "0  http://data.linkedevents.org/media/1c3ec6e8-73...   \n",
       "1  http://data.linkedevents.org/media/03ea98d9-77...   \n",
       "2  http://data.linkedevents.org/media/6b7a7cb5-f7...   \n",
       "3  http://data.linkedevents.org/media/cd385284-bc...   \n",
       "4  http://data.linkedevents.org/media/d3533fc9-00...   \n",
       "\n",
       "                                                 img  \n",
       "0  https://beeshary.com/1398/decouverte-de-notre-...  \n",
       "1  https://beeshary.com/1215/pour-les-grands-et-p...  \n",
       "2  https://beeshary.com/1240/degustation-de-mes-b...  \n",
       "3  https://beeshary.com/1048/venez-decouvrir-mon-...  \n",
       "4    https://beeshary.com/2260/visite-a-la-ferme.jpg  \n",
       "\n",
       "[5 rows x 23 columns]"
      ]
     },
     "execution_count": 3,
     "metadata": {},
     "output_type": "execute_result"
    }
   ],
   "source": [
    "df1.head()"
   ]
  },
  {
   "cell_type": "code",
   "execution_count": 4,
   "metadata": {},
   "outputs": [
    {
     "data": {
      "text/html": [
       "<div>\n",
       "<style scoped>\n",
       "    .dataframe tbody tr th:only-of-type {\n",
       "        vertical-align: middle;\n",
       "    }\n",
       "\n",
       "    .dataframe tbody tr th {\n",
       "        vertical-align: top;\n",
       "    }\n",
       "\n",
       "    .dataframe thead th {\n",
       "        text-align: right;\n",
       "    }\n",
       "</style>\n",
       "<table border=\"1\" class=\"dataframe\">\n",
       "  <thead>\n",
       "    <tr style=\"text-align: right;\">\n",
       "      <th></th>\n",
       "      <th>g</th>\n",
       "      <th>venue</th>\n",
       "      <th>title</th>\n",
       "      <th>description</th>\n",
       "      <th>lang</th>\n",
       "      <th>telephone</th>\n",
       "      <th>email</th>\n",
       "      <th>url</th>\n",
       "      <th>businessType</th>\n",
       "      <th>categoryName</th>\n",
       "      <th>...</th>\n",
       "      <th>latitude</th>\n",
       "      <th>longitude</th>\n",
       "      <th>postalCode</th>\n",
       "      <th>streetAddress</th>\n",
       "      <th>city</th>\n",
       "      <th>img</th>\n",
       "      <th>seeAlso</th>\n",
       "      <th>publisher</th>\n",
       "      <th>sameAs</th>\n",
       "      <th>topoImportance</th>\n",
       "    </tr>\n",
       "  </thead>\n",
       "  <tbody>\n",
       "    <tr>\n",
       "      <th>0</th>\n",
       "      <td>http://3cixty.com/cotedazur/places</td>\n",
       "      <td>http://data.linkedevents.org/location/592475f1...</td>\n",
       "      <td>Hotel ibis Golfe de Saint Tropez</td>\n",
       "      <td>NaN</td>\n",
       "      <td>NaN</td>\n",
       "      <td>+33498125680</td>\n",
       "      <td>NaN</td>\n",
       "      <td>http://www.accorhotels.com/lien_externe.svlt?g...</td>\n",
       "      <td>http://data.linkedevents.org/kos/foursquare/hotel</td>\n",
       "      <td>Hotel</td>\n",
       "      <td>...</td>\n",
       "      <td>43.2488</td>\n",
       "      <td>6.53906</td>\n",
       "      <td>83310</td>\n",
       "      <td>rue Gaou, 83310 Cogolin, France</td>\n",
       "      <td>Cogolin</td>\n",
       "      <td>https://igx.4sqi.net/img/general/960x561/35597...</td>\n",
       "      <td>NaN</td>\n",
       "      <td>http://www.foursquare.com</td>\n",
       "      <td>https://www.foursquare.com/v/hotel-ibis-golfe-...</td>\n",
       "      <td>NaN</td>\n",
       "    </tr>\n",
       "    <tr>\n",
       "      <th>1</th>\n",
       "      <td>http://3cixty.com/cotedazur/places</td>\n",
       "      <td>http://data.linkedevents.org/location/67965892...</td>\n",
       "      <td>Aéroport de Toulon-Hyères (TLN)</td>\n",
       "      <td>NaN</td>\n",
       "      <td>NaN</td>\n",
       "      <td>+33825018387</td>\n",
       "      <td>NaN</td>\n",
       "      <td>http://www.toulon-hyeres.aeroport.fr</td>\n",
       "      <td>http://data.linkedevents.org/kos/foursquare/ai...</td>\n",
       "      <td>Airport</td>\n",
       "      <td>...</td>\n",
       "      <td>43.0937</td>\n",
       "      <td>6.15869</td>\n",
       "      <td>83400</td>\n",
       "      <td>Boulevard de la Marine, 83400 Hyères, France</td>\n",
       "      <td>Hyères</td>\n",
       "      <td>https://igx.4sqi.net/img/general/720x960/52884...</td>\n",
       "      <td>NaN</td>\n",
       "      <td>http://www.foursquare.com</td>\n",
       "      <td>https://www.foursquare.com/v/a%C3%A9roport-de-...</td>\n",
       "      <td>NaN</td>\n",
       "    </tr>\n",
       "    <tr>\n",
       "      <th>2</th>\n",
       "      <td>http://3cixty.com/cotedazur/places</td>\n",
       "      <td>http://data.linkedevents.org/location/1f07366d...</td>\n",
       "      <td>Althoff Hotel Villa Belrose</td>\n",
       "      <td>NaN</td>\n",
       "      <td>NaN</td>\n",
       "      <td>+33494559797</td>\n",
       "      <td>NaN</td>\n",
       "      <td>http://www.althoffhotels.com</td>\n",
       "      <td>http://data.linkedevents.org/kos/foursquare/hotel</td>\n",
       "      <td>Hotel</td>\n",
       "      <td>...</td>\n",
       "      <td>43.2597</td>\n",
       "      <td>6.60629</td>\n",
       "      <td>83580</td>\n",
       "      <td>Boulevard des Cretes La Grande Bastide, 83580 ...</td>\n",
       "      <td>Gassin</td>\n",
       "      <td>https://igx.4sqi.net/img/general/1440x1920/286...</td>\n",
       "      <td>NaN</td>\n",
       "      <td>http://www.foursquare.com</td>\n",
       "      <td>https://www.foursquare.com/v/althoff-hotel-vil...</td>\n",
       "      <td>NaN</td>\n",
       "    </tr>\n",
       "    <tr>\n",
       "      <th>3</th>\n",
       "      <td>http://3cixty.com/cotedazur/places</td>\n",
       "      <td>http://data.linkedevents.org/location/a8a1f925...</td>\n",
       "      <td>McDonald's</td>\n",
       "      <td>NaN</td>\n",
       "      <td>NaN</td>\n",
       "      <td>+33494563800</td>\n",
       "      <td>NaN</td>\n",
       "      <td>http://www.restaurants.mcdonalds.fr/mcdonalds-...</td>\n",
       "      <td>http://data.linkedevents.org/kos/foursquare/fa...</td>\n",
       "      <td>Fast Food Restaurant</td>\n",
       "      <td>...</td>\n",
       "      <td>43.2616</td>\n",
       "      <td>6.57665</td>\n",
       "      <td>83580</td>\n",
       "      <td>RN 559 (Quartier Joffret), 83580 GASSIN, France</td>\n",
       "      <td>GASSIN</td>\n",
       "      <td>https://igx.4sqi.net/img/general/720x431/24260...</td>\n",
       "      <td>NaN</td>\n",
       "      <td>http://www.foursquare.com</td>\n",
       "      <td>https://www.foursquare.com/v/mcdonalds/4c62f10...</td>\n",
       "      <td>NaN</td>\n",
       "    </tr>\n",
       "    <tr>\n",
       "      <th>4</th>\n",
       "      <td>http://3cixty.com/cotedazur/places</td>\n",
       "      <td>http://data.linkedevents.org/location/6d39f331...</td>\n",
       "      <td>Hôtel Sezz Saint Tropez</td>\n",
       "      <td>NaN</td>\n",
       "      <td>NaN</td>\n",
       "      <td>+33494553155</td>\n",
       "      <td>NaN</td>\n",
       "      <td>http://saint-tropez.hotelsezz.com</td>\n",
       "      <td>http://data.linkedevents.org/kos/foursquare/hotel</td>\n",
       "      <td>Hotel</td>\n",
       "      <td>...</td>\n",
       "      <td>43.2639</td>\n",
       "      <td>6.66994</td>\n",
       "      <td>83990</td>\n",
       "      <td>151 Route des Salins, 83990 Saint-Tropez, France</td>\n",
       "      <td>Saint-Tropez</td>\n",
       "      <td>https://igx.4sqi.net/img/general/612x612/21062...</td>\n",
       "      <td>NaN</td>\n",
       "      <td>http://www.foursquare.com</td>\n",
       "      <td>https://www.foursquare.com/v/h%C3%B4tel-sezz-s...</td>\n",
       "      <td>NaN</td>\n",
       "    </tr>\n",
       "  </tbody>\n",
       "</table>\n",
       "<p>5 rows × 21 columns</p>\n",
       "</div>"
      ],
      "text/plain": [
       "                                    g  \\\n",
       "0  http://3cixty.com/cotedazur/places   \n",
       "1  http://3cixty.com/cotedazur/places   \n",
       "2  http://3cixty.com/cotedazur/places   \n",
       "3  http://3cixty.com/cotedazur/places   \n",
       "4  http://3cixty.com/cotedazur/places   \n",
       "\n",
       "                                               venue  \\\n",
       "0  http://data.linkedevents.org/location/592475f1...   \n",
       "1  http://data.linkedevents.org/location/67965892...   \n",
       "2  http://data.linkedevents.org/location/1f07366d...   \n",
       "3  http://data.linkedevents.org/location/a8a1f925...   \n",
       "4  http://data.linkedevents.org/location/6d39f331...   \n",
       "\n",
       "                              title description lang     telephone  email  \\\n",
       "0  Hotel ibis Golfe de Saint Tropez         NaN  NaN  +33498125680    NaN   \n",
       "1   Aéroport de Toulon-Hyères (TLN)         NaN  NaN  +33825018387    NaN   \n",
       "2       Althoff Hotel Villa Belrose         NaN  NaN  +33494559797    NaN   \n",
       "3                        McDonald's         NaN  NaN  +33494563800    NaN   \n",
       "4           Hôtel Sezz Saint Tropez         NaN  NaN  +33494553155    NaN   \n",
       "\n",
       "                                                 url  \\\n",
       "0  http://www.accorhotels.com/lien_externe.svlt?g...   \n",
       "1               http://www.toulon-hyeres.aeroport.fr   \n",
       "2                       http://www.althoffhotels.com   \n",
       "3  http://www.restaurants.mcdonalds.fr/mcdonalds-...   \n",
       "4                  http://saint-tropez.hotelsezz.com   \n",
       "\n",
       "                                        businessType          categoryName  \\\n",
       "0  http://data.linkedevents.org/kos/foursquare/hotel                 Hotel   \n",
       "1  http://data.linkedevents.org/kos/foursquare/ai...               Airport   \n",
       "2  http://data.linkedevents.org/kos/foursquare/hotel                 Hotel   \n",
       "3  http://data.linkedevents.org/kos/foursquare/fa...  Fast Food Restaurant   \n",
       "4  http://data.linkedevents.org/kos/foursquare/hotel                 Hotel   \n",
       "\n",
       "       ...        latitude  longitude  postalCode  \\\n",
       "0      ...         43.2488    6.53906       83310   \n",
       "1      ...         43.0937    6.15869       83400   \n",
       "2      ...         43.2597    6.60629       83580   \n",
       "3      ...         43.2616    6.57665       83580   \n",
       "4      ...         43.2639    6.66994       83990   \n",
       "\n",
       "                                       streetAddress          city  \\\n",
       "0                    rue Gaou, 83310 Cogolin, France       Cogolin   \n",
       "1       Boulevard de la Marine, 83400 Hyères, France        Hyères   \n",
       "2  Boulevard des Cretes La Grande Bastide, 83580 ...        Gassin   \n",
       "3    RN 559 (Quartier Joffret), 83580 GASSIN, France        GASSIN   \n",
       "4   151 Route des Salins, 83990 Saint-Tropez, France  Saint-Tropez   \n",
       "\n",
       "                                                 img seeAlso  \\\n",
       "0  https://igx.4sqi.net/img/general/960x561/35597...     NaN   \n",
       "1  https://igx.4sqi.net/img/general/720x960/52884...     NaN   \n",
       "2  https://igx.4sqi.net/img/general/1440x1920/286...     NaN   \n",
       "3  https://igx.4sqi.net/img/general/720x431/24260...     NaN   \n",
       "4  https://igx.4sqi.net/img/general/612x612/21062...     NaN   \n",
       "\n",
       "                   publisher  \\\n",
       "0  http://www.foursquare.com   \n",
       "1  http://www.foursquare.com   \n",
       "2  http://www.foursquare.com   \n",
       "3  http://www.foursquare.com   \n",
       "4  http://www.foursquare.com   \n",
       "\n",
       "                                              sameAs topoImportance  \n",
       "0  https://www.foursquare.com/v/hotel-ibis-golfe-...            NaN  \n",
       "1  https://www.foursquare.com/v/a%C3%A9roport-de-...            NaN  \n",
       "2  https://www.foursquare.com/v/althoff-hotel-vil...            NaN  \n",
       "3  https://www.foursquare.com/v/mcdonalds/4c62f10...            NaN  \n",
       "4  https://www.foursquare.com/v/h%C3%B4tel-sezz-s...            NaN  \n",
       "\n",
       "[5 rows x 21 columns]"
      ]
     },
     "execution_count": 4,
     "metadata": {},
     "output_type": "execute_result"
    }
   ],
   "source": [
    "df2.head()"
   ]
  },
  {
   "cell_type": "code",
   "execution_count": 5,
   "metadata": {},
   "outputs": [
    {
     "data": {
      "text/plain": [
       "1048576"
      ]
     },
     "execution_count": 5,
     "metadata": {},
     "output_type": "execute_result"
    }
   ],
   "source": [
    "len(df2)"
   ]
  },
  {
   "cell_type": "code",
   "execution_count": 6,
   "metadata": {},
   "outputs": [
    {
     "data": {
      "text/plain": [
       "22125"
      ]
     },
     "execution_count": 6,
     "metadata": {},
     "output_type": "execute_result"
    }
   ],
   "source": [
    "len(df1)"
   ]
  },
  {
   "cell_type": "code",
   "execution_count": 7,
   "metadata": {},
   "outputs": [
    {
     "data": {
      "text/plain": [
       "\"Dans notre atelier, nous travaillons la céramique. Nous seront ravie de vous montrer toutes les étapes, du travail de la terre au façonnage du produit en passer par le travail de l'émail et la cuisson. Vous risquez d'être agréablement surpris de voir la précision que cela demande.\""
      ]
     },
     "execution_count": 7,
     "metadata": {},
     "output_type": "execute_result"
    }
   ],
   "source": [
    "df1.iloc[0]['description']"
   ]
  },
  {
   "cell_type": "code",
   "execution_count": 8,
   "metadata": {},
   "outputs": [
    {
     "data": {
      "text/plain": [
       "'Aéroport de Toulon-Hyères (TLN)'"
      ]
     },
     "execution_count": 8,
     "metadata": {},
     "output_type": "execute_result"
    }
   ],
   "source": [
    "df2.iloc[1]['title']"
   ]
  },
  {
   "cell_type": "code",
   "execution_count": 9,
   "metadata": {},
   "outputs": [
    {
     "data": {
      "text/plain": [
       "Index(['g', 'event', 'title', 'description', 'long', 'lat', 'datetimeBegin',\n",
       "       'datetimeEnd', 'place', 'placeName', 'streetAddress', 'locality',\n",
       "       'postalCode', 'telephone', 'email', 'identifier', 'publisher',\n",
       "       'seeAlso', 'category', 'sameAs', 'placeSeeAlso', 'imgObj', 'img'],\n",
       "      dtype='object')"
      ]
     },
     "execution_count": 9,
     "metadata": {},
     "output_type": "execute_result"
    }
   ],
   "source": [
    "df1.columns"
   ]
  },
  {
   "cell_type": "code",
   "execution_count": 10,
   "metadata": {},
   "outputs": [
    {
     "data": {
      "text/plain": [
       "Index(['g', 'venue', 'title', 'description', 'lang', 'telephone', 'email',\n",
       "       'url', 'businessType', 'categoryName', 'rating', 'latitude',\n",
       "       'longitude', 'postalCode', 'streetAddress', 'city', 'img', 'seeAlso',\n",
       "       'publisher', 'sameAs', 'topoImportance'],\n",
       "      dtype='object')"
      ]
     },
     "execution_count": 10,
     "metadata": {},
     "output_type": "execute_result"
    }
   ],
   "source": [
    "df2.columns"
   ]
  },
  {
   "cell_type": "code",
   "execution_count": 11,
   "metadata": {},
   "outputs": [
    {
     "data": {
      "text/plain": [
       "0    06220\n",
       "1    34000\n",
       "2    66270\n",
       "3    06410\n",
       "4    06260\n",
       "Name: postalCode, dtype: object"
      ]
     },
     "execution_count": 11,
     "metadata": {},
     "output_type": "execute_result"
    }
   ],
   "source": [
    "df1['postalCode'].head()"
   ]
  },
  {
   "cell_type": "code",
   "execution_count": 12,
   "metadata": {},
   "outputs": [
    {
     "data": {
      "text/plain": [
       "0      bleu-dargile\n",
       "1       Maison Roux\n",
       "2    Brasserie Rull\n",
       "3          Joël Rat\n",
       "4    Ferme Lavancia\n",
       "Name: placeName, dtype: object"
      ]
     },
     "execution_count": 12,
     "metadata": {},
     "output_type": "execute_result"
    }
   ],
   "source": [
    "df1['placeName'].head()"
   ]
  },
  {
   "cell_type": "markdown",
   "metadata": {},
   "source": [
    "### Simple example of word2vec"
   ]
  },
  {
   "cell_type": "code",
   "execution_count": 13,
   "metadata": {},
   "outputs": [
    {
     "name": "stderr",
     "output_type": "stream",
     "text": [
      "C:\\Users\\Lenovo_T530\\Anaconda3\\lib\\site-packages\\gensim\\utils.py:1212: UserWarning: detected Windows; aliasing chunkize to chunkize_serial\n",
      "  warnings.warn(\"detected Windows; aliasing chunkize to chunkize_serial\")\n"
     ]
    }
   ],
   "source": [
    "from gensim.test.utils import common_texts"
   ]
  },
  {
   "cell_type": "code",
   "execution_count": 14,
   "metadata": {},
   "outputs": [],
   "source": [
    "import gensim"
   ]
  },
  {
   "cell_type": "code",
   "execution_count": 15,
   "metadata": {},
   "outputs": [
    {
     "data": {
      "text/plain": [
       "[['human', 'interface', 'computer'],\n",
       " ['survey', 'user', 'computer', 'system', 'response', 'time'],\n",
       " ['eps', 'user', 'interface', 'system'],\n",
       " ['system', 'human', 'system', 'eps'],\n",
       " ['user', 'response', 'time'],\n",
       " ['trees'],\n",
       " ['graph', 'trees'],\n",
       " ['graph', 'minors', 'trees'],\n",
       " ['graph', 'minors', 'survey']]"
      ]
     },
     "execution_count": 15,
     "metadata": {},
     "output_type": "execute_result"
    }
   ],
   "source": [
    "common_texts"
   ]
  },
  {
   "cell_type": "code",
   "execution_count": 53,
   "metadata": {},
   "outputs": [],
   "source": [
    "from gensim.models import Word2Vec, FastText\n",
    "model = Word2Vec(common_texts, size=100, window=5, min_count=1, workers=4)"
   ]
  },
  {
   "cell_type": "code",
   "execution_count": 17,
   "metadata": {},
   "outputs": [],
   "source": [
    "word_vectors = model.wv"
   ]
  },
  {
   "cell_type": "code",
   "execution_count": 18,
   "metadata": {},
   "outputs": [
    {
     "name": "stderr",
     "output_type": "stream",
     "text": [
      "C:\\Users\\Lenovo_T530\\Anaconda3\\lib\\site-packages\\gensim\\matutils.py:737: FutureWarning: Conversion of the second argument of issubdtype from `int` to `np.signedinteger` is deprecated. In future, it will be treated as `np.int32 == np.dtype(int).type`.\n",
      "  if np.issubdtype(vec.dtype, np.int):\n"
     ]
    },
    {
     "data": {
      "text/plain": [
       "'interface'"
      ]
     },
     "execution_count": 18,
     "metadata": {},
     "output_type": "execute_result"
    }
   ],
   "source": [
    "result_1 = word_vectors.most_similar(positive=['computer'], negative=['system'])\n",
    "result_1[0][0]"
   ]
  },
  {
   "cell_type": "markdown",
   "metadata": {},
   "source": [
    "### Exploring pretrained models"
   ]
  },
  {
   "cell_type": "code",
   "execution_count": 19,
   "metadata": {},
   "outputs": [],
   "source": [
    "import fastText\n",
    "from gensim.test.utils import datapath\n",
    "from gensim.models import KeyedVectors"
   ]
  },
  {
   "cell_type": "code",
   "execution_count": 20,
   "metadata": {
    "scrolled": true
   },
   "outputs": [],
   "source": [
    "wv_from_text = KeyedVectors.load_word2vec_format(datapath(\"C:\\\\Users\\\\Lenovo_T530\\\\Desktop\\\\Project\\\\wiki.ang.vec\"), binary=False)"
   ]
  },
  {
   "cell_type": "code",
   "execution_count": 21,
   "metadata": {},
   "outputs": [
    {
     "data": {
      "text/plain": [
       "<gensim.models.keyedvectors.Word2VecKeyedVectors at 0x115a5e10>"
      ]
     },
     "execution_count": 21,
     "metadata": {},
     "output_type": "execute_result"
    }
   ],
   "source": [
    "wv_from_text"
   ]
  },
  {
   "cell_type": "code",
   "execution_count": 22,
   "metadata": {},
   "outputs": [
    {
     "name": "stderr",
     "output_type": "stream",
     "text": [
      "C:\\Users\\Lenovo_T530\\Anaconda3\\lib\\site-packages\\gensim\\matutils.py:737: FutureWarning: Conversion of the second argument of issubdtype from `int` to `np.signedinteger` is deprecated. In future, it will be treated as `np.int32 == np.dtype(int).type`.\n",
      "  if np.issubdtype(vec.dtype, np.int):\n"
     ]
    },
    {
     "data": {
      "text/plain": [
       "[('holding', 0.8152550458908081),\n",
       " ('taking', 0.811439037322998),\n",
       " ('kings', 0.809548020362854),\n",
       " ('according', 0.8012422919273376),\n",
       " ('running', 0.7949214577674866),\n",
       " ('ranking', 0.7935211658477783),\n",
       " ('surviving', 0.7886489629745483),\n",
       " ('flying', 0.7886037826538086),\n",
       " ('speaking', 0.7855875492095947),\n",
       " ('sparking', 0.7847887277603149)]"
      ]
     },
     "execution_count": 22,
     "metadata": {},
     "output_type": "execute_result"
    }
   ],
   "source": [
    "result_1 = wv_from_text.most_similar(positive=['king','woman'], negative=['man'])\n",
    "result_1[:10]"
   ]
  },
  {
   "cell_type": "code",
   "execution_count": null,
   "metadata": {},
   "outputs": [],
   "source": [
    "    for i in range(len(df1)) : \n",
    "        if (isinstance(df1.iloc[2344]['description'],str)) : \n",
    "            columnList = columnList.append(df1.iloc[i][column].split('.'))  "
   ]
  },
  {
   "cell_type": "markdown",
   "metadata": {},
   "source": [
    "### Training a model more  specific to our data"
   ]
  },
  {
   "cell_type": "code",
   "execution_count": 47,
   "metadata": {},
   "outputs": [],
   "source": [
    "## Function to construct a clean List of sentences Lists, with minimum noise \n",
    "\n",
    "def constructTrainingSet(file,column,sep=',') : \n",
    "    df1 = pd.read_csv(file,sep=sep)\n",
    "    corpusList=[]\n",
    "    columnList = [df1.iloc[i][column].split('.') for i in range(len(df1)) if (isinstance(df1.iloc[i][column],str))]\n",
    "    for i in range(len(columnList)) : \n",
    "        for j in range(len(columnList[i])) : \n",
    "            subList = columnList[i][j].split(\" \")\n",
    "            for x in subList :\n",
    "                if x.lower() in [\" \",\"le\",\"la\",\"les\",\"ou\",\"de\",\"et\",\"que\",\"pour\",\"car\",\"par\",\"à\",\"un\",\"une\",\"des\",\"\",\"avec\",\"du\",\n",
    "                                 \"ma\",\"ta\",\"sa\",\"mon\",\"ton\",\"son\",\"mes\",\"tes\",\"ses\",\"je\",\"tu\",\"il\",\"elle\",\"nous\",\"vous\",\"ils\",\n",
    "                                 \"elles\",\"notre\",\"votre\",\"leur\",\"notres\",\"votres\",\"leurs\"] : \n",
    "                    subList.remove(x)\n",
    "            corpusList.append(subList)\n",
    "    #else : \n",
    "    #for i in range(len)\n",
    "    return corpusList"
   ]
  },
  {
   "cell_type": "code",
   "execution_count": 48,
   "metadata": {},
   "outputs": [],
   "source": [
    "file = \"C:\\\\Users\\\\Lenovo_T530\\\\Desktop\\\\Project\\\\cotedazur_events_full.csv\"\n",
    "column = 'description'\n",
    "A = constructTrainingSet(file,column,sep=',')"
   ]
  },
  {
   "cell_type": "code",
   "execution_count": 32,
   "metadata": {},
   "outputs": [
    {
     "data": {
      "text/plain": [
       "107626"
      ]
     },
     "execution_count": 32,
     "metadata": {},
     "output_type": "execute_result"
    }
   ],
   "source": [
    "len(A)"
   ]
  },
  {
   "cell_type": "code",
   "execution_count": 51,
   "metadata": {},
   "outputs": [
    {
     "data": {
      "text/plain": [
       "['Dans notre atelier, nous travaillons la céramique',\n",
       " \" Nous seront ravie de vous montrer toutes les étapes, du travail de la terre au façonnage du produit en passer par le travail de l'émail et la cuisson\",\n",
       " \" Vous risquez d'être agréablement surpris de voir la précision que cela demande\",\n",
       " '']"
      ]
     },
     "execution_count": 51,
     "metadata": {},
     "output_type": "execute_result"
    }
   ],
   "source": [
    "columnList = [df1.iloc[i][column].split('.') for i in range(len(df1)) if (isinstance(df1.iloc[i][column],str))]\n",
    "columnList[0]"
   ]
  },
  {
   "cell_type": "code",
   "execution_count": 46,
   "metadata": {},
   "outputs": [
    {
     "name": "stdout",
     "output_type": "stream",
     "text": [
      "1495707\n"
     ]
    }
   ],
   "source": [
    "S = 0\n",
    "for i in A : \n",
    "    S = S + len(i)\n",
    "print(S)"
   ]
  },
  {
   "cell_type": "code",
   "execution_count": 42,
   "metadata": {},
   "outputs": [],
   "source": [
    "for x in A[1] : \n",
    "    if x.lower() in ['nous'] : \n",
    "        A[1].remove(x)"
   ]
  },
  {
   "cell_type": "code",
   "execution_count": 101,
   "metadata": {},
   "outputs": [],
   "source": [
    "model_w2v = Word2Vec(A, size=100, window=5, min_count=1, workers=4)\n",
    "#model_ft  = FastText(A, size=100, window=5, min_count=1, iter=10,word_ngrams = 1,max_n = 5, min_n = 2)\n",
    "model_ft_2  = FastText(A, size=100, window=5, min_count=1, iter=10)"
   ]
  },
  {
   "cell_type": "code",
   "execution_count": 79,
   "metadata": {},
   "outputs": [
    {
     "data": {
      "text/plain": [
       "True"
      ]
     },
     "execution_count": 79,
     "metadata": {},
     "output_type": "execute_result"
    }
   ],
   "source": [
    "existent_word_1 = \"agréablement\"\n",
    "existent_word_2 = \"agréable\"\n",
    "\n",
    "existent_word_2 in model_ft.wv.vocab"
   ]
  },
  {
   "cell_type": "code",
   "execution_count": 73,
   "metadata": {},
   "outputs": [
    {
     "data": {
      "text/plain": [
       "array([-0.39941046,  2.151893  ,  4.5270724 , -0.2909991 , -1.3112617 ,\n",
       "       -2.8904655 ,  1.1323515 , -2.6119063 , -1.737711  ,  0.05422713,\n",
       "        0.4911461 , -0.71907103,  2.460253  , -2.399862  ,  1.4723487 ,\n",
       "        0.6832642 , -1.2793865 , -0.6795434 ,  4.130208  ,  1.1150451 ,\n",
       "        0.8903938 , -0.18324564, -1.0789844 ,  1.6734946 ,  5.291423  ,\n",
       "        0.7733264 , -3.2117732 ,  1.002312  ,  0.24181043,  0.21127863,\n",
       "        1.5049087 ,  0.3630601 ,  1.7659585 , -1.994001  ,  1.1305069 ,\n",
       "        0.63560086, -0.6139006 , -0.83558047,  0.5626351 ,  3.2363257 ,\n",
       "        0.7602263 ,  0.34759367, -1.2800877 ,  0.35435387,  0.2914323 ,\n",
       "       -2.6924827 , -0.98300993,  1.8608884 ,  2.017791  ,  0.32716805,\n",
       "        1.1421666 , -0.73833126, -0.9452483 ,  0.69217664,  2.455183  ,\n",
       "        1.1986175 , -0.37312898,  0.79372233,  0.37976357,  1.3127453 ,\n",
       "        1.6539176 , -2.2024803 ,  0.12925881,  0.61324143, -0.6000968 ,\n",
       "        0.41748363, -3.0772374 ,  1.2067742 ,  1.1712673 ,  3.0758865 ,\n",
       "       -1.9549072 ,  0.02848611,  2.416661  , -0.6128168 ,  0.53660524,\n",
       "       -1.1858652 , -2.0976205 ,  0.6495887 , -1.8862484 ,  2.506679  ,\n",
       "       -0.8944892 ,  1.7662251 ,  0.37640625,  1.5988891 ,  1.9563662 ,\n",
       "       -1.7158526 ,  3.5165687 , -2.7424674 , -1.3177179 , -0.7958278 ,\n",
       "       -2.4012918 ,  0.036676  , -0.67881715, -0.41095084, -0.8083072 ,\n",
       "        0.01327125, -1.5135318 , -1.9274399 ,  1.6315416 ,  1.9320614 ],\n",
       "      dtype=float32)"
      ]
     },
     "execution_count": 73,
     "metadata": {},
     "output_type": "execute_result"
    }
   ],
   "source": [
    "model_ft.wv[existent_word_1]"
   ]
  },
  {
   "cell_type": "code",
   "execution_count": 78,
   "metadata": {},
   "outputs": [
    {
     "name": "stderr",
     "output_type": "stream",
     "text": [
      "C:\\Users\\Lenovo_T530\\Anaconda3\\lib\\site-packages\\gensim\\matutils.py:737: FutureWarning: Conversion of the second argument of issubdtype from `int` to `np.signedinteger` is deprecated. In future, it will be treated as `np.int32 == np.dtype(int).type`.\n",
      "  if np.issubdtype(vec.dtype, np.int):\n"
     ]
    },
    {
     "data": {
      "text/plain": [
       "0.5862254"
      ]
     },
     "execution_count": 78,
     "metadata": {},
     "output_type": "execute_result"
    }
   ],
   "source": [
    "sim_score = model_ft.wv.similarity(\"agréablement\", \"agréable\")\n",
    "sim_score"
   ]
  },
  {
   "cell_type": "code",
   "execution_count": 82,
   "metadata": {},
   "outputs": [
    {
     "name": "stderr",
     "output_type": "stream",
     "text": [
      "C:\\Users\\Lenovo_T530\\Anaconda3\\lib\\site-packages\\gensim\\matutils.py:737: FutureWarning: Conversion of the second argument of issubdtype from `int` to `np.signedinteger` is deprecated. In future, it will be treated as `np.int32 == np.dtype(int).type`.\n",
      "  if np.issubdtype(vec.dtype, np.int):\n"
     ]
    },
    {
     "data": {
      "text/plain": [
       "0.7246702"
      ]
     },
     "execution_count": 82,
     "metadata": {},
     "output_type": "execute_result"
    }
   ],
   "source": [
    "sim_score = model_w2v.wv.similarity(\"agréablement\", \"agréable\")\n",
    "sim_score"
   ]
  },
  {
   "cell_type": "code",
   "execution_count": 81,
   "metadata": {},
   "outputs": [
    {
     "name": "stderr",
     "output_type": "stream",
     "text": [
      "C:\\Users\\Lenovo_T530\\Anaconda3\\lib\\site-packages\\gensim\\matutils.py:737: FutureWarning: Conversion of the second argument of issubdtype from `int` to `np.signedinteger` is deprecated. In future, it will be treated as `np.int32 == np.dtype(int).type`.\n",
      "  if np.issubdtype(vec.dtype, np.int):\n"
     ]
    },
    {
     "data": {
      "text/plain": [
       "0.29120082"
      ]
     },
     "execution_count": 81,
     "metadata": {},
     "output_type": "execute_result"
    }
   ],
   "source": [
    "sim_score_2 = model_ft.wv.similarity(\"agréablement\", \"tourisme\")\n",
    "sim_score_2"
   ]
  },
  {
   "cell_type": "code",
   "execution_count": 86,
   "metadata": {},
   "outputs": [
    {
     "name": "stderr",
     "output_type": "stream",
     "text": [
      "C:\\Users\\Lenovo_T530\\Anaconda3\\lib\\site-packages\\gensim\\matutils.py:737: FutureWarning: Conversion of the second argument of issubdtype from `int` to `np.signedinteger` is deprecated. In future, it will be treated as `np.int32 == np.dtype(int).type`.\n",
      "  if np.issubdtype(vec.dtype, np.int):\n"
     ]
    },
    {
     "data": {
      "text/plain": [
       "0.7121613"
      ]
     },
     "execution_count": 86,
     "metadata": {},
     "output_type": "execute_result"
    }
   ],
   "source": [
    "sim_score_2 = model_w2v.wv.similarity(\"agréablement\", \"tourisme\")\n",
    "sim_score_2"
   ]
  },
  {
   "cell_type": "code",
   "execution_count": 95,
   "metadata": {
    "scrolled": true
   },
   "outputs": [
    {
     "data": {
      "text/plain": [
       "{'Dans': <gensim.models.keyedvectors.Vocab at 0x10178748>,\n",
       " 'atelier,': <gensim.models.keyedvectors.Vocab at 0x101787b8>,\n",
       " 'travaillons': <gensim.models.keyedvectors.Vocab at 0x10178780>,\n",
       " 'céramique': <gensim.models.keyedvectors.Vocab at 0x101786d8>,\n",
       " 'Nous': <gensim.models.keyedvectors.Vocab at 0x101788d0>,\n",
       " 'seront': <gensim.models.keyedvectors.Vocab at 0x10178908>,\n",
       " 'ravie': <gensim.models.keyedvectors.Vocab at 0x10178940>,\n",
       " 'vous': <gensim.models.keyedvectors.Vocab at 0x10178978>,\n",
       " 'montrer': <gensim.models.keyedvectors.Vocab at 0x101789b0>,\n",
       " 'toutes': <gensim.models.keyedvectors.Vocab at 0x101789e8>,\n",
       " 'étapes,': <gensim.models.keyedvectors.Vocab at 0x10178a20>,\n",
       " 'travail': <gensim.models.keyedvectors.Vocab at 0x10178a58>,\n",
       " 'la': <gensim.models.keyedvectors.Vocab at 0x10178a90>,\n",
       " 'terre': <gensim.models.keyedvectors.Vocab at 0x10178ac8>,\n",
       " 'au': <gensim.models.keyedvectors.Vocab at 0x10178b00>,\n",
       " 'façonnage': <gensim.models.keyedvectors.Vocab at 0x10178b38>,\n",
       " 'produit': <gensim.models.keyedvectors.Vocab at 0x10178b70>,\n",
       " 'en': <gensim.models.keyedvectors.Vocab at 0x10178ba8>,\n",
       " 'passer': <gensim.models.keyedvectors.Vocab at 0x10178be0>,\n",
       " 'le': <gensim.models.keyedvectors.Vocab at 0x10178cc0>,\n",
       " \"l'émail\": <gensim.models.keyedvectors.Vocab at 0x10178c18>,\n",
       " 'cuisson': <gensim.models.keyedvectors.Vocab at 0x10178cf8>,\n",
       " 'Vous': <gensim.models.keyedvectors.Vocab at 0x10178c50>,\n",
       " 'risquez': <gensim.models.keyedvectors.Vocab at 0x10178c88>,\n",
       " \"d'être\": <gensim.models.keyedvectors.Vocab at 0x10178d30>,\n",
       " 'agréablement': <gensim.models.keyedvectors.Vocab at 0x10178d68>,\n",
       " 'surpris': <gensim.models.keyedvectors.Vocab at 0x10178da0>,\n",
       " 'voir': <gensim.models.keyedvectors.Vocab at 0x10178dd8>,\n",
       " 'précision': <gensim.models.keyedvectors.Vocab at 0x10178e10>,\n",
       " 'cela': <gensim.models.keyedvectors.Vocab at 0x10178e48>,\n",
       " 'demande': <gensim.models.keyedvectors.Vocab at 0x10178e80>,\n",
       " 'Poussez': <gensim.models.keyedvectors.Vocab at 0x10178eb8>,\n",
       " 'portes': <gensim.models.keyedvectors.Vocab at 0x10178ef0>,\n",
       " 'notre': <gensim.models.keyedvectors.Vocab at 0x10178f28>,\n",
       " 'boutique': <gensim.models.keyedvectors.Vocab at 0x10178f60>,\n",
       " 'découvrir': <gensim.models.keyedvectors.Vocab at 0x10178f98>,\n",
       " 'étapes': <gensim.models.keyedvectors.Vocab at 0x10178fd0>,\n",
       " 'confection': <gensim.models.keyedvectors.Vocab at 0x15d22048>,\n",
       " 'nos': <gensim.models.keyedvectors.Vocab at 0x15d22080>,\n",
       " 'macarons': <gensim.models.keyedvectors.Vocab at 0x15d220b8>,\n",
       " 'serons': <gensim.models.keyedvectors.Vocab at 0x15d220f0>,\n",
       " 'ravis': <gensim.models.keyedvectors.Vocab at 0x15d22128>,\n",
       " 'faire': <gensim.models.keyedvectors.Vocab at 0x15d22160>,\n",
       " 'déguster': <gensim.models.keyedvectors.Vocab at 0x15d22198>,\n",
       " 'parler': <gensim.models.keyedvectors.Vocab at 0x15d221d0>,\n",
       " \"l'histoire\": <gensim.models.keyedvectors.Vocab at 0x15d22208>,\n",
       " 'de': <gensim.models.keyedvectors.Vocab at 0x15d22240>,\n",
       " 'maison': <gensim.models.keyedvectors.Vocab at 0x15d22278>,\n",
       " 'Passionnée': <gensim.models.keyedvectors.Vocab at 0x15d222b0>,\n",
       " 'montagne,': <gensim.models.keyedvectors.Vocab at 0x15d222e8>,\n",
       " 'gastronomie': <gensim.models.keyedvectors.Vocab at 0x15d22320>,\n",
       " 'française': <gensim.models.keyedvectors.Vocab at 0x15d22358>,\n",
       " 'attachée': <gensim.models.keyedvectors.Vocab at 0x15d22390>,\n",
       " 'l’histoire': <gensim.models.keyedvectors.Vocab at 0x15d223c8>,\n",
       " 'femmes': <gensim.models.keyedvectors.Vocab at 0x15d22400>,\n",
       " 'brasseuses': <gensim.models.keyedvectors.Vocab at 0x15d22438>,\n",
       " 'bière,': <gensim.models.keyedvectors.Vocab at 0x15d22470>,\n",
       " 'mets': <gensim.models.keyedvectors.Vocab at 0x15d224a8>,\n",
       " 'point': <gensim.models.keyedvectors.Vocab at 0x15d224e0>,\n",
       " 'd’honneur': <gensim.models.keyedvectors.Vocab at 0x15d22518>,\n",
       " 'brasser': <gensim.models.keyedvectors.Vocab at 0x15d22550>,\n",
       " 'bière': <gensim.models.keyedvectors.Vocab at 0x15d22588>,\n",
       " 'façon': <gensim.models.keyedvectors.Vocab at 0x15d225c0>,\n",
       " 'artisanale': <gensim.models.keyedvectors.Vocab at 0x15d225f8>,\n",
       " 'des': <gensim.models.keyedvectors.Vocab at 0x15d22630>,\n",
       " 'céréales': <gensim.models.keyedvectors.Vocab at 0x15d22668>,\n",
       " 'houblons': <gensim.models.keyedvectors.Vocab at 0x15d226a0>,\n",
       " 'issus': <gensim.models.keyedvectors.Vocab at 0x15d226d8>,\n",
       " 'l’agriculture': <gensim.models.keyedvectors.Vocab at 0x15d22710>,\n",
       " 'L’originalité': <gensim.models.keyedvectors.Vocab at 0x15d22748>,\n",
       " 'ma': <gensim.models.keyedvectors.Vocab at 0x15d22780>,\n",
       " 'vient': <gensim.models.keyedvectors.Vocab at 0x15d227b8>,\n",
       " 'l’origine': <gensim.models.keyedvectors.Vocab at 0x15d227f0>,\n",
       " 'son': <gensim.models.keyedvectors.Vocab at 0x15d22828>,\n",
       " 'eau': <gensim.models.keyedvectors.Vocab at 0x15d22860>,\n",
       " 'Elle': <gensim.models.keyedvectors.Vocab at 0x15d22898>,\n",
       " 'est': <gensim.models.keyedvectors.Vocab at 0x15d228d0>,\n",
       " 'brassée': <gensim.models.keyedvectors.Vocab at 0x15d22908>,\n",
       " 'l’eau': <gensim.models.keyedvectors.Vocab at 0x15d22940>,\n",
       " 'sources': <gensim.models.keyedvectors.Vocab at 0x15d22978>,\n",
       " 'naturelles': <gensim.models.keyedvectors.Vocab at 0x15d229b0>,\n",
       " 'Canigou,': <gensim.models.keyedvectors.Vocab at 0x15d229e8>,\n",
       " 'montagne': <gensim.models.keyedvectors.Vocab at 0x15d22a20>,\n",
       " 'sacrée': <gensim.models.keyedvectors.Vocab at 0x15d22a58>,\n",
       " 'Catalans': <gensim.models.keyedvectors.Vocab at 0x15d22a90>,\n",
       " 'Je': <gensim.models.keyedvectors.Vocab at 0x15d22ac8>,\n",
       " 'propose': <gensim.models.keyedvectors.Vocab at 0x15d22b00>,\n",
       " 'venir': <gensim.models.keyedvectors.Vocab at 0x15d22b38>,\n",
       " 'brasserie': <gensim.models.keyedvectors.Vocab at 0x15d22b70>,\n",
       " 'l’arôme': <gensim.models.keyedvectors.Vocab at 0x15d22ba8>,\n",
       " 'si': <gensim.models.keyedvectors.Vocab at 0x15d22be0>,\n",
       " 'particulier': <gensim.models.keyedvectors.Vocab at 0x15d22c18>,\n",
       " 'reflet': <gensim.models.keyedvectors.Vocab at 0x15d22c50>,\n",
       " 'puissance': <gensim.models.keyedvectors.Vocab at 0x15d22c88>,\n",
       " 'torrents': <gensim.models.keyedvectors.Vocab at 0x15d22cc0>,\n",
       " 'fraicheur': <gensim.models.keyedvectors.Vocab at 0x15d22cf8>,\n",
       " 'sa': <gensim.models.keyedvectors.Vocab at 0x15d22d30>,\n",
       " 'cime': <gensim.models.keyedvectors.Vocab at 0x15d22d68>,\n",
       " 'enneigée': <gensim.models.keyedvectors.Vocab at 0x15d22da0>,\n",
       " 'parfums': <gensim.models.keyedvectors.Vocab at 0x15d22dd8>,\n",
       " 'ses': <gensim.models.keyedvectors.Vocab at 0x15d22e10>,\n",
       " 'alpages': <gensim.models.keyedvectors.Vocab at 0x15d22e48>,\n",
       " 'Venez': <gensim.models.keyedvectors.Vocab at 0x15d22e80>,\n",
       " 'univers': <gensim.models.keyedvectors.Vocab at 0x15d22eb8>,\n",
       " 'mon': <gensim.models.keyedvectors.Vocab at 0x15d22ef0>,\n",
       " 'promets': <gensim.models.keyedvectors.Vocab at 0x15d22f28>,\n",
       " 'moment': <gensim.models.keyedvectors.Vocab at 0x15d22f60>,\n",
       " 'partage': <gensim.models.keyedvectors.Vocab at 0x15d22f98>,\n",
       " 'convivialité': <gensim.models.keyedvectors.Vocab at 0x15d22fd0>,\n",
       " 'Visite': <gensim.models.keyedvectors.Vocab at 0x15d16048>,\n",
       " 'ferme': <gensim.models.keyedvectors.Vocab at 0x15d16080>,\n",
       " 'proposons': <gensim.models.keyedvectors.Vocab at 0x15d160b8>,\n",
       " 'pédagogique': <gensim.models.keyedvectors.Vocab at 0x15d160f0>,\n",
       " 'ainsi': <gensim.models.keyedvectors.Vocab at 0x15d16128>,\n",
       " 'activités': <gensim.models.keyedvectors.Vocab at 0x15d16160>,\n",
       " 'artisanales': <gensim.models.keyedvectors.Vocab at 0x15d16198>,\n",
       " 'allant': <gensim.models.keyedvectors.Vocab at 0x15d161d0>,\n",
       " 'fromagerie': <gensim.models.keyedvectors.Vocab at 0x15d16208>,\n",
       " 'savons…': <gensim.models.keyedvectors.Vocab at 0x15d16240>,\n",
       " 'lait': <gensim.models.keyedvectors.Vocab at 0x15d16278>,\n",
       " 'chèvre': <gensim.models.keyedvectors.Vocab at 0x15d162b0>,\n",
       " 'bien': <gensim.models.keyedvectors.Vocab at 0x15d162e8>,\n",
       " 'sur': <gensim.models.keyedvectors.Vocab at 0x15d16320>,\n",
       " '!': <gensim.models.keyedvectors.Vocab at 0x15d16358>,\n",
       " 'ouvre': <gensim.models.keyedvectors.Vocab at 0x15d16390>,\n",
       " 'création': <gensim.models.keyedvectors.Vocab at 0x15d163c8>,\n",
       " 'bijoux': <gensim.models.keyedvectors.Vocab at 0x15d16400>,\n",
       " 'donnerai': <gensim.models.keyedvectors.Vocab at 0x15d16438>,\n",
       " 'techniques': <gensim.models.keyedvectors.Vocab at 0x15d16470>,\n",
       " 'principales': <gensim.models.keyedvectors.Vocab at 0x15d164a8>,\n",
       " 'que': <gensim.models.keyedvectors.Vocab at 0x15d164e0>,\n",
       " 'puissiez': <gensim.models.keyedvectors.Vocab at 0x15d16518>,\n",
       " 'laisser': <gensim.models.keyedvectors.Vocab at 0x15d16550>,\n",
       " 'libre': <gensim.models.keyedvectors.Vocab at 0x15d16588>,\n",
       " 'court': <gensim.models.keyedvectors.Vocab at 0x15d165c0>,\n",
       " 'votre': <gensim.models.keyedvectors.Vocab at 0x15d165f8>,\n",
       " 'imagination': <gensim.models.keyedvectors.Vocab at 0x15d16630>,\n",
       " 'Sibio': <gensim.models.keyedvectors.Vocab at 0x15d16668>,\n",
       " 'née': <gensim.models.keyedvectors.Vocab at 0x15d166a0>,\n",
       " 'l’envie': <gensim.models.keyedvectors.Vocab at 0x15d166d8>,\n",
       " 'quatre': <gensim.models.keyedvectors.Vocab at 0x15d16710>,\n",
       " 'producteurs': <gensim.models.keyedvectors.Vocab at 0x15d16748>,\n",
       " 'mettre': <gensim.models.keyedvectors.Vocab at 0x15d16780>,\n",
       " 'avant': <gensim.models.keyedvectors.Vocab at 0x15d167b8>,\n",
       " 'fruits': <gensim.models.keyedvectors.Vocab at 0x15d167f0>,\n",
       " 'légumes': <gensim.models.keyedvectors.Vocab at 0x15d16828>,\n",
       " '100%': <gensim.models.keyedvectors.Vocab at 0x15d16860>,\n",
       " 'biologiques': <gensim.models.keyedvectors.Vocab at 0x15d16898>,\n",
       " 'Roussillon': <gensim.models.keyedvectors.Vocab at 0x15d168d0>,\n",
       " 'transformant': <gensim.models.keyedvectors.Vocab at 0x15d16908>,\n",
       " 'artisanalement': <gensim.models.keyedvectors.Vocab at 0x15d16940>,\n",
       " 'délicieux': <gensim.models.keyedvectors.Vocab at 0x15d16978>,\n",
       " 'jus,': <gensim.models.keyedvectors.Vocab at 0x15d169b0>,\n",
       " 'nectars': <gensim.models.keyedvectors.Vocab at 0x15d169e8>,\n",
       " 'soupes': <gensim.models.keyedvectors.Vocab at 0x15d16a20>,\n",
       " 'Nos': <gensim.models.keyedvectors.Vocab at 0x15d16a58>,\n",
       " 'produits': <gensim.models.keyedvectors.Vocab at 0x15d16a90>,\n",
       " 'sont': <gensim.models.keyedvectors.Vocab at 0x15d16ac8>,\n",
       " 'tous': <gensim.models.keyedvectors.Vocab at 0x15d16b00>,\n",
       " 'faits': <gensim.models.keyedvectors.Vocab at 0x15d16b38>,\n",
       " 'amour': <gensim.models.keyedvectors.Vocab at 0x15d16b70>,\n",
       " 'avec': <gensim.models.keyedvectors.Vocab at 0x15d16ba8>,\n",
       " 'respect': <gensim.models.keyedvectors.Vocab at 0x15d16be0>,\n",
       " 'l’environnement': <gensim.models.keyedvectors.Vocab at 0x15d16c18>,\n",
       " 'du': <gensim.models.keyedvectors.Vocab at 0x15d16c50>,\n",
       " 'magnifique': <gensim.models.keyedvectors.Vocab at 0x15d16c88>,\n",
       " 'terroir': <gensim.models.keyedvectors.Vocab at 0x15d16cc0>,\n",
       " 'Catalan': <gensim.models.keyedvectors.Vocab at 0x15d16cf8>,\n",
       " 'ferons': <gensim.models.keyedvectors.Vocab at 0x15d16d30>,\n",
       " 'plaisir': <gensim.models.keyedvectors.Vocab at 0x15d16d68>,\n",
       " 'ouvrir': <gensim.models.keyedvectors.Vocab at 0x15d16da0>,\n",
       " 'suivre': <gensim.models.keyedvectors.Vocab at 0x15d16dd8>,\n",
       " 'fruit': <gensim.models.keyedvectors.Vocab at 0x15d16e10>,\n",
       " 'verger': <gensim.models.keyedvectors.Vocab at 0x15d16e48>,\n",
       " \"jusqu'à\": <gensim.models.keyedvectors.Vocab at 0x15d16e80>,\n",
       " 'transformation': <gensim.models.keyedvectors.Vocab at 0x15d16eb8>,\n",
       " 'Alors': <gensim.models.keyedvectors.Vocab at 0x15d16ef0>,\n",
       " 'benvinguts': <gensim.models.keyedvectors.Vocab at 0x15d16f28>,\n",
       " 'chez': <gensim.models.keyedvectors.Vocab at 0x15d16f60>,\n",
       " 'passion': <gensim.models.keyedvectors.Vocab at 0x15d16f98>,\n",
       " 'Truffe': <gensim.models.keyedvectors.Vocab at 0x15d16fd0>,\n",
       " 'blanche': <gensim.models.keyedvectors.Vocab at 0x15d37048>,\n",
       " \"d'Alba\": <gensim.models.keyedvectors.Vocab at 0x15d37080>,\n",
       " 'se': <gensim.models.keyedvectors.Vocab at 0x15d370b8>,\n",
       " 'transmet': <gensim.models.keyedvectors.Vocab at 0x15d370f0>,\n",
       " 'génération': <gensim.models.keyedvectors.Vocab at 0x15d37128>,\n",
       " 'les': <gensim.models.keyedvectors.Vocab at 0x15d37160>,\n",
       " 'recettes': <gensim.models.keyedvectors.Vocab at 0x15d37198>,\n",
       " 'qui': <gensim.models.keyedvectors.Vocab at 0x15d371d0>,\n",
       " 'vont': <gensim.models.keyedvectors.Vocab at 0x15d37208>,\n",
       " 'convie': <gensim.models.keyedvectors.Vocab at 0x15d37240>,\n",
       " 'dans': <gensim.models.keyedvectors.Vocab at 0x15d37278>,\n",
       " 'raconter': <gensim.models.keyedvectors.Vocab at 0x15d372b0>,\n",
       " 'famille': <gensim.models.keyedvectors.Vocab at 0x15d372e8>,\n",
       " 'pourrez': <gensim.models.keyedvectors.Vocab at 0x15d37320>,\n",
       " 'évidemment': <gensim.models.keyedvectors.Vocab at 0x15d37358>,\n",
       " 'goûter': <gensim.models.keyedvectors.Vocab at 0x15d37390>,\n",
       " 'je': <gensim.models.keyedvectors.Vocab at 0x15d373c8>,\n",
       " 'incroyables': <gensim.models.keyedvectors.Vocab at 0x15d37400>,\n",
       " 'régaler': <gensim.models.keyedvectors.Vocab at 0x15d37438>,\n",
       " 'vignoble': <gensim.models.keyedvectors.Vocab at 0x15d37470>,\n",
       " 'toute': <gensim.models.keyedvectors.Vocab at 0x15d374a8>,\n",
       " 'vie': <gensim.models.keyedvectors.Vocab at 0x15d374e0>,\n",
       " 'serez': <gensim.models.keyedvectors.Vocab at 0x15d37518>,\n",
       " 'subjugués': <gensim.models.keyedvectors.Vocab at 0x15d37550>,\n",
       " 'emplacement': <gensim.models.keyedvectors.Vocab at 0x15d37588>,\n",
       " 'vue': <gensim.models.keyedvectors.Vocab at 0x15d375c0>,\n",
       " 'nous': <gensim.models.keyedvectors.Vocab at 0x15d375f8>,\n",
       " 'avons': <gensim.models.keyedvectors.Vocab at 0x15d37630>,\n",
       " 'depuis': <gensim.models.keyedvectors.Vocab at 0x15d37668>,\n",
       " 'St': <gensim.models.keyedvectors.Vocab at 0x15d376a0>,\n",
       " 'Jeannet': <gensim.models.keyedvectors.Vocab at 0x15d376d8>,\n",
       " 'Bien': <gensim.models.keyedvectors.Vocab at 0x15d37710>,\n",
       " 'sur,': <gensim.models.keyedvectors.Vocab at 0x15d37748>,\n",
       " 'balader': <gensim.models.keyedvectors.Vocab at 0x15d37780>,\n",
       " 'vignes': <gensim.models.keyedvectors.Vocab at 0x15d377b8>,\n",
       " 'mais': <gensim.models.keyedvectors.Vocab at 0x15d377f0>,\n",
       " 'également': <gensim.models.keyedvectors.Vocab at 0x15d37828>,\n",
       " 'cave': <gensim.models.keyedvectors.Vocab at 0x15d37860>,\n",
       " 'montrerons': <gensim.models.keyedvectors.Vocab at 0x15d37898>,\n",
       " 'vinification': <gensim.models.keyedvectors.Vocab at 0x15d378d0>,\n",
       " 'vin': <gensim.models.keyedvectors.Vocab at 0x15d37908>,\n",
       " 'tuilé': <gensim.models.keyedvectors.Vocab at 0x15d37940>,\n",
       " 'Si': <gensim.models.keyedvectors.Vocab at 0x15d37978>,\n",
       " 'venez': <gensim.models.keyedvectors.Vocab at 0x15d379b0>,\n",
       " 'pendant': <gensim.models.keyedvectors.Vocab at 0x15d379e8>,\n",
       " 'vendanges,': <gensim.models.keyedvectors.Vocab at 0x15d37a20>,\n",
       " 'manière': <gensim.models.keyedvectors.Vocab at 0x15d37a58>,\n",
       " \"s'occuper\": <gensim.models.keyedvectors.Vocab at 0x15d37a90>,\n",
       " 'pied': <gensim.models.keyedvectors.Vocab at 0x15d37ac8>,\n",
       " 'vigne': <gensim.models.keyedvectors.Vocab at 0x15d37b00>,\n",
       " 'terminerons': <gensim.models.keyedvectors.Vocab at 0x15d37b38>,\n",
       " 'visite': <gensim.models.keyedvectors.Vocab at 0x15d37b70>,\n",
       " 'une': <gensim.models.keyedvectors.Vocab at 0x15d37ba8>,\n",
       " 'dégustation': <gensim.models.keyedvectors.Vocab at 0x15d37be0>,\n",
       " 'cuvées': <gensim.models.keyedvectors.Vocab at 0x15d37c18>,\n",
       " 'On': <gensim.models.keyedvectors.Vocab at 0x15d37c50>,\n",
       " 'attend!': <gensim.models.keyedvectors.Vocab at 0x15d37c88>,\n",
       " 'élaborons': <gensim.models.keyedvectors.Vocab at 0x15d37cc0>,\n",
       " 'Pastis': <gensim.models.keyedvectors.Vocab at 0x15d37cf8>,\n",
       " 'peu': <gensim.models.keyedvectors.Vocab at 0x15d37d30>,\n",
       " 'Gin': <gensim.models.keyedvectors.Vocab at 0x15d37d68>,\n",
       " 'A': <gensim.models.keyedvectors.Vocab at 0x15d37da0>,\n",
       " \"s'ajoute\": <gensim.models.keyedvectors.Vocab at 0x15d37dd8>,\n",
       " 'fabrique': <gensim.models.keyedvectors.Vocab at 0x15d37e10>,\n",
       " 'êtes': <gensim.models.keyedvectors.Vocab at 0x15d37e48>,\n",
       " 'chanceux,': <gensim.models.keyedvectors.Vocab at 0x15d37e80>,\n",
       " 'assister': <gensim.models.keyedvectors.Vocab at 0x15d37eb8>,\n",
       " 'mise': <gensim.models.keyedvectors.Vocab at 0x15d37ef0>,\n",
       " 'bouteille': <gensim.models.keyedvectors.Vocab at 0x15d37f28>,\n",
       " 'Le': <gensim.models.keyedvectors.Vocab at 0x15d37f60>,\n",
       " 'secret': <gensim.models.keyedvectors.Vocab at 0x15d37f98>,\n",
       " 'étant': <gensim.models.keyedvectors.Vocab at 0x15d37fd0>,\n",
       " 'quand': <gensim.models.keyedvectors.Vocab at 0x15d35048>,\n",
       " 'lui': <gensim.models.keyedvectors.Vocab at 0x15d35080>,\n",
       " 'gardé': <gensim.models.keyedvectors.Vocab at 0x15d350b8>,\n",
       " 'bientôt': <gensim.models.keyedvectors.Vocab at 0x15d350f0>,\n",
       " 'veux': <gensim.models.keyedvectors.Vocab at 0x15d35128>,\n",
       " 'emmener': <gensim.models.keyedvectors.Vocab at 0x15d35160>,\n",
       " 'monde': <gensim.models.keyedvectors.Vocab at 0x15d35198>,\n",
       " 'créatif': <gensim.models.keyedvectors.Vocab at 0x15d351d0>,\n",
       " 'expliquer': <gensim.models.keyedvectors.Vocab at 0x15d35208>,\n",
       " 'beauté': <gensim.models.keyedvectors.Vocab at 0x15d35240>,\n",
       " 'ce': <gensim.models.keyedvectors.Vocab at 0x15d35278>,\n",
       " 'métier,': <gensim.models.keyedvectors.Vocab at 0x15d352b0>,\n",
       " 'gestes,': <gensim.models.keyedvectors.Vocab at 0x15d352e8>,\n",
       " 'initiation': <gensim.models.keyedvectors.Vocab at 0x15d35320>,\n",
       " 'aux': <gensim.models.keyedvectors.Vocab at 0x15d35358>,\n",
       " 'poterie': <gensim.models.keyedvectors.Vocab at 0x15d35390>,\n",
       " 'atelier': <gensim.models.keyedvectors.Vocab at 0x15d353c8>,\n",
       " 'Vallauris': <gensim.models.keyedvectors.Vocab at 0x15d35400>,\n",
       " \"J'aime\": <gensim.models.keyedvectors.Vocab at 0x15d35438>,\n",
       " 'Les': <gensim.models.keyedvectors.Vocab at 0x15d35470>,\n",
       " 'familles': <gensim.models.keyedvectors.Vocab at 0x15d354a8>,\n",
       " 'enfants': <gensim.models.keyedvectors.Vocab at 0x15d354e0>,\n",
       " 'bienvenues': <gensim.models.keyedvectors.Vocab at 0x15d35518>,\n",
       " 'expliquerais': <gensim.models.keyedvectors.Vocab at 0x15d35550>,\n",
       " 'comment': <gensim.models.keyedvectors.Vocab at 0x15d35588>,\n",
       " 'recycler': <gensim.models.keyedvectors.Vocab at 0x15d355c0>,\n",
       " 'matériaux': <gensim.models.keyedvectors.Vocab at 0x15d355f8>,\n",
       " 'jours': <gensim.models.keyedvectors.Vocab at 0x15d35630>,\n",
       " 'leur': <gensim.models.keyedvectors.Vocab at 0x15d35668>,\n",
       " 'donner': <gensim.models.keyedvectors.Vocab at 0x15d356a0>,\n",
       " 'seconde': <gensim.models.keyedvectors.Vocab at 0x15d356d8>,\n",
       " 'essayez': <gensim.models.keyedvectors.Vocab at 0x15d35710>,\n",
       " 'petite': <gensim.models.keyedvectors.Vocab at 0x15d35748>,\n",
       " 'Au': <gensim.models.keyedvectors.Vocab at 0x15d35780>,\n",
       " 'sein': <gensim.models.keyedvectors.Vocab at 0x15d357b8>,\n",
       " 'confectionnerons': <gensim.models.keyedvectors.Vocab at 0x15d357f0>,\n",
       " 'ensemble': <gensim.models.keyedvectors.Vocab at 0x15d35828>,\n",
       " 'petits': <gensim.models.keyedvectors.Vocab at 0x15d35860>,\n",
       " 'accessoires': <gensim.models.keyedvectors.Vocab at 0x15d35898>,\n",
       " 'maroquinerie': <gensim.models.keyedvectors.Vocab at 0x15d358d0>,\n",
       " '\\nEn': <gensim.models.keyedvectors.Vocab at 0x15d35908>,\n",
       " 'fonction': <gensim.models.keyedvectors.Vocab at 0x15d35940>,\n",
       " 'temps': <gensim.models.keyedvectors.Vocab at 0x15d35978>,\n",
       " 'dont': <gensim.models.keyedvectors.Vocab at 0x15d359b0>,\n",
       " 'disposerez,': <gensim.models.keyedvectors.Vocab at 0x15d359e8>,\n",
       " 'fabriquer': <gensim.models.keyedvectors.Vocab at 0x15d35a20>,\n",
       " 'repartir': <gensim.models.keyedvectors.Vocab at 0x15d35a58>,\n",
       " 'un': <gensim.models.keyedvectors.Vocab at 0x15d35a90>,\n",
       " 'joli': <gensim.models.keyedvectors.Vocab at 0x15d35ac8>,\n",
       " 'porte-carte': <gensim.models.keyedvectors.Vocab at 0x15d35b00>,\n",
       " 'et/ou': <gensim.models.keyedvectors.Vocab at 0x15d35b38>,\n",
       " 'pampille': <gensim.models.keyedvectors.Vocab at 0x15d35b70>,\n",
       " 'cuir': <gensim.models.keyedvectors.Vocab at 0x15d35ba8>,\n",
       " '\\nVous': <gensim.models.keyedvectors.Vocab at 0x15d35be0>,\n",
       " 'choisirez': <gensim.models.keyedvectors.Vocab at 0x15d35c18>,\n",
       " 'parmi': <gensim.models.keyedvectors.Vocab at 0x15d35c50>,\n",
       " 'très': <gensim.models.keyedvectors.Vocab at 0x15d35c88>,\n",
       " 'grand': <gensim.models.keyedvectors.Vocab at 0x15d35cc0>,\n",
       " 'choix': <gensim.models.keyedvectors.Vocab at 0x15d35cf8>,\n",
       " 'peau': <gensim.models.keyedvectors.Vocab at 0x15d35d30>,\n",
       " 'couleur': <gensim.models.keyedvectors.Vocab at 0x15d35d68>,\n",
       " '\\nTout': <gensim.models.keyedvectors.Vocab at 0x15d35da0>,\n",
       " 'sera': <gensim.models.keyedvectors.Vocab at 0x15d35dd8>,\n",
       " 'fourni,': <gensim.models.keyedvectors.Vocab at 0x15d35e10>,\n",
       " 'là': <gensim.models.keyedvectors.Vocab at 0x15d35e48>,\n",
       " 'guider': <gensim.models.keyedvectors.Vocab at 0x15d35e80>,\n",
       " '\\nVenez': <gensim.models.keyedvectors.Vocab at 0x15d35eb8>,\n",
       " 'agréable': <gensim.models.keyedvectors.Vocab at 0x15d35ef0>,\n",
       " 'partagé': <gensim.models.keyedvectors.Vocab at 0x15d35f28>,\n",
       " 'coeur': <gensim.models.keyedvectors.Vocab at 0x15d35f60>,\n",
       " 'Hacker': <gensim.models.keyedvectors.Vocab at 0x15d35f98>,\n",
       " 'Space': <gensim.models.keyedvectors.Vocab at 0x15d35fd0>,\n",
       " 'Beta': <gensim.models.keyedvectors.Vocab at 0x15d14048>,\n",
       " 'Machine,': <gensim.models.keyedvectors.Vocab at 0x15d14080>,\n",
       " 'plein': <gensim.models.keyedvectors.Vocab at 0x15d140b8>,\n",
       " 'cœur': <gensim.models.keyedvectors.Vocab at 0x15d140f0>,\n",
       " 'Chartres': <gensim.models.keyedvectors.Vocab at 0x15d14128>,\n",
       " '(28)': <gensim.models.keyedvectors.Vocab at 0x15d14160>,\n",
       " 'réaliser': <gensim.models.keyedvectors.Vocab at 0x15d14198>,\n",
       " 'même': <gensim.models.keyedvectors.Vocab at 0x15d141d0>,\n",
       " 'biscuit': <gensim.models.keyedvectors.Vocab at 0x15d14208>,\n",
       " 'porcelaine': <gensim.models.keyedvectors.Vocab at 0x15d14240>,\n",
       " 'rendre': <gensim.models.keyedvectors.Vocab at 0x15d14278>,\n",
       " 'montagnes,': <gensim.models.keyedvectors.Vocab at 0x15d142b0>,\n",
       " 'invitons': <gensim.models.keyedvectors.Vocab at 0x15d142e8>,\n",
       " 'quelques': <gensim.models.keyedvectors.Vocab at 0x15d14320>,\n",
       " 'secrets': <gensim.models.keyedvectors.Vocab at 0x15d14358>,\n",
       " 'fabrication': <gensim.models.keyedvectors.Vocab at 0x15d14390>,\n",
       " 'ancestraux': <gensim.models.keyedvectors.Vocab at 0x15d143c8>,\n",
       " 'cadre': <gensim.models.keyedvectors.Vocab at 0x15d14400>,\n",
       " 'exceptionnel': <gensim.models.keyedvectors.Vocab at 0x15d14438>,\n",
       " 'offre': <gensim.models.keyedvectors.Vocab at 0x15d14470>,\n",
       " 'nature': <gensim.models.keyedvectors.Vocab at 0x15d144a8>,\n",
       " 'apprécier': <gensim.models.keyedvectors.Vocab at 0x15d144e0>,\n",
       " 'technique': <gensim.models.keyedvectors.Vocab at 0x15d14518>,\n",
       " 'main': <gensim.models.keyedvectors.Vocab at 0x15d14550>,\n",
       " \"l'homme\": <gensim.models.keyedvectors.Vocab at 0x15d14588>,\n",
       " 'extraire': <gensim.models.keyedvectors.Vocab at 0x15d145c0>,\n",
       " 'sève': <gensim.models.keyedvectors.Vocab at 0x15d145f8>,\n",
       " 'sapin': <gensim.models.keyedvectors.Vocab at 0x15d14630>,\n",
       " 'confectionner': <gensim.models.keyedvectors.Vocab at 0x15d14668>,\n",
       " 'sirop': <gensim.models.keyedvectors.Vocab at 0x15d146a0>,\n",
       " 'raku': <gensim.models.keyedvectors.Vocab at 0x15d146d8>,\n",
       " 'particulière': <gensim.models.keyedvectors.Vocab at 0x15d14710>,\n",
       " 'cuissson': <gensim.models.keyedvectors.Vocab at 0x15d14748>,\n",
       " 'serai': <gensim.models.keyedvectors.Vocab at 0x15d14780>,\n",
       " 'origines': <gensim.models.keyedvectors.Vocab at 0x15d147b8>,\n",
       " 'démonstration': <gensim.models.keyedvectors.Vocab at 0x15d147f0>,\n",
       " 'partager': <gensim.models.keyedvectors.Vocab at 0x15d14828>,\n",
       " 'lors': <gensim.models.keyedvectors.Vocab at 0x15d14860>,\n",
       " 'cet': <gensim.models.keyedvectors.Vocab at 0x15d14898>,\n",
       " '3': <gensim.models.keyedvectors.Vocab at 0x15d148d0>,\n",
       " 'heures': <gensim.models.keyedvectors.Vocab at 0x15d14908>,\n",
       " 'essayer': <gensim.models.keyedvectors.Vocab at 0x15d14940>,\n",
       " \"l'art\": <gensim.models.keyedvectors.Vocab at 0x15d14978>,\n",
       " 'thème': <gensim.models.keyedvectors.Vocab at 0x15d149b0>,\n",
       " ':': <gensim.models.keyedvectors.Vocab at 0x15d149e8>,\n",
       " 'Portrait': <gensim.models.keyedvectors.Vocab at 0x15d14a20>,\n",
       " 'Ensemble,': <gensim.models.keyedvectors.Vocab at 0x15d14a58>,\n",
       " 'allons': <gensim.models.keyedvectors.Vocab at 0x15d14a90>,\n",
       " 'sculpter': <gensim.models.keyedvectors.Vocab at 0x15d14ac8>,\n",
       " 'terre,': <gensim.models.keyedvectors.Vocab at 0x15d14b00>,\n",
       " 'modeler': <gensim.models.keyedvectors.Vocab at 0x15d14b38>,\n",
       " 'forme': <gensim.models.keyedvectors.Vocab at 0x15d14b70>,\n",
       " \"d'un\": <gensim.models.keyedvectors.Vocab at 0x15d14ba8>,\n",
       " 'membre': <gensim.models.keyedvectors.Vocab at 0x15d14be0>,\n",
       " '\\xa0': <gensim.models.keyedvectors.Vocab at 0x15d14c18>,\n",
       " 'serais': <gensim.models.keyedvectors.Vocab at 0x15d14c50>,\n",
       " 'guider,': <gensim.models.keyedvectors.Vocab at 0x15d14c88>,\n",
       " 'aider': <gensim.models.keyedvectors.Vocab at 0x15d14cc0>,\n",
       " 'réalisation': <gensim.models.keyedvectors.Vocab at 0x15d14cf8>,\n",
       " 'vos': <gensim.models.keyedvectors.Vocab at 0x15d14d30>,\n",
       " 'créations': <gensim.models.keyedvectors.Vocab at 0x15d14d68>,\n",
       " '\\xa0\\nCes': <gensim.models.keyedvectors.Vocab at 0x15d14da0>,\n",
       " 'ateliers': <gensim.models.keyedvectors.Vocab at 0x15d14dd8>,\n",
       " 'ouverts': <gensim.models.keyedvectors.Vocab at 0x15d14e10>,\n",
       " 'personnes': <gensim.models.keyedvectors.Vocab at 0x15d14e48>,\n",
       " 'ayant': <gensim.models.keyedvectors.Vocab at 0x15d14e80>,\n",
       " '5': <gensim.models.keyedvectors.Vocab at 0x15d14eb8>,\n",
       " 'ans': <gensim.models.keyedvectors.Vocab at 0x15d14ef0>,\n",
       " 'plus': <gensim.models.keyedvectors.Vocab at 0x15d14f28>,\n",
       " 'tarif': <gensim.models.keyedvectors.Vocab at 0x15d14f60>,\n",
       " '35€': <gensim.models.keyedvectors.Vocab at 0x15d14f98>,\n",
       " 'deux': <gensim.models.keyedvectors.Vocab at 0x15d14fd0>,\n",
       " 'Au-delà': <gensim.models.keyedvectors.Vocab at 0x15d36fd0>,\n",
       " 'personne': <gensim.models.keyedvectors.Vocab at 0x15d36f98>,\n",
       " 'supplémentaire': <gensim.models.keyedvectors.Vocab at 0x15d36f60>,\n",
       " \"c'est\": <gensim.models.keyedvectors.Vocab at 0x15d36f28>,\n",
       " '15€': <gensim.models.keyedvectors.Vocab at 0x15d36ef0>,\n",
       " 'régler': <gensim.models.keyedvectors.Vocab at 0x15d36eb8>,\n",
       " 'place!\\nRendez-vous': <gensim.models.keyedvectors.Vocab at 0x15d36e80>,\n",
       " 'samedi': <gensim.models.keyedvectors.Vocab at 0x15d36e48>,\n",
       " '30': <gensim.models.keyedvectors.Vocab at 0x15d36e10>,\n",
       " 'juin': <gensim.models.keyedvectors.Vocab at 0x15d36dd8>,\n",
       " '15': <gensim.models.keyedvectors.Vocab at 0x15d36da0>,\n",
       " 'h': <gensim.models.keyedvectors.Vocab at 0x15d36d68>,\n",
       " '18': <gensim.models.keyedvectors.Vocab at 0x15d36d30>,\n",
       " 'détente,': <gensim.models.keyedvectors.Vocab at 0x15d36cf8>,\n",
       " 'découverte': <gensim.models.keyedvectors.Vocab at 0x15d36cc0>,\n",
       " '\\n\\n35,00€': <gensim.models.keyedvectors.Vocab at 0x15d36c88>,\n",
       " 'ludique': <gensim.models.keyedvectors.Vocab at 0x15d36c50>,\n",
       " 'exercer': <gensim.models.keyedvectors.Vocab at 0x15d36c18>,\n",
       " 'peinture': <gensim.models.keyedvectors.Vocab at 0x15d36be0>,\n",
       " 'tissu': <gensim.models.keyedvectors.Vocab at 0x15d36ba8>,\n",
       " 'expliquerai': <gensim.models.keyedvectors.Vocab at 0x15d36b70>,\n",
       " 'pouvoir': <gensim.models.keyedvectors.Vocab at 0x15d36b38>,\n",
       " 'exprimer': <gensim.models.keyedvectors.Vocab at 0x15d36b00>,\n",
       " 'créativité': <gensim.models.keyedvectors.Vocab at 0x15d36ac8>,\n",
       " 'facilement': <gensim.models.keyedvectors.Vocab at 0x15d36a90>,\n",
       " 'Pas': <gensim.models.keyedvectors.Vocab at 0x15d36a58>,\n",
       " 'sueurs': <gensim.models.keyedvectors.Vocab at 0x15d36a20>,\n",
       " 'froides,': <gensim.models.keyedvectors.Vocab at 0x15d369e8>,\n",
       " 'grands': <gensim.models.keyedvectors.Vocab at 0x15d369b0>,\n",
       " 'bienvenus': <gensim.models.keyedvectors.Vocab at 0x15d36978>,\n",
       " 'compterai': <gensim.models.keyedvectors.Vocab at 0x15d36940>,\n",
       " 'intrigante': <gensim.models.keyedvectors.Vocab at 0x15d36908>,\n",
       " \"l'origine\": <gensim.models.keyedvectors.Vocab at 0x15d368d0>,\n",
       " 'sorcières': <gensim.models.keyedvectors.Vocab at 0x15d36898>,\n",
       " 'pays': <gensim.models.keyedvectors.Vocab at 0x15d36860>,\n",
       " 'Elles': <gensim.models.keyedvectors.Vocab at 0x15d36828>,\n",
       " 'portent': <gensim.models.keyedvectors.Vocab at 0x15d367f0>,\n",
       " 'chance,': <gensim.models.keyedvectors.Vocab at 0x15d367b8>,\n",
       " 'verrez': <gensim.models.keyedvectors.Vocab at 0x15d36780>,\n",
       " ':)': <gensim.models.keyedvectors.Vocab at 0x15d36748>,\n",
       " 'Toute': <gensim.models.keyedvectors.Vocab at 0x15d36710>,\n",
       " \"l'année,\": <gensim.models.keyedvectors.Vocab at 0x15d366d8>,\n",
       " 'liés': <gensim.models.keyedvectors.Vocab at 0x15d366a0>,\n",
       " 'Des': <gensim.models.keyedvectors.Vocab at 0x15d36668>,\n",
       " 'initiations': <gensim.models.keyedvectors.Vocab at 0x15d36630>,\n",
       " 'stages': <gensim.models.keyedvectors.Vocab at 0x15d365f8>,\n",
       " 'thématique': <gensim.models.keyedvectors.Vocab at 0x15d365c0>,\n",
       " 'adultes': <gensim.models.keyedvectors.Vocab at 0x15d36588>,\n",
       " 'accompagnement': <gensim.models.keyedvectors.Vocab at 0x15d36550>,\n",
       " 'approfondir': <gensim.models.keyedvectors.Vocab at 0x15d36518>,\n",
       " 'initier': <gensim.models.keyedvectors.Vocab at 0x15d364e0>,\n",
       " 'travers': <gensim.models.keyedvectors.Vocab at 0x15d364a8>,\n",
       " 'plusieurs': <gensim.models.keyedvectors.Vocab at 0x15d36470>,\n",
       " 'objets': <gensim.models.keyedvectors.Vocab at 0x15d36438>,\n",
       " '14': <gensim.models.keyedvectors.Vocab at 0x15d36400>,\n",
       " '\\nRendez-vous': <gensim.models.keyedvectors.Vocab at 0x15d363c8>,\n",
       " 'samedis': <gensim.models.keyedvectors.Vocab at 0x15d36390>,\n",
       " 'matin': <gensim.models.keyedvectors.Vocab at 0x15d36358>,\n",
       " 'du\\xa07,': <gensim.models.keyedvectors.Vocab at 0x15d36320>,\n",
       " '14,': <gensim.models.keyedvectors.Vocab at 0x15d362e8>,\n",
       " '21': <gensim.models.keyedvectors.Vocab at 0x15d362b0>,\n",
       " 'juillet': <gensim.models.keyedvectors.Vocab at 0x15d36278>,\n",
       " '18,': <gensim.models.keyedvectors.Vocab at 0x15d36240>,\n",
       " '25': <gensim.models.keyedvectors.Vocab at 0x15d36208>,\n",
       " 'août\\xa0de': <gensim.models.keyedvectors.Vocab at 0x15d361d0>,\n",
       " '10h': <gensim.models.keyedvectors.Vocab at 0x15d36198>,\n",
       " '13h': <gensim.models.keyedvectors.Vocab at 0x15d36160>,\n",
       " '!\\xa0\\n\\n\\n30,00€': <gensim.models.keyedvectors.Vocab at 0x15d36128>,\n",
       " '2': <gensim.models.keyedvectors.Vocab at 0x15d360f0>,\n",
       " \"s'essayent\": <gensim.models.keyedvectors.Vocab at 0x15d360b8>,\n",
       " 'art': <gensim.models.keyedvectors.Vocab at 0x15d36080>,\n",
       " 'développeront': <gensim.models.keyedvectors.Vocab at 0x15d36048>,\n",
       " 'toucher': <gensim.models.keyedvectors.Vocab at 0x15d38fd0>,\n",
       " 'réalisations': <gensim.models.keyedvectors.Vocab at 0x15d38f98>,\n",
       " 'Vos': <gensim.models.keyedvectors.Vocab at 0x15d38f60>,\n",
       " 'pourront': <gensim.models.keyedvectors.Vocab at 0x15d38f28>,\n",
       " 'tirelires': <gensim.models.keyedvectors.Vocab at 0x15d38ef0>,\n",
       " 'dont-ils': <gensim.models.keyedvectors.Vocab at 0x15d38eb8>,\n",
       " 'ont': <gensim.models.keyedvectors.Vocab at 0x15d38e80>,\n",
       " 'envie!\\nCes': <gensim.models.keyedvectors.Vocab at 0x15d38e48>,\n",
       " 'séances': <gensim.models.keyedvectors.Vocab at 0x15d38e10>,\n",
       " 'ouvertes': <gensim.models.keyedvectors.Vocab at 0x15d38dd8>,\n",
       " '13': <gensim.models.keyedvectors.Vocab at 0x15d38da0>,\n",
       " '\"adultes\"': <gensim.models.keyedvectors.Vocab at 0x15d38d68>,\n",
       " '\\xa0\\nRendez-vous': <gensim.models.keyedvectors.Vocab at 0x15d38d30>,\n",
       " 'matinées': <gensim.models.keyedvectors.Vocab at 0x15d38cf8>,\n",
       " '12h': <gensim.models.keyedvectors.Vocab at 0x15d38cc0>,\n",
       " '16': <gensim.models.keyedvectors.Vocab at 0x15d38c88>,\n",
       " '20': <gensim.models.keyedvectors.Vocab at 0x15d38c50>,\n",
       " '23': <gensim.models.keyedvectors.Vocab at 0x15d38c18>,\n",
       " '27': <gensim.models.keyedvectors.Vocab at 0x15d38be0>,\n",
       " '!\\xa0\\n\\n20,00€': <gensim.models.keyedvectors.Vocab at 0x15d38ba8>,\n",
       " 'donne': <gensim.models.keyedvectors.Vocab at 0x15d38b70>,\n",
       " 'cours': <gensim.models.keyedvectors.Vocab at 0x15d38b38>,\n",
       " 'offrir': <gensim.models.keyedvectors.Vocab at 0x15d38b00>,\n",
       " 'transmettre': <gensim.models.keyedvectors.Vocab at 0x15d38ac8>,\n",
       " 'astuces': <gensim.models.keyedvectors.Vocab at 0x15d38a90>,\n",
       " 'Pauline': <gensim.models.keyedvectors.Vocab at 0x15d38a58>,\n",
       " 'Bayle': <gensim.models.keyedvectors.Vocab at 0x15d38a20>,\n",
       " 'signe': <gensim.models.keyedvectors.Vocab at 0x15d389e8>,\n",
       " 'cette': <gensim.models.keyedvectors.Vocab at 0x15d389b0>,\n",
       " 'adaptation': <gensim.models.keyedvectors.Vocab at 0x15d38978>,\n",
       " 'fois': <gensim.models.keyedvectors.Vocab at 0x15d38940>,\n",
       " 'drôle': <gensim.models.keyedvectors.Vocab at 0x15d38908>,\n",
       " 'tragique': <gensim.models.keyedvectors.Vocab at 0x15d388d0>,\n",
       " 'récit': <gensim.models.keyedvectors.Vocab at 0x15d38898>,\n",
       " 'épique': <gensim.models.keyedvectors.Vocab at 0x15d38860>,\n",
       " 'Sous': <gensim.models.keyedvectors.Vocab at 0x15d38828>,\n",
       " 'regard': <gensim.models.keyedvectors.Vocab at 0x15d387f0>,\n",
       " 'Dieux': <gensim.models.keyedvectors.Vocab at 0x15d387b8>,\n",
       " 'l’Olympe,': <gensim.models.keyedvectors.Vocab at 0x15d38780>,\n",
       " 'l’intrigue': <gensim.models.keyedvectors.Vocab at 0x15d38748>,\n",
       " 'noue': <gensim.models.keyedvectors.Vocab at 0x15d38710>,\n",
       " 'entre': <gensim.models.keyedvectors.Vocab at 0x15d386d8>,\n",
       " 'élans': <gensim.models.keyedvectors.Vocab at 0x15d386a0>,\n",
       " 'amoureux,': <gensim.models.keyedvectors.Vocab at 0x15d38668>,\n",
       " 'combats': <gensim.models.keyedvectors.Vocab at 0x15d38630>,\n",
       " 'titanesques,': <gensim.models.keyedvectors.Vocab at 0x15d385f8>,\n",
       " 'accès': <gensim.models.keyedvectors.Vocab at 0x15d385c0>,\n",
       " 'colère': <gensim.models.keyedvectors.Vocab at 0x15d38588>,\n",
       " 'compassion': <gensim.models.keyedvectors.Vocab at 0x15d38550>,\n",
       " 'Fidèle': <gensim.models.keyedvectors.Vocab at 0x15d38518>,\n",
       " 'l’esprit': <gensim.models.keyedvectors.Vocab at 0x15d384e0>,\n",
       " 'texte': <gensim.models.keyedvectors.Vocab at 0x15d384a8>,\n",
       " 'original,': <gensim.models.keyedvectors.Vocab at 0x15d38470>,\n",
       " 'dessine': <gensim.models.keyedvectors.Vocab at 0x15d38438>,\n",
       " 'héros': <gensim.models.keyedvectors.Vocab at 0x15d38400>,\n",
       " 'imparfaits,': <gensim.models.keyedvectors.Vocab at 0x15d383c8>,\n",
       " 'Achille': <gensim.models.keyedvectors.Vocab at 0x15d38390>,\n",
       " 'féminin,': <gensim.models.keyedvectors.Vocab at 0x15d38358>,\n",
       " 'Poséidon': <gensim.models.keyedvectors.Vocab at 0x15d38320>,\n",
       " 'slameur': <gensim.models.keyedvectors.Vocab at 0x15d382e8>,\n",
       " 'Quelques': <gensim.models.keyedvectors.Vocab at 0x15d382b0>,\n",
       " 'chaises,': <gensim.models.keyedvectors.Vocab at 0x15d38278>,\n",
       " 'paillettes,': <gensim.models.keyedvectors.Vocab at 0x15d38240>,\n",
       " 'rouge': <gensim.models.keyedvectors.Vocab at 0x15d38208>,\n",
       " 'poussière': <gensim.models.keyedvectors.Vocab at 0x15d381d0>,\n",
       " 'suffisent': <gensim.models.keyedvectors.Vocab at 0x15d38198>,\n",
       " 'évoquer': <gensim.models.keyedvectors.Vocab at 0x15d38160>,\n",
       " 'guerre': <gensim.models.keyedvectors.Vocab at 0x15d38128>,\n",
       " 'Troie': <gensim.models.keyedvectors.Vocab at 0x15d380f0>,\n",
       " 'ensanglantée': <gensim.models.keyedvectors.Vocab at 0x15d380b8>,\n",
       " 'images': <gensim.models.keyedvectors.Vocab at 0x15d38080>,\n",
       " 'magnifiques': <gensim.models.keyedvectors.Vocab at 0x15d38048>,\n",
       " 'rythmées,': <gensim.models.keyedvectors.Vocab at 0x15d04048>,\n",
       " 'poésie': <gensim.models.keyedvectors.Vocab at 0x15d04080>,\n",
       " 'hypnotique,': <gensim.models.keyedvectors.Vocab at 0x15d040b8>,\n",
       " 'acteurs': <gensim.models.keyedvectors.Vocab at 0x15d040f0>,\n",
       " 'fougueux,': <gensim.models.keyedvectors.Vocab at 0x15d04128>,\n",
       " 'ingrédients': <gensim.models.keyedvectors.Vocab at 0x15d04198>,\n",
       " 'entendre': <gensim.models.keyedvectors.Vocab at 0x15d041d0>,\n",
       " 'poème': <gensim.models.keyedvectors.Vocab at 0x15d04278>,\n",
       " 'chanté': <gensim.models.keyedvectors.Vocab at 0x15d04320>,\n",
       " 'aèdes,': <gensim.models.keyedvectors.Vocab at 0x15d04358>,\n",
       " 'ces': <gensim.models.keyedvectors.Vocab at 0x15d04390>,\n",
       " 'troubadours': <gensim.models.keyedvectors.Vocab at 0x15d042b0>,\n",
       " 'l’Antiquité': <gensim.models.keyedvectors.Vocab at 0x15d04400>,\n",
       " 's’en': <gensim.models.keyedvectors.Vocab at 0x15d04208>,\n",
       " 'allaient': <gensim.models.keyedvectors.Vocab at 0x15d042e8>,\n",
       " 'cité': <gensim.models.keyedvectors.Vocab at 0x15d043c8>,\n",
       " 'conter': <gensim.models.keyedvectors.Vocab at 0x15d04438>,\n",
       " 'l’Histoire': <gensim.models.keyedvectors.Vocab at 0x15d04470>,\n",
       " '\\nDans': <gensim.models.keyedvectors.Vocab at 0x15d044a8>,\n",
       " 'élan': <gensim.models.keyedvectors.Vocab at 0x15d04240>,\n",
       " 'commun,': <gensim.models.keyedvectors.Vocab at 0x15d04160>,\n",
       " 'cinq': <gensim.models.keyedvectors.Vocab at 0x15d044e0>,\n",
       " 'jeunes': <gensim.models.keyedvectors.Vocab at 0x15d04518>,\n",
       " 'comédiens': <gensim.models.keyedvectors.Vocab at 0x15d04550>,\n",
       " 'mêlent': <gensim.models.keyedvectors.Vocab at 0x15d04588>,\n",
       " 'voix': <gensim.models.keyedvectors.Vocab at 0x15d045f8>,\n",
       " 'fin': <gensim.models.keyedvectors.Vocab at 0x15d04630>,\n",
       " 'l’épopée': <gensim.models.keyedvectors.Vocab at 0x15d045c0>,\n",
       " 'homérique': <gensim.models.keyedvectors.Vocab at 0x15d04668>,\n",
       " 'embrasser': <gensim.models.keyedvectors.Vocab at 0x15d046a0>,\n",
       " 'corps': <gensim.models.keyedvectors.Vocab at 0x15d04710>,\n",
       " 'âme': <gensim.models.keyedvectors.Vocab at 0x15d04780>,\n",
       " 'destinées': <gensim.models.keyedvectors.Vocab at 0x15d04860>,\n",
       " '': <gensim.models.keyedvectors.Vocab at 0x15d04898>,\n",
       " '-': <gensim.models.keyedvectors.Vocab at 0x15d04940>,\n",
       " 'Salle': <gensim.models.keyedvectors.Vocab at 0x15d04908>,\n",
       " 'Michel': <gensim.models.keyedvectors.Vocab at 0x15d049b0>,\n",
       " 'Simon': <gensim.models.keyedvectors.Vocab at 0x15d049e8>,\n",
       " '·': <gensim.models.keyedvectors.Vocab at 0x15d04a58>,\n",
       " 'durée': <gensim.models.keyedvectors.Vocab at 0x15d04a90>,\n",
       " '1h30': <gensim.models.keyedvectors.Vocab at 0x15d048d0>,\n",
       " '+\\nGarde': <gensim.models.keyedvectors.Vocab at 0x15d04748>,\n",
       " 'd’enfants': <gensim.models.keyedvectors.Vocab at 0x15d04a20>,\n",
       " '6': <gensim.models.keyedvectors.Vocab at 0x15d04ac8>,\n",
       " '11': <gensim.models.keyedvectors.Vocab at 0x15d04b38>,\n",
       " 'avril,': <gensim.models.keyedvectors.Vocab at 0x15d04828>,\n",
       " 'réservation': <gensim.models.keyedvectors.Vocab at 0x15d04b00>,\n",
       " 'obligatoire': <gensim.models.keyedvectors.Vocab at 0x15d04978>,\n",
       " 'Docteur': <gensim.models.keyedvectors.Vocab at 0x15d047b8>,\n",
       " 'Stern,': <gensim.models.keyedvectors.Vocab at 0x15d047f0>,\n",
       " 'renommée': <gensim.models.keyedvectors.Vocab at 0x15d04b70>,\n",
       " 'mondiale,': <gensim.models.keyedvectors.Vocab at 0x15d04ba8>,\n",
       " \"l'un\": <gensim.models.keyedvectors.Vocab at 0x15d04be0>,\n",
       " 'spécialistes': <gensim.models.keyedvectors.Vocab at 0x15d04c50>,\n",
       " 'traitement': <gensim.models.keyedvectors.Vocab at 0x15d04c88>,\n",
       " 'troubles': <gensim.models.keyedvectors.Vocab at 0x15d04cc0>,\n",
       " 'obsessionnels': <gensim.models.keyedvectors.Vocab at 0x15d04cf8>,\n",
       " 'compulsifs': <gensim.models.keyedvectors.Vocab at 0x15d04c18>,\n",
       " 'appelés': <gensim.models.keyedvectors.Vocab at 0x15d046d8>,\n",
       " '\"TOC\",': <gensim.models.keyedvectors.Vocab at 0x15d04dd8>,\n",
       " 'ne': <gensim.models.keyedvectors.Vocab at 0x15d04d68>,\n",
       " 'consulte': <gensim.models.keyedvectors.Vocab at 0x15d04fd0>,\n",
       " 'rarement': <gensim.models.keyedvectors.Vocab at 0x15d04e48>,\n",
       " 'France': <gensim.models.keyedvectors.Vocab at 0x15d04ef0>,\n",
       " '\\nSix': <gensim.models.keyedvectors.Vocab at 0x15d04e10>,\n",
       " 'patients': <gensim.models.keyedvectors.Vocab at 0x15d04d30>,\n",
       " 'bavardent': <gensim.models.keyedvectors.Vocab at 0x15d04eb8>,\n",
       " 'salle': <gensim.models.keyedvectors.Vocab at 0x15d04f98>,\n",
       " \"d'attente,\": <gensim.models.keyedvectors.Vocab at 0x15d04f60>,\n",
       " 'dû': <gensim.models.keyedvectors.Vocab at 0x15d04e80>,\n",
       " 'attendre': <gensim.models.keyedvectors.Vocab at 0x15d04da0>,\n",
       " 'nombreux': <gensim.models.keyedvectors.Vocab at 0x15d04f28>,\n",
       " 'mois': <gensim.models.keyedvectors.Vocab at 0x15d27048>,\n",
       " 'obtenir': <gensim.models.keyedvectors.Vocab at 0x15d27080>,\n",
       " 'fameuse': <gensim.models.keyedvectors.Vocab at 0x15d270b8>,\n",
       " 'consultation': <gensim.models.keyedvectors.Vocab at 0x15d270f0>,\n",
       " \"\\nL'heure\": <gensim.models.keyedvectors.Vocab at 0x15d27128>,\n",
       " 'tourne': <gensim.models.keyedvectors.Vocab at 0x15d27160>,\n",
       " \"l'éminent\": <gensim.models.keyedvectors.Vocab at 0x15d27198>,\n",
       " 'neuro-psychiatre': <gensim.models.keyedvectors.Vocab at 0x15d271d0>,\n",
       " \"n'arrive\": <gensim.models.keyedvectors.Vocab at 0x15d27208>,\n",
       " 'toujours': <gensim.models.keyedvectors.Vocab at 0x15d27240>,\n",
       " 'pas,': <gensim.models.keyedvectors.Vocab at 0x15d27278>,\n",
       " 'bloqué': <gensim.models.keyedvectors.Vocab at 0x15d272b0>,\n",
       " 'apparemment': <gensim.models.keyedvectors.Vocab at 0x15d272e8>,\n",
       " 'Francfort': <gensim.models.keyedvectors.Vocab at 0x15d27320>,\n",
       " 'aléas': <gensim.models.keyedvectors.Vocab at 0x15d27358>,\n",
       " 'transport': <gensim.models.keyedvectors.Vocab at 0x15d27390>,\n",
       " 'aérien': <gensim.models.keyedvectors.Vocab at 0x15d273c8>,\n",
       " 'décident': <gensim.models.keyedvectors.Vocab at 0x15d27400>,\n",
       " 'alors': <gensim.models.keyedvectors.Vocab at 0x15d27438>,\n",
       " 'tromper': <gensim.models.keyedvectors.Vocab at 0x15d27470>,\n",
       " \"l'ennui\": <gensim.models.keyedvectors.Vocab at 0x15d274a8>,\n",
       " 'essayant': <gensim.models.keyedvectors.Vocab at 0x15d274e0>,\n",
       " 'mieux': <gensim.models.keyedvectors.Vocab at 0x15d27518>,\n",
       " 'connaitre': <gensim.models.keyedvectors.Vocab at 0x15d27550>,\n",
       " 'finalement': <gensim.models.keyedvectors.Vocab at 0x15d27588>,\n",
       " 'livrent': <gensim.models.keyedvectors.Vocab at 0x15d275c0>,\n",
       " 'tour': <gensim.models.keyedvectors.Vocab at 0x15d275f8>,\n",
       " 'sorte': <gensim.models.keyedvectors.Vocab at 0x15d27630>,\n",
       " 'répétition': <gensim.models.keyedvectors.Vocab at 0x15d27668>,\n",
       " '\\nCoprolalie,': <gensim.models.keyedvectors.Vocab at 0x15d276a0>,\n",
       " 'Gilles': <gensim.models.keyedvectors.Vocab at 0x15d276d8>,\n",
       " 'Tourette,': <gensim.models.keyedvectors.Vocab at 0x15d27710>,\n",
       " 'Arithmomanie,': <gensim.models.keyedvectors.Vocab at 0x15d27748>,\n",
       " 'Nosophobie,': <gensim.models.keyedvectors.Vocab at 0x15d27780>,\n",
       " 'Toc': <gensim.models.keyedvectors.Vocab at 0x15d277b8>,\n",
       " 'vérification,': <gensim.models.keyedvectors.Vocab at 0x15d277f0>,\n",
       " 'Incapacité': <gensim.models.keyedvectors.Vocab at 0x15d27828>,\n",
       " 'marcher': <gensim.models.keyedvectors.Vocab at 0x15d27860>,\n",
       " 'lignes': <gensim.models.keyedvectors.Vocab at 0x15d27898>,\n",
       " '\\nLes': <gensim.models.keyedvectors.Vocab at 0x15d278d0>,\n",
       " 'TOC': <gensim.models.keyedvectors.Vocab at 0x15d27908>,\n",
       " \"s'entassent,\": <gensim.models.keyedvectors.Vocab at 0x15d27940>,\n",
       " 'bousculent': <gensim.models.keyedvectors.Vocab at 0x15d27978>,\n",
       " 'mélangent': <gensim.models.keyedvectors.Vocab at 0x15d279b0>,\n",
       " 'cabinet': <gensim.models.keyedvectors.Vocab at 0x15d279e8>,\n",
       " 'docteur': <gensim.models.keyedvectors.Vocab at 0x15d27a20>,\n",
       " 'absent': <gensim.models.keyedvectors.Vocab at 0x15d27a58>,\n",
       " '!\\nMais': <gensim.models.keyedvectors.Vocab at 0x15d27a90>,\n",
       " \"qu'est-ce\": <gensim.models.keyedvectors.Vocab at 0x15d27ac8>,\n",
       " \"qu'il\": <gensim.models.keyedvectors.Vocab at 0x15d27b00>,\n",
       " 'fout,': <gensim.models.keyedvectors.Vocab at 0x15d27b38>,\n",
       " 'bordel': <gensim.models.keyedvectors.Vocab at 0x15d27b70>,\n",
       " '?': <gensim.models.keyedvectors.Vocab at 0x15d27ba8>,\n",
       " 'Luigi': <gensim.models.keyedvectors.Vocab at 0x15d27be0>,\n",
       " 'Boccherini': <gensim.models.keyedvectors.Vocab at 0x15d27c18>,\n",
       " 'Concerto': <gensim.models.keyedvectors.Vocab at 0x15d27c50>,\n",
       " 'violoncelle': <gensim.models.keyedvectors.Vocab at 0x15d27c88>,\n",
       " 'cordes': <gensim.models.keyedvectors.Vocab at 0x15d27cc0>,\n",
       " 'n°6': <gensim.models.keyedvectors.Vocab at 0x15d27cf8>,\n",
       " 'ré': <gensim.models.keyedvectors.Vocab at 0x15d27d30>,\n",
       " 'majeur,': <gensim.models.keyedvectors.Vocab at 0x15d27d68>,\n",
       " 'G': <gensim.models.keyedvectors.Vocab at 0x15d27da0>,\n",
       " '479': <gensim.models.keyedvectors.Vocab at 0x15d27dd8>,\n",
       " 'Aulis': <gensim.models.keyedvectors.Vocab at 0x15d27e10>,\n",
       " 'Sallinen': <gensim.models.keyedvectors.Vocab at 0x15d27e48>,\n",
       " 'Chamber': <gensim.models.keyedvectors.Vocab at 0x15d27e80>,\n",
       " 'music': <gensim.models.keyedvectors.Vocab at 0x15d27eb8>,\n",
       " 'III,': <gensim.models.keyedvectors.Vocab at 0x15d27ef0>,\n",
       " '\\nDanses': <gensim.models.keyedvectors.Vocab at 0x15d27f28>,\n",
       " 'nocturnes': <gensim.models.keyedvectors.Vocab at 0x15d27f60>,\n",
       " 'Don': <gensim.models.keyedvectors.Vocab at 0x15d27f98>,\n",
       " 'Quichotte': <gensim.models.keyedvectors.Vocab at 0x15d27fd0>,\n",
       " 'orchestre': <gensim.models.keyedvectors.Vocab at 0x21b62048>,\n",
       " 'cordes,': <gensim.models.keyedvectors.Vocab at 0x21b62080>,\n",
       " 'opus': <gensim.models.keyedvectors.Vocab at 0x21b620b8>,\n",
       " '58': <gensim.models.keyedvectors.Vocab at 0x21b620f0>,\n",
       " 'Giovanni': <gensim.models.keyedvectors.Vocab at 0x21b62128>,\n",
       " 'Sollima': <gensim.models.keyedvectors.Vocab at 0x21b62160>,\n",
       " 'Violoncelles,': <gensim.models.keyedvectors.Vocab at 0x21b62198>,\n",
       " 'vibrez': <gensim.models.keyedvectors.Vocab at 0x21b621d0>,\n",
       " 'violoncelles': <gensim.models.keyedvectors.Vocab at 0x21b62208>,\n",
       " 'Jacques': <gensim.models.keyedvectors.Vocab at 0x21b62240>,\n",
       " 'Butaye': <gensim.models.keyedvectors.Vocab at 0x21b62278>,\n",
       " 'Over': <gensim.models.keyedvectors.Vocab at 0x21b622b0>,\n",
       " 'the': <gensim.models.keyedvectors.Vocab at 0x21b622e8>,\n",
       " 'rainbow,': <gensim.models.keyedvectors.Vocab at 0x21b62320>,\n",
       " '“Une': <gensim.models.keyedvectors.Vocab at 0x21b62358>,\n",
       " 'fête,': <gensim.models.keyedvectors.Vocab at 0x21b62390>,\n",
       " 'c’est': <gensim.models.keyedvectors.Vocab at 0x21b623c8>,\n",
       " 'vie…': <gensim.models.keyedvectors.Vocab at 0x21b62400>,\n",
       " 'Alors,': <gensim.models.keyedvectors.Vocab at 0x21b62438>,\n",
       " 'fête': <gensim.models.keyedvectors.Vocab at 0x21b62470>,\n",
       " 'commence': <gensim.models.keyedvectors.Vocab at 0x21b624a8>,\n",
       " '!”': <gensim.models.keyedvectors.Vocab at 0x21b624e0>,\n",
       " 'directeur': <gensim.models.keyedvectors.Vocab at 0x21b62518>,\n",
       " 'Théâtre': <gensim.models.keyedvectors.Vocab at 0x21b62550>,\n",
       " 'Quartiers': <gensim.models.keyedvectors.Vocab at 0x21b62588>,\n",
       " 'd’Ivry': <gensim.models.keyedvectors.Vocab at 0x21b625c0>,\n",
       " 'a': <gensim.models.keyedvectors.Vocab at 0x21b625f8>,\n",
       " 'imaginé': <gensim.models.keyedvectors.Vocab at 0x21b62630>,\n",
       " 'fresque': <gensim.models.keyedvectors.Vocab at 0x21b62668>,\n",
       " 'musicale': <gensim.models.keyedvectors.Vocab at 0x21b626a0>,\n",
       " 'poétique': <gensim.models.keyedvectors.Vocab at 0x21b626d8>,\n",
       " 'digne': <gensim.models.keyedvectors.Vocab at 0x21b62710>,\n",
       " 'grandes': <gensim.models.keyedvectors.Vocab at 0x21b62748>,\n",
       " 'tragédies': <gensim.models.keyedvectors.Vocab at 0x21b62780>,\n",
       " 'grecques,': <gensim.models.keyedvectors.Vocab at 0x21b627b8>,\n",
       " 'faite': <gensim.models.keyedvectors.Vocab at 0x21b627f0>,\n",
       " 'drames,': <gensim.models.keyedvectors.Vocab at 0x21b62828>,\n",
       " 'pleurs,': <gensim.models.keyedvectors.Vocab at 0x21b62860>,\n",
       " 'rires': <gensim.models.keyedvectors.Vocab at 0x21b62898>,\n",
       " 'rêves': <gensim.models.keyedvectors.Vocab at 0x21b628d0>,\n",
       " 'Un': <gensim.models.keyedvectors.Vocab at 0x21b62908>,\n",
       " 'choeur': <gensim.models.keyedvectors.Vocab at 0x21b62940>,\n",
       " 'raconte': <gensim.models.keyedvectors.Vocab at 0x21b62978>,\n",
       " 'amours': <gensim.models.keyedvectors.Vocab at 0x21b629b0>,\n",
       " 'déchirures': <gensim.models.keyedvectors.Vocab at 0x21b629e8>,\n",
       " 'd’une': <gensim.models.keyedvectors.Vocab at 0x21b62a20>,\n",
       " 'divisée': <gensim.models.keyedvectors.Vocab at 0x21b62a58>,\n",
       " 'Palestine': <gensim.models.keyedvectors.Vocab at 0x21b62a90>,\n",
       " 'Israël': <gensim.models.keyedvectors.Vocab at 0x21b62ac8>,\n",
       " 'De': <gensim.models.keyedvectors.Vocab at 0x21b62b00>,\n",
       " 'l’arrivée': <gensim.models.keyedvectors.Vocab at 0x21b62b38>,\n",
       " 'rescapés': <gensim.models.keyedvectors.Vocab at 0x21b62b70>,\n",
       " 'juifs': <gensim.models.keyedvectors.Vocab at 0x21b62ba8>,\n",
       " '1944': <gensim.models.keyedvectors.Vocab at 0x21b62be0>,\n",
       " 'l’Intifada': <gensim.models.keyedvectors.Vocab at 0x21b62c18>,\n",
       " '1988,': <gensim.models.keyedvectors.Vocab at 0x21b62c50>,\n",
       " 'pièce': <gensim.models.keyedvectors.Vocab at 0x21b62c88>,\n",
       " 'déroule': <gensim.models.keyedvectors.Vocab at 0x21b62cc0>,\n",
       " 'trois': <gensim.models.keyedvectors.Vocab at 0x21b62cf8>,\n",
       " 'générations': <gensim.models.keyedvectors.Vocab at 0x21b62d30>,\n",
       " 'écartelées': <gensim.models.keyedvectors.Vocab at 0x21b62d68>,\n",
       " 'convictions': <gensim.models.keyedvectors.Vocab at 0x21b62da0>,\n",
       " 'politiques': <gensim.models.keyedvectors.Vocab at 0x21b62dd8>,\n",
       " 'attachements': <gensim.models.keyedvectors.Vocab at 0x21b62e10>,\n",
       " 'Leurs': <gensim.models.keyedvectors.Vocab at 0x21b62e48>,\n",
       " 'conflits': <gensim.models.keyedvectors.Vocab at 0x21b62e80>,\n",
       " 'intimes': <gensim.models.keyedvectors.Vocab at 0x21b62eb8>,\n",
       " 'deviennent': <gensim.models.keyedvectors.Vocab at 0x21b62ef0>,\n",
       " 'universels': <gensim.models.keyedvectors.Vocab at 0x21b62f28>,\n",
       " 'résument': <gensim.models.keyedvectors.Vocab at 0x21b62f60>,\n",
       " 'tragédie': <gensim.models.keyedvectors.Vocab at 0x21b62f98>,\n",
       " 'd’un': <gensim.models.keyedvectors.Vocab at 0x21b62fd0>,\n",
       " 'peuple': <gensim.models.keyedvectors.Vocab at 0x21b6f048>,\n",
       " 'remarquables': <gensim.models.keyedvectors.Vocab at 0x21b6f080>,\n",
       " 'National': <gensim.models.keyedvectors.Vocab at 0x21b6f0b8>,\n",
       " 'Palestinien': <gensim.models.keyedvectors.Vocab at 0x21b6f0f0>,\n",
       " 'secondés': <gensim.models.keyedvectors.Vocab at 0x21b6f128>,\n",
       " 'clowns': <gensim.models.keyedvectors.Vocab at 0x21b6f160>,\n",
       " 'danseurs': <gensim.models.keyedvectors.Vocab at 0x21b6f198>,\n",
       " 'assurent': <gensim.models.keyedvectors.Vocab at 0x21b6f1d0>,\n",
       " 'transitions': <gensim.models.keyedvectors.Vocab at 0x21b6f208>,\n",
       " 'scènes': <gensim.models.keyedvectors.Vocab at 0x21b6f240>,\n",
       " 'époques': <gensim.models.keyedvectors.Vocab at 0x21b6f278>,\n",
       " 'rire,': <gensim.models.keyedvectors.Vocab at 0x21b6f2b0>,\n",
       " 'joie,': <gensim.models.keyedvectors.Vocab at 0x21b6f2e8>,\n",
       " 'l’amour,': <gensim.models.keyedvectors.Vocab at 0x21b6f320>,\n",
       " 'forces': <gensim.models.keyedvectors.Vocab at 0x21b6f358>,\n",
       " 'vitales': <gensim.models.keyedvectors.Vocab at 0x21b6f390>,\n",
       " 's’invitent': <gensim.models.keyedvectors.Vocab at 0x21b6f3c8>,\n",
       " 'plateau,': <gensim.models.keyedvectors.Vocab at 0x21b6f400>,\n",
       " 'contrebalançant': <gensim.models.keyedvectors.Vocab at 0x21b6f438>,\n",
       " 'noirceur': <gensim.models.keyedvectors.Vocab at 0x21b6f470>,\n",
       " 'drame': <gensim.models.keyedvectors.Vocab at 0x21b6f4a8>,\n",
       " 'théâtre': <gensim.models.keyedvectors.Vocab at 0x21b6f4e0>,\n",
       " 'poignant': <gensim.models.keyedvectors.Vocab at 0x21b6f518>,\n",
       " 'engagé,': <gensim.models.keyedvectors.Vocab at 0x21b6f550>,\n",
       " 'émeut': <gensim.models.keyedvectors.Vocab at 0x21b6f588>,\n",
       " 'interroge': <gensim.models.keyedvectors.Vocab at 0x21b6f5c0>,\n",
       " 'sens': <gensim.models.keyedvectors.Vocab at 0x21b6f5f8>,\n",
       " 'valeur': <gensim.models.keyedvectors.Vocab at 0x21b6f630>,\n",
       " 'paix': <gensim.models.keyedvectors.Vocab at 0x21b6f668>,\n",
       " 'Pierre': <gensim.models.keyedvectors.Vocab at 0x21b6f6a0>,\n",
       " 'Brasseur': <gensim.models.keyedvectors.Vocab at 0x21b6f6d8>,\n",
       " '3h': <gensim.models.keyedvectors.Vocab at 0x21b6f710>,\n",
       " '+': <gensim.models.keyedvectors.Vocab at 0x21b6f748>,\n",
       " '/': <gensim.models.keyedvectors.Vocab at 0x21b6f780>,\n",
       " 'Garde': <gensim.models.keyedvectors.Vocab at 0x21b6f7b8>,\n",
       " 'Charles': <gensim.models.keyedvectors.Vocab at 0x21b6f7f0>,\n",
       " 'Gounod': <gensim.models.keyedvectors.Vocab at 0x21b6f828>,\n",
       " 'piano': <gensim.models.keyedvectors.Vocab at 0x21b6f860>,\n",
       " 'pédalier': <gensim.models.keyedvectors.Vocab at 0x21b6f898>,\n",
       " 'orchestre\\nDmitri': <gensim.models.keyedvectors.Vocab at 0x21b6f8d0>,\n",
       " 'Chostakovitch': <gensim.models.keyedvectors.Vocab at 0x21b6f908>,\n",
       " 'Symphonie': <gensim.models.keyedvectors.Vocab at 0x21b6f940>,\n",
       " 'n°': <gensim.models.keyedvectors.Vocab at 0x21b6f978>,\n",
       " '7': <gensim.models.keyedvectors.Vocab at 0x21b6f9b0>,\n",
       " 'ut': <gensim.models.keyedvectors.Vocab at 0x21b6f9e8>,\n",
       " '60,': <gensim.models.keyedvectors.Vocab at 0x21b6fa20>,\n",
       " 'Leningrad\\nPiano': <gensim.models.keyedvectors.Vocab at 0x21b6fa58>,\n",
       " 'Roberto': <gensim.models.keyedvectors.Vocab at 0x21b6fa90>,\n",
       " 'Prosseda': <gensim.models.keyedvectors.Vocab at 0x21b6fac8>,\n",
       " 'Direction': <gensim.models.keyedvectors.Vocab at 0x21b6fb00>,\n",
       " 'Oleg': <gensim.models.keyedvectors.Vocab at 0x21b6fb38>,\n",
       " 'Caetani\\nL’Orchestre': <gensim.models.keyedvectors.Vocab at 0x21b6fb70>,\n",
       " 'retrouve': <gensim.models.keyedvectors.Vocab at 0x21b6fba8>,\n",
       " 'scène': <gensim.models.keyedvectors.Vocab at 0x21b6fbe0>,\n",
       " 'l’auditorium': <gensim.models.keyedvectors.Vocab at 0x21b6fc18>,\n",
       " 'Apollon': <gensim.models.keyedvectors.Vocab at 0x21b6fc50>,\n",
       " 'programme': <gensim.models.keyedvectors.Vocab at 0x21b6fc88>,\n",
       " 'Ce': <gensim.models.keyedvectors.Vocab at 0x21b6fcc0>,\n",
       " 'effet': <gensim.models.keyedvectors.Vocab at 0x21b6fcf8>,\n",
       " 'l’occasion': <gensim.models.keyedvectors.Vocab at 0x21b6fd30>,\n",
       " 'fêter': <gensim.models.keyedvectors.Vocab at 0x21b6fd68>,\n",
       " 'bicentenaire': <gensim.models.keyedvectors.Vocab at 0x21b6fda0>,\n",
       " 'découvrir,': <gensim.models.keyedvectors.Vocab at 0x21b6fdd8>,\n",
       " 'pédalier,': <gensim.models.keyedvectors.Vocab at 0x21b6fe10>,\n",
       " 'instrument': <gensim.models.keyedvectors.Vocab at 0x21b6fe48>,\n",
       " 'aujourd’hui': <gensim.models.keyedvectors.Vocab at 0x21b6fe80>,\n",
       " 'oublié': <gensim.models.keyedvectors.Vocab at 0x21b6feb8>,\n",
       " 'séduit': <gensim.models.keyedvectors.Vocab at 0x21b6fef0>,\n",
       " 'd’importants': <gensim.models.keyedvectors.Vocab at 0x21b6ff28>,\n",
       " 'compositeurs': <gensim.models.keyedvectors.Vocab at 0x21b6ff60>,\n",
       " '19e': <gensim.models.keyedvectors.Vocab at 0x21b6ff98>,\n",
       " 'siècle,': <gensim.models.keyedvectors.Vocab at 0x21b6ffd0>,\n",
       " 'l’image': <gensim.models.keyedvectors.Vocab at 0x21b60048>,\n",
       " 'Franz': <gensim.models.keyedvectors.Vocab at 0x21b60080>,\n",
       " 'Liszt,': <gensim.models.keyedvectors.Vocab at 0x21b600b8>,\n",
       " 'Robert': <gensim.models.keyedvectors.Vocab at 0x21b600f0>,\n",
       " 'Schumann': <gensim.models.keyedvectors.Vocab at 0x21b60128>,\n",
       " 'Camille': <gensim.models.keyedvectors.Vocab at 0x21b60160>,\n",
       " 'Saint-Saëns': <gensim.models.keyedvectors.Vocab at 0x21b60198>,\n",
       " 'Il': <gensim.models.keyedvectors.Vocab at 0x21b601d0>,\n",
       " 'permettra': <gensim.models.keyedvectors.Vocab at 0x21b60208>,\n",
       " 'aussi': <gensim.models.keyedvectors.Vocab at 0x21b60240>,\n",
       " 'd’entendre': <gensim.models.keyedvectors.Vocab at 0x21b60278>,\n",
       " '7,': <gensim.models.keyedvectors.Vocab at 0x21b602b0>,\n",
       " 'Leningrad,': <gensim.models.keyedvectors.Vocab at 0x21b602e8>,\n",
       " 'monumental': <gensim.models.keyedvectors.Vocab at 0x21b60320>,\n",
       " 'chef-d’œuvre': <gensim.models.keyedvectors.Vocab at 0x21b60358>,\n",
       " 'répertoire': <gensim.models.keyedvectors.Vocab at 0x21b60390>,\n",
       " 'symphonique': <gensim.models.keyedvectors.Vocab at 0x21b603c8>,\n",
       " 'russe,': <gensim.models.keyedvectors.Vocab at 0x21b60400>,\n",
       " 'né': <gensim.models.keyedvectors.Vocab at 0x21b60438>,\n",
       " '1941': <gensim.models.keyedvectors.Vocab at 0x21b60470>,\n",
       " 'sous': <gensim.models.keyedvectors.Vocab at 0x21b604a8>,\n",
       " 'plume': <gensim.models.keyedvectors.Vocab at 0x21b604e0>,\n",
       " 'Dmitri': <gensim.models.keyedvectors.Vocab at 0x21b60518>,\n",
       " 'désormais': <gensim.models.keyedvectors.Vocab at 0x21b60550>,\n",
       " 'trouvé': <gensim.models.keyedvectors.Vocab at 0x21b60588>,\n",
       " 'style': <gensim.models.keyedvectors.Vocab at 0x21b605c0>,\n",
       " 'chef': <gensim.models.keyedvectors.Vocab at 0x21b605f8>,\n",
       " 'd’orchestre': <gensim.models.keyedvectors.Vocab at 0x21b60630>,\n",
       " 'carrière': <gensim.models.keyedvectors.Vocab at 0x21b60668>,\n",
       " 'internationale': <gensim.models.keyedvectors.Vocab at 0x21b606a0>,\n",
       " 'Caetani': <gensim.models.keyedvectors.Vocab at 0x21b606d8>,\n",
       " 'connaisseur': <gensim.models.keyedvectors.Vocab at 0x21b60710>,\n",
       " 'savez': <gensim.models.keyedvectors.Vocab at 0x21b60748>,\n",
       " 'pas': <gensim.models.keyedvectors.Vocab at 0x21b60780>,\n",
       " 'allez': <gensim.models.keyedvectors.Vocab at 0x21b607b8>,\n",
       " 'savent': <gensim.models.keyedvectors.Vocab at 0x21b607f0>,\n",
       " 'qu’ils': <gensim.models.keyedvectors.Vocab at 0x21b60828>,\n",
       " 'jouer': <gensim.models.keyedvectors.Vocab at 0x21b60860>,\n",
       " 'Performance': <gensim.models.keyedvectors.Vocab at 0x21b60898>,\n",
       " 'l’instant,': <gensim.models.keyedvectors.Vocab at 0x21b608d0>,\n",
       " 'personnages': <gensim.models.keyedvectors.Vocab at 0x21b60908>,\n",
       " 'histoires': <gensim.models.keyedvectors.Vocab at 0x21b60940>,\n",
       " 'créer': <gensim.models.keyedvectors.Vocab at 0x21b60978>,\n",
       " 'spontanément': <gensim.models.keyedvectors.Vocab at 0x21b609b0>,\n",
       " 'totalement': <gensim.models.keyedvectors.Vocab at 0x21b609e8>,\n",
       " 'éphémère': <gensim.models.keyedvectors.Vocab at 0x21b60a20>,\n",
       " 'jamais': <gensim.models.keyedvectors.Vocab at 0x21b60a58>,\n",
       " 'spectacle…': <gensim.models.keyedvectors.Vocab at 0x21b60a90>,\n",
       " 'Championnat': <gensim.models.keyedvectors.Vocab at 0x21b60ac8>,\n",
       " 'danse': <gensim.models.keyedvectors.Vocab at 0x21b60b00>,\n",
       " 'Hip': <gensim.models.keyedvectors.Vocab at 0x21b60b38>,\n",
       " 'Hop,': <gensim.models.keyedvectors.Vocab at 0x21b60b70>,\n",
       " 'Nice': <gensim.models.keyedvectors.Vocab at 0x21b60ba8>,\n",
       " 'City': <gensim.models.keyedvectors.Vocab at 0x21b60be0>,\n",
       " 'Battle': <gensim.models.keyedvectors.Vocab at 0x21b60c18>,\n",
       " 'rassemblera': <gensim.models.keyedvectors.Vocab at 0x21b60c50>,\n",
       " 'meilleurs': <gensim.models.keyedvectors.Vocab at 0x21b60c88>,\n",
       " 'région': <gensim.models.keyedvectors.Vocab at 0x21b60cc0>,\n",
       " \"s'affronteront\": <gensim.models.keyedvectors.Vocab at 0x21b60cf8>,\n",
       " 'déterminer': <gensim.models.keyedvectors.Vocab at 0x21b60d30>,\n",
       " 'champion': <gensim.models.keyedvectors.Vocab at 0x21b60d68>,\n",
       " 'Prouesses': <gensim.models.keyedvectors.Vocab at 0x21b60da0>,\n",
       " 'techniques,': <gensim.models.keyedvectors.Vocab at 0x21b60dd8>,\n",
       " 'style,': <gensim.models.keyedvectors.Vocab at 0x21b60e10>,\n",
       " 'musicalité': <gensim.models.keyedvectors.Vocab at 0x21b60e48>,\n",
       " 'permettront': <gensim.models.keyedvectors.Vocab at 0x21b60e80>,\n",
       " 'jury': <gensim.models.keyedvectors.Vocab at 0x21b60eb8>,\n",
       " 'définir': <gensim.models.keyedvectors.Vocab at 0x21b60ef0>,\n",
       " 'gagnants': <gensim.models.keyedvectors.Vocab at 0x21b60f28>,\n",
       " 'chacune': <gensim.models.keyedvectors.Vocab at 0x21b60f60>,\n",
       " 'catégories,': <gensim.models.keyedvectors.Vocab at 0x21b60f98>,\n",
       " \"l'âge\": <gensim.models.keyedvectors.Vocab at 0x21b60fd0>,\n",
       " 'discipline': <gensim.models.keyedvectors.Vocab at 0x21b71048>,\n",
       " '(Qualifications': <gensim.models.keyedvectors.Vocab at 0x21b71080>,\n",
       " '18H': <gensim.models.keyedvectors.Vocab at 0x21b710b8>,\n",
       " 'entrée': <gensim.models.keyedvectors.Vocab at 0x21b710f0>,\n",
       " 'public': <gensim.models.keyedvectors.Vocab at 0x21b71128>,\n",
       " '20H30)\\n-': <gensim.models.keyedvectors.Vocab at 0x21b71160>,\n",
       " 'Boléro,': <gensim.models.keyedvectors.Vocab at 0x21b71198>,\n",
       " \"l'œuvre\": <gensim.models.keyedvectors.Vocab at 0x21b711d0>,\n",
       " 'Maurice': <gensim.models.keyedvectors.Vocab at 0x21b71208>,\n",
       " 'Ravel': <gensim.models.keyedvectors.Vocab at 0x21b71240>,\n",
       " 'révélé': <gensim.models.keyedvectors.Vocab at 0x21b71278>,\n",
       " 'professeur': <gensim.models.keyedvectors.Vocab at 0x21b712b0>,\n",
       " 'loufoque,': <gensim.models.keyedvectors.Vocab at 0x21b712e8>,\n",
       " 'fasciné': <gensim.models.keyedvectors.Vocab at 0x21b71320>,\n",
       " 'courbes': <gensim.models.keyedvectors.Vocab at 0x21b71358>,\n",
       " 'spirale': <gensim.models.keyedvectors.Vocab at 0x21b71390>,\n",
       " 'spécialité': <gensim.models.keyedvectors.Vocab at 0x21b713c8>,\n",
       " 'trouve': <gensim.models.keyedvectors.Vocab at 0x21b71400>,\n",
       " 'quelque': <gensim.models.keyedvectors.Vocab at 0x21b71438>,\n",
       " 'part': <gensim.models.keyedvectors.Vocab at 0x21b71470>,\n",
       " 'mi-chemin': <gensim.models.keyedvectors.Vocab at 0x21b714a8>,\n",
       " 'psychologie,': <gensim.models.keyedvectors.Vocab at 0x21b714e0>,\n",
       " 'mathématiques': <gensim.models.keyedvectors.Vocab at 0x21b71518>,\n",
       " 'philosophie': <gensim.models.keyedvectors.Vocab at 0x21b71550>,\n",
       " 'Théâtre,': <gensim.models.keyedvectors.Vocab at 0x21b71588>,\n",
       " 'Hop': <gensim.models.keyedvectors.Vocab at 0x21b715c0>,\n",
       " 'contemporaine,': <gensim.models.keyedvectors.Vocab at 0x21b715f8>,\n",
       " 'musique': <gensim.models.keyedvectors.Vocab at 0x21b71630>,\n",
       " 'classique': <gensim.models.keyedvectors.Vocab at 0x21b71668>,\n",
       " 'encore': <gensim.models.keyedvectors.Vocab at 0x21b716a0>,\n",
       " 'Baudelaire': <gensim.models.keyedvectors.Vocab at 0x21b716d8>,\n",
       " 'structurent': <gensim.models.keyedvectors.Vocab at 0x21b71710>,\n",
       " 'spectacle': <gensim.models.keyedvectors.Vocab at 0x21b71748>,\n",
       " 'émotionnellement': <gensim.models.keyedvectors.Vocab at 0x21b71780>,\n",
       " 'riche': <gensim.models.keyedvectors.Vocab at 0x21b717b8>,\n",
       " \"L'interprétation\": <gensim.models.keyedvectors.Vocab at 0x21b717f0>,\n",
       " 'poignante': <gensim.models.keyedvectors.Vocab at 0x21b71828>,\n",
       " 'Bretagne': <gensim.models.keyedvectors.Vocab at 0x21b71860>,\n",
       " 'Maurin': <gensim.models.keyedvectors.Vocab at 0x21b71898>,\n",
       " 'lectures,': <gensim.models.keyedvectors.Vocab at 0x21b718d0>,\n",
       " 'où': <gensim.models.keyedvectors.Vocab at 0x21b71908>,\n",
       " 'chaque': <gensim.models.keyedvectors.Vocab at 0x21b71940>,\n",
       " 'spectateur': <gensim.models.keyedvectors.Vocab at 0x21b71978>,\n",
       " 'pourra': <gensim.models.keyedvectors.Vocab at 0x21b719b0>,\n",
       " 'y': <gensim.models.keyedvectors.Vocab at 0x21b719e8>,\n",
       " 'trouver': <gensim.models.keyedvectors.Vocab at 0x21b71a20>,\n",
       " 'réponses,': <gensim.models.keyedvectors.Vocab at 0x21b71a58>,\n",
       " 'questions': <gensim.models.keyedvectors.Vocab at 0x21b71a90>,\n",
       " 'simplement': <gensim.models.keyedvectors.Vocab at 0x21b71ac8>,\n",
       " 'surprendre': <gensim.models.keyedvectors.Vocab at 0x21b71b00>,\n",
       " 'virtuosité,': <gensim.models.keyedvectors.Vocab at 0x21b71b38>,\n",
       " \"l'élégance\": <gensim.models.keyedvectors.Vocab at 0x21b71b70>,\n",
       " 'qualité': <gensim.models.keyedvectors.Vocab at 0x21b71ba8>,\n",
       " 'dansée': <gensim.models.keyedvectors.Vocab at 0x21b71be0>,\n",
       " 'retour': <gensim.models.keyedvectors.Vocab at 0x21b71c18>,\n",
       " 'va': <gensim.models.keyedvectors.Vocab at 0x21b71c50>,\n",
       " 'être': <gensim.models.keyedvectors.Vocab at 0x21b71c88>,\n",
       " 'synonyme': <gensim.models.keyedvectors.Vocab at 0x21b71cc0>,\n",
       " 'retrouvailles': <gensim.models.keyedvectors.Vocab at 0x21b71cf8>,\n",
       " 'mouvementées': <gensim.models.keyedvectors.Vocab at 0x21b71d30>,\n",
       " 'Mickaël,': <gensim.models.keyedvectors.Vocab at 0x21b71d68>,\n",
       " 'ami': <gensim.models.keyedvectors.Vocab at 0x21b71da0>,\n",
       " \"d'enfance\": <gensim.models.keyedvectors.Vocab at 0x21b71dd8>,\n",
       " '\"càcou\"': <gensim.models.keyedvectors.Vocab at 0x21b71e10>,\n",
       " 'incorrigible,': <gensim.models.keyedvectors.Vocab at 0x21b71e48>,\n",
       " 'franc': <gensim.models.keyedvectors.Vocab at 0x21b71e80>,\n",
       " 'parlé,': <gensim.models.keyedvectors.Vocab at 0x21b71eb8>,\n",
       " 'marié': <gensim.models.keyedvectors.Vocab at 0x21b71ef0>,\n",
       " '\"': <gensim.models.keyedvectors.Vocab at 0x21b71f28>,\n",
       " 'cagole': <gensim.models.keyedvectors.Vocab at 0x21b71f60>,\n",
       " '\",': <gensim.models.keyedvectors.Vocab at 0x21b71f98>,\n",
       " 'Laurence': <gensim.models.keyedvectors.Vocab at 0x21b71fd0>,\n",
       " 'La': <gensim.models.keyedvectors.Vocab at 0x21b65048>,\n",
       " 'soirée': <gensim.models.keyedvectors.Vocab at 0x21b65080>,\n",
       " 'mémorable': <gensim.models.keyedvectors.Vocab at 0x21b650b8>,\n",
       " 'vite': <gensim.models.keyedvectors.Vocab at 0x21b650f0>,\n",
       " 'devenir': <gensim.models.keyedvectors.Vocab at 0x21b65128>,\n",
       " 'choc': <gensim.models.keyedvectors.Vocab at 0x21b65160>,\n",
       " 'cultures': <gensim.models.keyedvectors.Vocab at 0x21b65198>,\n",
       " 'Attention': <gensim.models.keyedvectors.Vocab at 0x21b651d0>,\n",
       " 'oreilles': <gensim.models.keyedvectors.Vocab at 0x21b65208>,\n",
       " 'chastes': <gensim.models.keyedvectors.Vocab at 0x21b65240>,\n",
       " \"n'êtes\": <gensim.models.keyedvectors.Vocab at 0x21b65278>,\n",
       " 'marseillais': <gensim.models.keyedvectors.Vocab at 0x21b652b0>,\n",
       " 'C’est': <gensim.models.keyedvectors.Vocab at 0x21b652e8>,\n",
       " 'joie': <gensim.models.keyedvectors.Vocab at 0x21b65320>,\n",
       " 'totale': <gensim.models.keyedvectors.Vocab at 0x21b65358>,\n",
       " 'recherche': <gensim.models.keyedvectors.Vocab at 0x21b65390>,\n",
       " 'appartement,': <gensim.models.keyedvectors.Vocab at 0x21b653c8>,\n",
       " 'poussent': <gensim.models.keyedvectors.Vocab at 0x21b65400>,\n",
       " 'porte': <gensim.models.keyedvectors.Vocab at 0x21b65438>,\n",
       " 'grande': <gensim.models.keyedvectors.Vocab at 0x21b65470>,\n",
       " 'agence': <gensim.models.keyedvectors.Vocab at 0x21b654a8>,\n",
       " 'immobilière': <gensim.models.keyedvectors.Vocab at 0x21b654e0>,\n",
       " 'tenue': <gensim.models.keyedvectors.Vocab at 0x21b65518>,\n",
       " 'Barbara,': <gensim.models.keyedvectors.Vocab at 0x21b65550>,\n",
       " 'niçoise': <gensim.models.keyedvectors.Vocab at 0x21b65588>,\n",
       " 'type!': <gensim.models.keyedvectors.Vocab at 0x21b655c0>,\n",
       " 'prend': <gensim.models.keyedvectors.Vocab at 0x21b655f8>,\n",
       " ...}"
      ]
     },
     "execution_count": 95,
     "metadata": {},
     "output_type": "execute_result"
    }
   ],
   "source": [
    "model_ft.wv.vocab"
   ]
  },
  {
   "cell_type": "code",
   "execution_count": 98,
   "metadata": {},
   "outputs": [
    {
     "name": "stderr",
     "output_type": "stream",
     "text": [
      "C:\\Users\\Lenovo_T530\\Anaconda3\\lib\\site-packages\\gensim\\matutils.py:737: FutureWarning: Conversion of the second argument of issubdtype from `int` to `np.signedinteger` is deprecated. In future, it will be treated as `np.int32 == np.dtype(int).type`.\n",
      "  if np.issubdtype(vec.dtype, np.int):\n"
     ]
    },
    {
     "data": {
      "text/plain": [
       "[('meine', 0.8159884214401245),\n",
       " ('racine', 0.8140592575073242),\n",
       " ('homme-machine', 0.8109486699104309),\n",
       " ('rapamycine', 0.8065571784973145),\n",
       " ('chine', 0.8037232756614685),\n",
       " ('orpheline', 0.8027569055557251),\n",
       " ('médecine', 0.7918941974639893),\n",
       " ('“Reine', 0.7888707518577576),\n",
       " ('s’échine', 0.78498375415802),\n",
       " ('\"Reine', 0.7840887308120728)]"
      ]
     },
     "execution_count": 98,
     "metadata": {},
     "output_type": "execute_result"
    }
   ],
   "source": [
    "model_ft.wv.most_similar(positive=['reine','homme'], negative=['femme'])"
   ]
  },
  {
   "cell_type": "code",
   "execution_count": 100,
   "metadata": {},
   "outputs": [
    {
     "name": "stderr",
     "output_type": "stream",
     "text": [
      "C:\\Users\\Lenovo_T530\\Anaconda3\\lib\\site-packages\\gensim\\matutils.py:737: FutureWarning: Conversion of the second argument of issubdtype from `int` to `np.signedinteger` is deprecated. In future, it will be treated as `np.int32 == np.dtype(int).type`.\n",
      "  if np.issubdtype(vec.dtype, np.int):\n"
     ]
    },
    {
     "data": {
      "text/plain": [
       "[('(Matt', 0.9563543796539307),\n",
       " ('Indépendant', 0.949211597442627),\n",
       " ('Damon)', 0.9452630281448364),\n",
       " ('Marie-Thérèse,', 0.9448298215866089),\n",
       " ('Diem', 0.9435638189315796),\n",
       " ('Donna', 0.943181574344635),\n",
       " ('Chaire', 0.9429953098297119),\n",
       " ('Rochefort,', 0.9402498006820679),\n",
       " ('Nina', 0.9397472143173218),\n",
       " ('kidnappent', 0.939746618270874)]"
      ]
     },
     "execution_count": 100,
     "metadata": {},
     "output_type": "execute_result"
    }
   ],
   "source": [
    "model_w2v.wv.most_similar(positive=['roi','femme'], negative=['homme'])"
   ]
  },
  {
   "cell_type": "code",
   "execution_count": 103,
   "metadata": {},
   "outputs": [
    {
     "name": "stderr",
     "output_type": "stream",
     "text": [
      "C:\\Users\\Lenovo_T530\\Anaconda3\\lib\\site-packages\\gensim\\matutils.py:737: FutureWarning: Conversion of the second argument of issubdtype from `int` to `np.signedinteger` is deprecated. In future, it will be treated as `np.int32 == np.dtype(int).type`.\n",
      "  if np.issubdtype(vec.dtype, np.int):\n"
     ]
    },
    {
     "data": {
      "text/plain": [
       "[('roi\",', 0.8620610237121582),\n",
       " ('roseau', 0.7640905380249023),\n",
       " ('barreau', 0.7527348399162292),\n",
       " ('Moyen-&Acirc;ge', 0.7510027885437012),\n",
       " ('bain', 0.7492333650588989),\n",
       " ('radin', 0.7439849376678467),\n",
       " ('roi,', 0.7352766990661621),\n",
       " ('camouflage', 0.7352077960968018),\n",
       " ('barrage', 0.7332112193107605),\n",
       " ('citadin', 0.7305965423583984)]"
      ]
     },
     "execution_count": 103,
     "metadata": {},
     "output_type": "execute_result"
    }
   ],
   "source": [
    "model_ft_2.wv.most_similar(positive=['roi','homme'], negative=['femme'])"
   ]
  },
  {
   "cell_type": "code",
   "execution_count": 106,
   "metadata": {},
   "outputs": [
    {
     "name": "stderr",
     "output_type": "stream",
     "text": [
      "C:\\Users\\Lenovo_T530\\Anaconda3\\lib\\site-packages\\gensim\\matutils.py:737: FutureWarning: Conversion of the second argument of issubdtype from `int` to `np.signedinteger` is deprecated. In future, it will be treated as `np.int32 == np.dtype(int).type`.\n",
      "  if np.issubdtype(vec.dtype, np.int):\n"
     ]
    },
    {
     "data": {
      "text/plain": [
       "'chat'"
      ]
     },
     "execution_count": 106,
     "metadata": {},
     "output_type": "execute_result"
    }
   ],
   "source": [
    "model_ft.wv.doesnt_match(\"tourisme nice hotel chat\".split(\" \"))"
   ]
  },
  {
   "cell_type": "code",
   "execution_count": 116,
   "metadata": {},
   "outputs": [
    {
     "name": "stderr",
     "output_type": "stream",
     "text": [
      "C:\\Users\\Lenovo_T530\\Anaconda3\\lib\\site-packages\\gensim\\matutils.py:737: FutureWarning: Conversion of the second argument of issubdtype from `int` to `np.signedinteger` is deprecated. In future, it will be treated as `np.int32 == np.dtype(int).type`.\n",
      "  if np.issubdtype(vec.dtype, np.int):\n"
     ]
    },
    {
     "data": {
      "text/plain": [
       "'hotel'"
      ]
     },
     "execution_count": 116,
     "metadata": {},
     "output_type": "execute_result"
    }
   ],
   "source": [
    "model_w2v.wv.doesnt_match(\"tourisme nice hotel chat\".split(\" \"))"
   ]
  },
  {
   "cell_type": "code",
   "execution_count": 110,
   "metadata": {},
   "outputs": [
    {
     "name": "stderr",
     "output_type": "stream",
     "text": [
      "C:\\Users\\Lenovo_T530\\Anaconda3\\lib\\site-packages\\gensim\\matutils.py:737: FutureWarning: Conversion of the second argument of issubdtype from `int` to `np.signedinteger` is deprecated. In future, it will be treated as `np.int32 == np.dtype(int).type`.\n",
      "  if np.issubdtype(vec.dtype, np.int):\n"
     ]
    },
    {
     "data": {
      "text/plain": [
       "'Nice'"
      ]
     },
     "execution_count": 110,
     "metadata": {},
     "output_type": "execute_result"
    }
   ],
   "source": [
    "model_ft.wv.doesnt_match(\"trouve hotel Nice dormir\".split(\" \"))"
   ]
  },
  {
   "cell_type": "code",
   "execution_count": 117,
   "metadata": {},
   "outputs": [
    {
     "name": "stderr",
     "output_type": "stream",
     "text": [
      "C:\\Users\\Lenovo_T530\\Anaconda3\\lib\\site-packages\\gensim\\matutils.py:737: FutureWarning: Conversion of the second argument of issubdtype from `int` to `np.signedinteger` is deprecated. In future, it will be treated as `np.int32 == np.dtype(int).type`.\n",
      "  if np.issubdtype(vec.dtype, np.int):\n"
     ]
    },
    {
     "data": {
      "text/plain": [
       "'hotel'"
      ]
     },
     "execution_count": 117,
     "metadata": {},
     "output_type": "execute_result"
    }
   ],
   "source": [
    "model_w2v.wv.doesnt_match(\"trouve hotel Nice dormir\".split(\" \"))"
   ]
  },
  {
   "cell_type": "markdown",
   "metadata": {},
   "source": [
    "### Clustering results"
   ]
  },
  {
   "cell_type": "code",
   "execution_count": 118,
   "metadata": {},
   "outputs": [],
   "source": [
    "from nltk.cluster import KMeansClusterer\n",
    "import nltk"
   ]
  },
  {
   "cell_type": "code",
   "execution_count": 121,
   "metadata": {},
   "outputs": [
    {
     "name": "stderr",
     "output_type": "stream",
     "text": [
      "C:\\Users\\Lenovo_T530\\Anaconda3\\lib\\site-packages\\ipykernel_launcher.py:1: DeprecationWarning: Call to deprecated `__getitem__` (Method will be removed in 4.0.0, use self.wv.__getitem__() instead).\n",
      "  \"\"\"Entry point for launching an IPython kernel.\n"
     ]
    }
   ],
   "source": [
    "X = model_ft[model_ft.wv.vocab]"
   ]
  },
  {
   "cell_type": "code",
   "execution_count": null,
   "metadata": {},
   "outputs": [],
   "source": [
    "NUM_CLUSTERS=3\n",
    "kclusterer = KMeansClusterer(NUM_CLUSTERS, distance=nltk.cluster.util.cosine_distance, repeats=25)\n",
    "assigned_clusters = kclusterer.cluster(X, assign_clusters=True)"
   ]
  },
  {
   "cell_type": "code",
   "execution_count": null,
   "metadata": {},
   "outputs": [],
   "source": [
    "words = list(model_ft.wv.vocab)\n",
    "for i, word in enumerate(words):  \n",
    "    print (word + \":\" + str(assigned_clusters[i]))"
   ]
  },
  {
   "cell_type": "markdown",
   "metadata": {},
   "source": [
    "### Hotels Reviews Dataset "
   ]
  },
  {
   "cell_type": "code",
   "execution_count": 7,
   "metadata": {},
   "outputs": [
    {
     "name": "stderr",
     "output_type": "stream",
     "text": [
      "C:\\Users\\Lenovo_T530\\Anaconda3\\lib\\site-packages\\gensim\\utils.py:1212: UserWarning: detected Windows; aliasing chunkize to chunkize_serial\n",
      "  warnings.warn(\"detected Windows; aliasing chunkize to chunkize_serial\")\n"
     ]
    }
   ],
   "source": [
    "import gzip\n",
    "import gensim \n",
    "import logging"
   ]
  },
  {
   "cell_type": "code",
   "execution_count": 9,
   "metadata": {},
   "outputs": [],
   "source": [
    "logging.basicConfig(format='%(asctime)s : %(levelname)s : %(message)s', level=logging.INFO)"
   ]
  },
  {
   "cell_type": "markdown",
   "metadata": {},
   "source": [
    "Dataset used : \n",
    "\n",
    "<p> Date1 tab Review title1 tab Full review 1</p>\n",
    "<p> Date2 tab Review title2 tab Full review 2</p>\n",
    "…………….\n",
    "……………."
   ]
  },
  {
   "cell_type": "code",
   "execution_count": 55,
   "metadata": {},
   "outputs": [
    {
     "name": "stdout",
     "output_type": "stream",
     "text": [
      "b\"Oct 12 2009 \\tNice trendy hotel location not too bad.\\tI stayed in this hotel for one night. As this is a fairly new place some of the taxi drivers did not know where it was and/or did not want to drive there. Once I have eventually arrived at the hotel, I was very pleasantly surprised with the decor of the lobby/ground floor area. It was very stylish and modern. I found the reception's staff geeting me with 'Aloha' a bit out of place, but I guess they are briefed to say that to keep up the coroporate image.As I have a Starwood Preferred Guest member, I was given a small gift upon-check in. It was only a couple of fridge magnets in a gift box, but nevertheless a nice gesture.My room was nice and roomy, there are tea and coffee facilities in each room and you get two complimentary bottles of water plus some toiletries by 'bliss'.The location is not great. It is at the last metro stop and you then need to take a taxi, but if you are not planning on going to see the historic sites in Beijing, then you will be ok.I chose to have some breakfast in the hotel, which was really tasty and there was a good selection of dishes. There are a couple of computers to use in the communal area, as well as a pool table. There is also a small swimming pool and a gym area.I would definitely stay in this hotel again, but only if I did not plan to travel to central Beijing, as it can take a long time. The location is ok if you plan to do a lot of shopping, as there is a big shopping centre just few minutes away from the hotel and there are plenty of eating options around, including restaurants that serve a dog meat!\\t\\r\\n\"\n",
      "b'Sep 25 2009 \\tGreat Budget Hotel!\\tStayed two nights at Aloft on the most recent trip to China. The hotel was very modern and clean. The room was spotless and a comfortable king sized bed (as far as soft beds go in China). The staff was very punctual and went out of the way to help my every need, including going to a store across the street to purchase a China Mobile SIM card for me. The buffet breakfast was okay, nothing to write home about. The 42\\x94 LCD screen had movies on demand for 20RMB and had a good selection of western channels including HBO, CNN, BBC, Star World etc\\x85 The gym was small, had a selection of basic weights and one cable machine, there was however 6 new TechnoGym cardio machines with built in LCD TVs which were very good. The location is a bit out of the way to the central areas of Beijing, but it is better suited for my needs as I need to be in the Haidian district. Being SPG Platinum there were no upgrades to a better room, because Aloft has a policy of not doing any upgrades. The Sheraton next door is a much nicer hotel in my opinion (where I am writing this from now, with an upgraded room) but as far as bang for the buck, Aloft is a great place!\\t\\r\\n'\n",
      "b\"Aug 4 2009 \\tExcellent value - location not a big problem.\\tWe stayed at the Aloft Beijing Haidian for 5 nights from July 17 - 22nd. There are lots of reviews that talk about the location being a problem but we knew this ahead of time and found that it really wasn't an issue. The longest we spent in a taxi was about 30 minutes. We never paid more than 50rmb for a taxi ride (which is about $8 Cdn) and that was to the Forbidden City. Given there are 4 in our family, it was no big deal at all.As for the rooms, they were clean, the beds comfortable, the wireless internet connection reliable and it was one of the few hotels we found in Beijing that would accomodate 2 adults and 2 children. We paid about $70 Cdn. per night. That's an amazing price.It's not meant to be a 5 star hotel so you can't go in expecting that. We found the reception staff generally very helpful and friendly. They aren't the fastest in the world but it wasn't unreasonable at all.The hotel manager made an effort to speak with us a few times and was extremely helpful and welcoming. Their breakfast buffet was quite good and reasonably priced. There are a number of good restaurants in the Four Points Sheraton next door so there were lots of options. There is a massive mall about a block away that has other dining options as well.The only issue we ran into was a few taxi drivers refusing to take us to the Summer Palace because I guess they felt it wasn't far enough. The minimum rate is 10rmb. But the staff at the Four Points Sheraton (which is on a busier road than the side street for Aloft) were quite helpful in finding taxis for us if they weren't already there.We would definitely stay there again and recommend it to our friends for its excellent value.\\t\\r\\n\"\n",
      "b\"Jul 17 2009 \\tStylish clean reasonable value poor location\\tI am glad to be the first person to post photos of this hotel. Key points about this property:- its a starwood property, much cheaper than the rest, and it shows in the pretty incompetent reception staff, the hard bed, the cheap blinds that don't quite block out the sun in the mornings, and common areas which seem to be degrading very quickly (given how new this hotel is).- on the up side, it is very clean and tidy, and if that is important to you, this hotel presents good value. It is also quite stylishly designed and looks much more modern than anything else in this price range.- location is poor for the typical tourist. Yes, very poor. It is not really close to much cheaper the summer palace, and other places will require a taxi, which will probably result in hours of being frustratingly stuck in traffic. Taxi drivers also dont know where it is. If coming from the East, (i.e. city centre or airport) then it is the right turn AFTER the Four Points hotel, which is adjacent. If you are trying to scam an SPG platinum status in the cheapest way possible, perhaps stay in these two adjacent SPG hotels for 25 nights and check out every night.On the whole I thought it was decent value, but dollar for dollar, I would personally prefer to pay double for the Westin in Chaoyang or Financial Street. I have stayed at both at approx. double the price, for real 5 star service. But if thats not in your budget and you want the assurance of an international hotel chain, this hotel is perfect for you.Lastly, this hotel may also be appropriate for university students in Haidian, but don't pick this unless you know what you are doing. Taxis to BLCU or Tsing Hua may be exceptionally frustrating because of constant traffic around Zhong guan cun street. Tell taxi drivers to go on the four ring road, even though it might be a bit more expensive.There is free internet, but it does not seem to work with iPhones.\\t\\r\\n\"\n",
      "b\"May 30 2009 \\tRemote but excellent value for money\\tStayed there for one night. The hotel is located in Haidian, which is a little bit remote. But if you don't mind taking the taxi to the closest subway station, which costs only 15-20 CNY a ride the hotel represents excellent value for money given its low prices and the modern, quiet and very clean rooms. Also internet use is for free. Especially for travellors who don't want to spend the money for a Hyatt or Hilton but who look for a very decent place to stay this hotel represents an excellent choice.\\t\\r\\n\"\n",
      "b'Dec 31 2008 \\tGood value but not downtown\\tThis hotel is located next to the Four Points Hotel and are both part of the Starwood group. For those wanting a downtown location, this property may not be for you - I recommend factoring in taxi fares in and out of town when working out the value here. On the otherside, the rates for the hotel are very good and the rooms are basic but well appointed. TV was more focused on local channels which may be an indication of the clients they are targeting. There was however the standard HBO, BBC, etc. Staff were very friendly and check in and check out times were acceptable.\\t\\r\\n'\n",
      "b'Jul 20 2009 \\t???????????????????\\t\\t\\r\\n'\n"
     ]
    }
   ],
   "source": [
    "with open (\"C:\\\\Users\\\\Lenovo_T530\\\\Desktop\\\\Project\\\\OpinRank-master\\\\OpinRank-master\\\\OpinRankDatasetWithJudgments\\\\hotels\\\\data\\\\beijing\\\\china_beijing_aloft_beijing_haidian\", 'rb') as f:\n",
    "        for i,line in enumerate (f):\n",
    "            print(line)\n"
   ]
  },
  {
   "cell_type": "code",
   "execution_count": 22,
   "metadata": {},
   "outputs": [
    {
     "name": "stdout",
     "output_type": "stream",
     "text": [
      "b'Sep 25 2009 \\tGreat Budget Hotel!\\tStayed two nights at Aloft on the most recent trip to China. The hotel was very modern and clean. The room was spotless and a comfortable king sized bed (as far as soft beds go in China). The staff was very punctual and went out of the way to help my every need, including going to a store across the street to purchase a China Mobile SIM card for me. The buffet breakfast was okay, nothing to write home about. The 42\\x94 LCD screen had movies on demand for 20RMB and had a good selection of western channels including HBO, CNN, BBC, Star World etc\\x85 The gym was small, had a selection of basic weights and one cable machine, there was however 6 new TechnoGym cardio machines with built in LCD TVs which were very good. The location is a bit out of the way to the central areas of Beijing, but it is better suited for my needs as I need to be in the Haidian district. Being SPG Platinum there were no upgrades to a better room, because Aloft has a policy of not doing any upgrades. The Sheraton next door is a much nicer hotel in my opinion (where I am writing this from now, with an upgraded room) but as far as bang for the buck, Aloft is a great place!\\t\\r\\n'\n"
     ]
    }
   ],
   "source": [
    "with open (\"C:\\\\Users\\\\Lenovo_T530\\\\Desktop\\\\Project\\\\OpinRank-master\\\\OpinRank-master\\\\OpinRankDatasetWithJudgments\\\\hotels\\\\data\\\\beijing\\\\china_beijing_aloft_beijing_haidian\", 'rb') as f:\n",
    "        for i,line in enumerate (f):\n",
    "           if i==1 : \n",
    "            print(line)"
   ]
  }
 ],
 "metadata": {
  "kernelspec": {
   "display_name": "Python 3",
   "language": "python",
   "name": "python3"
  },
  "language_info": {
   "codemirror_mode": {
    "name": "ipython",
    "version": 3
   },
   "file_extension": ".py",
   "mimetype": "text/x-python",
   "name": "python",
   "nbconvert_exporter": "python",
   "pygments_lexer": "ipython3",
   "version": "3.6.4"
  }
 },
 "nbformat": 4,
 "nbformat_minor": 2
}
