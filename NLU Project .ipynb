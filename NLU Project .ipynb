{
 "cells": [
  {
   "cell_type": "markdown",
   "metadata": {},
   "source": [
    "# NLU Project"
   ]
  },
  {
   "cell_type": "code",
   "execution_count": 1,
   "metadata": {},
   "outputs": [],
   "source": [
    "import pandas as pd\n",
    "import matplotlib.pyplot as plt\n",
    "import numpy as np\n"
   ]
  },
  {
   "cell_type": "markdown",
   "metadata": {},
   "source": [
    "### Events and Places CSV Files"
   ]
  },
  {
   "cell_type": "code",
   "execution_count": 2,
   "metadata": {},
   "outputs": [
    {
     "name": "stderr",
     "output_type": "stream",
     "text": [
      "C:\\Users\\Lenovo_T530\\Anaconda3\\lib\\site-packages\\IPython\\core\\interactiveshell.py:2728: DtypeWarning: Columns (3,4,5,7,9,13,17,19) have mixed types. Specify dtype option on import or set low_memory=False.\n",
      "  interactivity=interactivity, compiler=compiler, result=result)\n"
     ]
    }
   ],
   "source": [
    "df1 = pd.read_csv(\"C:\\\\Users\\\\Lenovo_T530\\\\Desktop\\\\Project\\\\cotedazur_events_full.csv\",sep=\",\")\n",
    "df2 = pd.read_csv(\"C:\\\\Users\\\\Lenovo_T530\\\\Desktop\\\\Project\\\\cotedazur_places_full.csv\",sep=\",\")"
   ]
  },
  {
   "cell_type": "code",
   "execution_count": 3,
   "metadata": {},
   "outputs": [
    {
     "data": {
      "text/html": [
       "<div>\n",
       "<style scoped>\n",
       "    .dataframe tbody tr th:only-of-type {\n",
       "        vertical-align: middle;\n",
       "    }\n",
       "\n",
       "    .dataframe tbody tr th {\n",
       "        vertical-align: top;\n",
       "    }\n",
       "\n",
       "    .dataframe thead th {\n",
       "        text-align: right;\n",
       "    }\n",
       "</style>\n",
       "<table border=\"1\" class=\"dataframe\">\n",
       "  <thead>\n",
       "    <tr style=\"text-align: right;\">\n",
       "      <th></th>\n",
       "      <th>g</th>\n",
       "      <th>event</th>\n",
       "      <th>title</th>\n",
       "      <th>description</th>\n",
       "      <th>long</th>\n",
       "      <th>lat</th>\n",
       "      <th>datetimeBegin</th>\n",
       "      <th>datetimeEnd</th>\n",
       "      <th>place</th>\n",
       "      <th>placeName</th>\n",
       "      <th>...</th>\n",
       "      <th>telephone</th>\n",
       "      <th>email</th>\n",
       "      <th>identifier</th>\n",
       "      <th>publisher</th>\n",
       "      <th>seeAlso</th>\n",
       "      <th>category</th>\n",
       "      <th>sameAs</th>\n",
       "      <th>placeSeeAlso</th>\n",
       "      <th>imgObj</th>\n",
       "      <th>img</th>\n",
       "    </tr>\n",
       "  </thead>\n",
       "  <tbody>\n",
       "    <tr>\n",
       "      <th>0</th>\n",
       "      <td>http://3cixty.com/cotedazur/events</td>\n",
       "      <td>http://data.linkedevents.org/event/00f7c5da-04...</td>\n",
       "      <td>Découverte de notre atelier</td>\n",
       "      <td>Dans notre atelier, nous travaillons la cérami...</td>\n",
       "      <td>7.052935</td>\n",
       "      <td>43.577740</td>\n",
       "      <td>2018-07-24T17:23:00Z</td>\n",
       "      <td>2020-07-24T17:23:00Z</td>\n",
       "      <td>http://data.linkedevents.org/location/2cc6c9fc...</td>\n",
       "      <td>bleu-dargile</td>\n",
       "      <td>...</td>\n",
       "      <td>0686493125</td>\n",
       "      <td>NaN</td>\n",
       "      <td>456</td>\n",
       "      <td>http://www.beeshary.com</td>\n",
       "      <td>NaN</td>\n",
       "      <td>Activités</td>\n",
       "      <td>https://beeshary.com/activites/456-decouverte-...</td>\n",
       "      <td>https://www.facebook.com/bleudargile/</td>\n",
       "      <td>http://data.linkedevents.org/media/1c3ec6e8-73...</td>\n",
       "      <td>https://beeshary.com/1398/decouverte-de-notre-...</td>\n",
       "    </tr>\n",
       "    <tr>\n",
       "      <th>1</th>\n",
       "      <td>http://3cixty.com/cotedazur/events</td>\n",
       "      <td>http://data.linkedevents.org/event/1f60e132-8e...</td>\n",
       "      <td>Pour les grands et petits gourmands.</td>\n",
       "      <td>Poussez les portes de notre boutique pour déco...</td>\n",
       "      <td>3.891076</td>\n",
       "      <td>43.612581</td>\n",
       "      <td>2018-07-24T17:23:00Z</td>\n",
       "      <td>2020-07-24T17:23:00Z</td>\n",
       "      <td>http://data.linkedevents.org/location/513cfc21...</td>\n",
       "      <td>Maison Roux</td>\n",
       "      <td>...</td>\n",
       "      <td>0618809742</td>\n",
       "      <td>NaN</td>\n",
       "      <td>472</td>\n",
       "      <td>http://www.beeshary.com</td>\n",
       "      <td>NaN</td>\n",
       "      <td>Activités</td>\n",
       "      <td>https://beeshary.com/activites/472-pour-les-gr...</td>\n",
       "      <td>https://www.facebook.com/macaronsmaisonroux/</td>\n",
       "      <td>http://data.linkedevents.org/media/03ea98d9-77...</td>\n",
       "      <td>https://beeshary.com/1215/pour-les-grands-et-p...</td>\n",
       "    </tr>\n",
       "    <tr>\n",
       "      <th>2</th>\n",
       "      <td>http://3cixty.com/cotedazur/events</td>\n",
       "      <td>http://data.linkedevents.org/event/220511d2-62...</td>\n",
       "      <td>Dégustation de mes bières artisanales</td>\n",
       "      <td>Passionnée par la montagne, par la gastronomie...</td>\n",
       "      <td>2.813919</td>\n",
       "      <td>42.686115</td>\n",
       "      <td>2018-07-24T17:23:00Z</td>\n",
       "      <td>2020-07-24T17:23:00Z</td>\n",
       "      <td>http://data.linkedevents.org/location/bf02094b...</td>\n",
       "      <td>Brasserie Rull</td>\n",
       "      <td>...</td>\n",
       "      <td>0667362868</td>\n",
       "      <td>NaN</td>\n",
       "      <td>458</td>\n",
       "      <td>http://www.beeshary.com</td>\n",
       "      <td>NaN</td>\n",
       "      <td>Activités</td>\n",
       "      <td>https://beeshary.com/activites/458-degustation...</td>\n",
       "      <td>https://www.facebook.com/Bi%C3%A8re-du-Canigou...</td>\n",
       "      <td>http://data.linkedevents.org/media/6b7a7cb5-f7...</td>\n",
       "      <td>https://beeshary.com/1240/degustation-de-mes-b...</td>\n",
       "    </tr>\n",
       "    <tr>\n",
       "      <th>3</th>\n",
       "      <td>http://3cixty.com/cotedazur/events</td>\n",
       "      <td>http://data.linkedevents.org/event/311be86d-9c...</td>\n",
       "      <td>Venez découvrir mon atelier et mon métier de s...</td>\n",
       "      <td>Venez découvrir mon univers et mon travail. Je...</td>\n",
       "      <td>7.103053</td>\n",
       "      <td>43.624941</td>\n",
       "      <td>2018-07-24T17:23:00Z</td>\n",
       "      <td>2020-07-24T17:23:00Z</td>\n",
       "      <td>http://data.linkedevents.org/location/685703da...</td>\n",
       "      <td>Joël Rat</td>\n",
       "      <td>...</td>\n",
       "      <td>0675053333</td>\n",
       "      <td>NaN</td>\n",
       "      <td>464</td>\n",
       "      <td>http://www.beeshary.com</td>\n",
       "      <td>NaN</td>\n",
       "      <td>Activités</td>\n",
       "      <td>https://beeshary.com/activites/464-venez-decou...</td>\n",
       "      <td>https://www.facebook.com/joel.rat</td>\n",
       "      <td>http://data.linkedevents.org/media/cd385284-bc...</td>\n",
       "      <td>https://beeshary.com/1048/venez-decouvrir-mon-...</td>\n",
       "    </tr>\n",
       "    <tr>\n",
       "      <th>4</th>\n",
       "      <td>http://3cixty.com/cotedazur/events</td>\n",
       "      <td>http://data.linkedevents.org/event/359c12b4-a9...</td>\n",
       "      <td>Visite à la ferme</td>\n",
       "      <td>Visite à la ferme</td>\n",
       "      <td>6.913387</td>\n",
       "      <td>43.958342</td>\n",
       "      <td>2018-07-24T17:23:00Z</td>\n",
       "      <td>2020-07-24T17:23:00Z</td>\n",
       "      <td>http://data.linkedevents.org/location/3cf5f596...</td>\n",
       "      <td>Ferme Lavancia</td>\n",
       "      <td>...</td>\n",
       "      <td>+33612231199</td>\n",
       "      <td>NaN</td>\n",
       "      <td>833</td>\n",
       "      <td>http://www.beeshary.com</td>\n",
       "      <td>NaN</td>\n",
       "      <td>Activités</td>\n",
       "      <td>https://beeshary.com/activites/833-visite-a-la...</td>\n",
       "      <td>https://www.facebook.com/FermeLavancia</td>\n",
       "      <td>http://data.linkedevents.org/media/d3533fc9-00...</td>\n",
       "      <td>https://beeshary.com/2260/visite-a-la-ferme.jpg</td>\n",
       "    </tr>\n",
       "  </tbody>\n",
       "</table>\n",
       "<p>5 rows × 23 columns</p>\n",
       "</div>"
      ],
      "text/plain": [
       "                                    g  \\\n",
       "0  http://3cixty.com/cotedazur/events   \n",
       "1  http://3cixty.com/cotedazur/events   \n",
       "2  http://3cixty.com/cotedazur/events   \n",
       "3  http://3cixty.com/cotedazur/events   \n",
       "4  http://3cixty.com/cotedazur/events   \n",
       "\n",
       "                                               event  \\\n",
       "0  http://data.linkedevents.org/event/00f7c5da-04...   \n",
       "1  http://data.linkedevents.org/event/1f60e132-8e...   \n",
       "2  http://data.linkedevents.org/event/220511d2-62...   \n",
       "3  http://data.linkedevents.org/event/311be86d-9c...   \n",
       "4  http://data.linkedevents.org/event/359c12b4-a9...   \n",
       "\n",
       "                                               title  \\\n",
       "0                       Découverte de notre atelier    \n",
       "1              Pour les grands et petits gourmands.    \n",
       "2              Dégustation de mes bières artisanales   \n",
       "3  Venez découvrir mon atelier et mon métier de s...   \n",
       "4                                  Visite à la ferme   \n",
       "\n",
       "                                         description      long        lat  \\\n",
       "0  Dans notre atelier, nous travaillons la cérami...  7.052935  43.577740   \n",
       "1  Poussez les portes de notre boutique pour déco...  3.891076  43.612581   \n",
       "2  Passionnée par la montagne, par la gastronomie...  2.813919  42.686115   \n",
       "3  Venez découvrir mon univers et mon travail. Je...  7.103053  43.624941   \n",
       "4                                  Visite à la ferme  6.913387  43.958342   \n",
       "\n",
       "          datetimeBegin           datetimeEnd  \\\n",
       "0  2018-07-24T17:23:00Z  2020-07-24T17:23:00Z   \n",
       "1  2018-07-24T17:23:00Z  2020-07-24T17:23:00Z   \n",
       "2  2018-07-24T17:23:00Z  2020-07-24T17:23:00Z   \n",
       "3  2018-07-24T17:23:00Z  2020-07-24T17:23:00Z   \n",
       "4  2018-07-24T17:23:00Z  2020-07-24T17:23:00Z   \n",
       "\n",
       "                                               place       placeName  \\\n",
       "0  http://data.linkedevents.org/location/2cc6c9fc...    bleu-dargile   \n",
       "1  http://data.linkedevents.org/location/513cfc21...     Maison Roux   \n",
       "2  http://data.linkedevents.org/location/bf02094b...  Brasserie Rull   \n",
       "3  http://data.linkedevents.org/location/685703da...        Joël Rat   \n",
       "4  http://data.linkedevents.org/location/3cf5f596...  Ferme Lavancia   \n",
       "\n",
       "                         ...                             telephone email  \\\n",
       "0                        ...                            0686493125   NaN   \n",
       "1                        ...                            0618809742   NaN   \n",
       "2                        ...                            0667362868   NaN   \n",
       "3                        ...                            0675053333   NaN   \n",
       "4                        ...                          +33612231199   NaN   \n",
       "\n",
       "  identifier                publisher  seeAlso   category  \\\n",
       "0        456  http://www.beeshary.com      NaN  Activités   \n",
       "1        472  http://www.beeshary.com      NaN  Activités   \n",
       "2        458  http://www.beeshary.com      NaN  Activités   \n",
       "3        464  http://www.beeshary.com      NaN  Activités   \n",
       "4        833  http://www.beeshary.com      NaN  Activités   \n",
       "\n",
       "                                              sameAs  \\\n",
       "0  https://beeshary.com/activites/456-decouverte-...   \n",
       "1  https://beeshary.com/activites/472-pour-les-gr...   \n",
       "2  https://beeshary.com/activites/458-degustation...   \n",
       "3  https://beeshary.com/activites/464-venez-decou...   \n",
       "4  https://beeshary.com/activites/833-visite-a-la...   \n",
       "\n",
       "                                        placeSeeAlso  \\\n",
       "0              https://www.facebook.com/bleudargile/   \n",
       "1       https://www.facebook.com/macaronsmaisonroux/   \n",
       "2  https://www.facebook.com/Bi%C3%A8re-du-Canigou...   \n",
       "3                  https://www.facebook.com/joel.rat   \n",
       "4             https://www.facebook.com/FermeLavancia   \n",
       "\n",
       "                                              imgObj  \\\n",
       "0  http://data.linkedevents.org/media/1c3ec6e8-73...   \n",
       "1  http://data.linkedevents.org/media/03ea98d9-77...   \n",
       "2  http://data.linkedevents.org/media/6b7a7cb5-f7...   \n",
       "3  http://data.linkedevents.org/media/cd385284-bc...   \n",
       "4  http://data.linkedevents.org/media/d3533fc9-00...   \n",
       "\n",
       "                                                 img  \n",
       "0  https://beeshary.com/1398/decouverte-de-notre-...  \n",
       "1  https://beeshary.com/1215/pour-les-grands-et-p...  \n",
       "2  https://beeshary.com/1240/degustation-de-mes-b...  \n",
       "3  https://beeshary.com/1048/venez-decouvrir-mon-...  \n",
       "4    https://beeshary.com/2260/visite-a-la-ferme.jpg  \n",
       "\n",
       "[5 rows x 23 columns]"
      ]
     },
     "execution_count": 3,
     "metadata": {},
     "output_type": "execute_result"
    }
   ],
   "source": [
    "df1.head()"
   ]
  },
  {
   "cell_type": "code",
   "execution_count": 4,
   "metadata": {},
   "outputs": [
    {
     "data": {
      "text/html": [
       "<div>\n",
       "<style scoped>\n",
       "    .dataframe tbody tr th:only-of-type {\n",
       "        vertical-align: middle;\n",
       "    }\n",
       "\n",
       "    .dataframe tbody tr th {\n",
       "        vertical-align: top;\n",
       "    }\n",
       "\n",
       "    .dataframe thead th {\n",
       "        text-align: right;\n",
       "    }\n",
       "</style>\n",
       "<table border=\"1\" class=\"dataframe\">\n",
       "  <thead>\n",
       "    <tr style=\"text-align: right;\">\n",
       "      <th></th>\n",
       "      <th>g</th>\n",
       "      <th>venue</th>\n",
       "      <th>title</th>\n",
       "      <th>description</th>\n",
       "      <th>lang</th>\n",
       "      <th>telephone</th>\n",
       "      <th>email</th>\n",
       "      <th>url</th>\n",
       "      <th>businessType</th>\n",
       "      <th>categoryName</th>\n",
       "      <th>...</th>\n",
       "      <th>latitude</th>\n",
       "      <th>longitude</th>\n",
       "      <th>postalCode</th>\n",
       "      <th>streetAddress</th>\n",
       "      <th>city</th>\n",
       "      <th>img</th>\n",
       "      <th>seeAlso</th>\n",
       "      <th>publisher</th>\n",
       "      <th>sameAs</th>\n",
       "      <th>topoImportance</th>\n",
       "    </tr>\n",
       "  </thead>\n",
       "  <tbody>\n",
       "    <tr>\n",
       "      <th>0</th>\n",
       "      <td>http://3cixty.com/cotedazur/places</td>\n",
       "      <td>http://data.linkedevents.org/location/592475f1...</td>\n",
       "      <td>Hotel ibis Golfe de Saint Tropez</td>\n",
       "      <td>NaN</td>\n",
       "      <td>NaN</td>\n",
       "      <td>+33498125680</td>\n",
       "      <td>NaN</td>\n",
       "      <td>http://www.accorhotels.com/lien_externe.svlt?g...</td>\n",
       "      <td>http://data.linkedevents.org/kos/foursquare/hotel</td>\n",
       "      <td>Hotel</td>\n",
       "      <td>...</td>\n",
       "      <td>43.2488</td>\n",
       "      <td>6.53906</td>\n",
       "      <td>83310</td>\n",
       "      <td>rue Gaou, 83310 Cogolin, France</td>\n",
       "      <td>Cogolin</td>\n",
       "      <td>https://igx.4sqi.net/img/general/960x561/35597...</td>\n",
       "      <td>NaN</td>\n",
       "      <td>http://www.foursquare.com</td>\n",
       "      <td>https://www.foursquare.com/v/hotel-ibis-golfe-...</td>\n",
       "      <td>NaN</td>\n",
       "    </tr>\n",
       "    <tr>\n",
       "      <th>1</th>\n",
       "      <td>http://3cixty.com/cotedazur/places</td>\n",
       "      <td>http://data.linkedevents.org/location/67965892...</td>\n",
       "      <td>Aéroport de Toulon-Hyères (TLN)</td>\n",
       "      <td>NaN</td>\n",
       "      <td>NaN</td>\n",
       "      <td>+33825018387</td>\n",
       "      <td>NaN</td>\n",
       "      <td>http://www.toulon-hyeres.aeroport.fr</td>\n",
       "      <td>http://data.linkedevents.org/kos/foursquare/ai...</td>\n",
       "      <td>Airport</td>\n",
       "      <td>...</td>\n",
       "      <td>43.0937</td>\n",
       "      <td>6.15869</td>\n",
       "      <td>83400</td>\n",
       "      <td>Boulevard de la Marine, 83400 Hyères, France</td>\n",
       "      <td>Hyères</td>\n",
       "      <td>https://igx.4sqi.net/img/general/720x960/52884...</td>\n",
       "      <td>NaN</td>\n",
       "      <td>http://www.foursquare.com</td>\n",
       "      <td>https://www.foursquare.com/v/a%C3%A9roport-de-...</td>\n",
       "      <td>NaN</td>\n",
       "    </tr>\n",
       "    <tr>\n",
       "      <th>2</th>\n",
       "      <td>http://3cixty.com/cotedazur/places</td>\n",
       "      <td>http://data.linkedevents.org/location/1f07366d...</td>\n",
       "      <td>Althoff Hotel Villa Belrose</td>\n",
       "      <td>NaN</td>\n",
       "      <td>NaN</td>\n",
       "      <td>+33494559797</td>\n",
       "      <td>NaN</td>\n",
       "      <td>http://www.althoffhotels.com</td>\n",
       "      <td>http://data.linkedevents.org/kos/foursquare/hotel</td>\n",
       "      <td>Hotel</td>\n",
       "      <td>...</td>\n",
       "      <td>43.2597</td>\n",
       "      <td>6.60629</td>\n",
       "      <td>83580</td>\n",
       "      <td>Boulevard des Cretes La Grande Bastide, 83580 ...</td>\n",
       "      <td>Gassin</td>\n",
       "      <td>https://igx.4sqi.net/img/general/1440x1920/286...</td>\n",
       "      <td>NaN</td>\n",
       "      <td>http://www.foursquare.com</td>\n",
       "      <td>https://www.foursquare.com/v/althoff-hotel-vil...</td>\n",
       "      <td>NaN</td>\n",
       "    </tr>\n",
       "    <tr>\n",
       "      <th>3</th>\n",
       "      <td>http://3cixty.com/cotedazur/places</td>\n",
       "      <td>http://data.linkedevents.org/location/a8a1f925...</td>\n",
       "      <td>McDonald's</td>\n",
       "      <td>NaN</td>\n",
       "      <td>NaN</td>\n",
       "      <td>+33494563800</td>\n",
       "      <td>NaN</td>\n",
       "      <td>http://www.restaurants.mcdonalds.fr/mcdonalds-...</td>\n",
       "      <td>http://data.linkedevents.org/kos/foursquare/fa...</td>\n",
       "      <td>Fast Food Restaurant</td>\n",
       "      <td>...</td>\n",
       "      <td>43.2616</td>\n",
       "      <td>6.57665</td>\n",
       "      <td>83580</td>\n",
       "      <td>RN 559 (Quartier Joffret), 83580 GASSIN, France</td>\n",
       "      <td>GASSIN</td>\n",
       "      <td>https://igx.4sqi.net/img/general/720x431/24260...</td>\n",
       "      <td>NaN</td>\n",
       "      <td>http://www.foursquare.com</td>\n",
       "      <td>https://www.foursquare.com/v/mcdonalds/4c62f10...</td>\n",
       "      <td>NaN</td>\n",
       "    </tr>\n",
       "    <tr>\n",
       "      <th>4</th>\n",
       "      <td>http://3cixty.com/cotedazur/places</td>\n",
       "      <td>http://data.linkedevents.org/location/6d39f331...</td>\n",
       "      <td>Hôtel Sezz Saint Tropez</td>\n",
       "      <td>NaN</td>\n",
       "      <td>NaN</td>\n",
       "      <td>+33494553155</td>\n",
       "      <td>NaN</td>\n",
       "      <td>http://saint-tropez.hotelsezz.com</td>\n",
       "      <td>http://data.linkedevents.org/kos/foursquare/hotel</td>\n",
       "      <td>Hotel</td>\n",
       "      <td>...</td>\n",
       "      <td>43.2639</td>\n",
       "      <td>6.66994</td>\n",
       "      <td>83990</td>\n",
       "      <td>151 Route des Salins, 83990 Saint-Tropez, France</td>\n",
       "      <td>Saint-Tropez</td>\n",
       "      <td>https://igx.4sqi.net/img/general/612x612/21062...</td>\n",
       "      <td>NaN</td>\n",
       "      <td>http://www.foursquare.com</td>\n",
       "      <td>https://www.foursquare.com/v/h%C3%B4tel-sezz-s...</td>\n",
       "      <td>NaN</td>\n",
       "    </tr>\n",
       "  </tbody>\n",
       "</table>\n",
       "<p>5 rows × 21 columns</p>\n",
       "</div>"
      ],
      "text/plain": [
       "                                    g  \\\n",
       "0  http://3cixty.com/cotedazur/places   \n",
       "1  http://3cixty.com/cotedazur/places   \n",
       "2  http://3cixty.com/cotedazur/places   \n",
       "3  http://3cixty.com/cotedazur/places   \n",
       "4  http://3cixty.com/cotedazur/places   \n",
       "\n",
       "                                               venue  \\\n",
       "0  http://data.linkedevents.org/location/592475f1...   \n",
       "1  http://data.linkedevents.org/location/67965892...   \n",
       "2  http://data.linkedevents.org/location/1f07366d...   \n",
       "3  http://data.linkedevents.org/location/a8a1f925...   \n",
       "4  http://data.linkedevents.org/location/6d39f331...   \n",
       "\n",
       "                              title description lang     telephone  email  \\\n",
       "0  Hotel ibis Golfe de Saint Tropez         NaN  NaN  +33498125680    NaN   \n",
       "1   Aéroport de Toulon-Hyères (TLN)         NaN  NaN  +33825018387    NaN   \n",
       "2       Althoff Hotel Villa Belrose         NaN  NaN  +33494559797    NaN   \n",
       "3                        McDonald's         NaN  NaN  +33494563800    NaN   \n",
       "4           Hôtel Sezz Saint Tropez         NaN  NaN  +33494553155    NaN   \n",
       "\n",
       "                                                 url  \\\n",
       "0  http://www.accorhotels.com/lien_externe.svlt?g...   \n",
       "1               http://www.toulon-hyeres.aeroport.fr   \n",
       "2                       http://www.althoffhotels.com   \n",
       "3  http://www.restaurants.mcdonalds.fr/mcdonalds-...   \n",
       "4                  http://saint-tropez.hotelsezz.com   \n",
       "\n",
       "                                        businessType          categoryName  \\\n",
       "0  http://data.linkedevents.org/kos/foursquare/hotel                 Hotel   \n",
       "1  http://data.linkedevents.org/kos/foursquare/ai...               Airport   \n",
       "2  http://data.linkedevents.org/kos/foursquare/hotel                 Hotel   \n",
       "3  http://data.linkedevents.org/kos/foursquare/fa...  Fast Food Restaurant   \n",
       "4  http://data.linkedevents.org/kos/foursquare/hotel                 Hotel   \n",
       "\n",
       "       ...        latitude  longitude  postalCode  \\\n",
       "0      ...         43.2488    6.53906       83310   \n",
       "1      ...         43.0937    6.15869       83400   \n",
       "2      ...         43.2597    6.60629       83580   \n",
       "3      ...         43.2616    6.57665       83580   \n",
       "4      ...         43.2639    6.66994       83990   \n",
       "\n",
       "                                       streetAddress          city  \\\n",
       "0                    rue Gaou, 83310 Cogolin, France       Cogolin   \n",
       "1       Boulevard de la Marine, 83400 Hyères, France        Hyères   \n",
       "2  Boulevard des Cretes La Grande Bastide, 83580 ...        Gassin   \n",
       "3    RN 559 (Quartier Joffret), 83580 GASSIN, France        GASSIN   \n",
       "4   151 Route des Salins, 83990 Saint-Tropez, France  Saint-Tropez   \n",
       "\n",
       "                                                 img seeAlso  \\\n",
       "0  https://igx.4sqi.net/img/general/960x561/35597...     NaN   \n",
       "1  https://igx.4sqi.net/img/general/720x960/52884...     NaN   \n",
       "2  https://igx.4sqi.net/img/general/1440x1920/286...     NaN   \n",
       "3  https://igx.4sqi.net/img/general/720x431/24260...     NaN   \n",
       "4  https://igx.4sqi.net/img/general/612x612/21062...     NaN   \n",
       "\n",
       "                   publisher  \\\n",
       "0  http://www.foursquare.com   \n",
       "1  http://www.foursquare.com   \n",
       "2  http://www.foursquare.com   \n",
       "3  http://www.foursquare.com   \n",
       "4  http://www.foursquare.com   \n",
       "\n",
       "                                              sameAs topoImportance  \n",
       "0  https://www.foursquare.com/v/hotel-ibis-golfe-...            NaN  \n",
       "1  https://www.foursquare.com/v/a%C3%A9roport-de-...            NaN  \n",
       "2  https://www.foursquare.com/v/althoff-hotel-vil...            NaN  \n",
       "3  https://www.foursquare.com/v/mcdonalds/4c62f10...            NaN  \n",
       "4  https://www.foursquare.com/v/h%C3%B4tel-sezz-s...            NaN  \n",
       "\n",
       "[5 rows x 21 columns]"
      ]
     },
     "execution_count": 4,
     "metadata": {},
     "output_type": "execute_result"
    }
   ],
   "source": [
    "df2.head()"
   ]
  },
  {
   "cell_type": "code",
   "execution_count": 5,
   "metadata": {},
   "outputs": [
    {
     "data": {
      "text/plain": [
       "1048576"
      ]
     },
     "execution_count": 5,
     "metadata": {},
     "output_type": "execute_result"
    }
   ],
   "source": [
    "len(df2)"
   ]
  },
  {
   "cell_type": "code",
   "execution_count": 6,
   "metadata": {},
   "outputs": [
    {
     "data": {
      "text/plain": [
       "22125"
      ]
     },
     "execution_count": 6,
     "metadata": {},
     "output_type": "execute_result"
    }
   ],
   "source": [
    "len(df1)"
   ]
  },
  {
   "cell_type": "code",
   "execution_count": 7,
   "metadata": {},
   "outputs": [
    {
     "data": {
      "text/plain": [
       "\"Dans notre atelier, nous travaillons la céramique. Nous seront ravie de vous montrer toutes les étapes, du travail de la terre au façonnage du produit en passer par le travail de l'émail et la cuisson. Vous risquez d'être agréablement surpris de voir la précision que cela demande.\""
      ]
     },
     "execution_count": 7,
     "metadata": {},
     "output_type": "execute_result"
    }
   ],
   "source": [
    "df1.iloc[0]['description']"
   ]
  },
  {
   "cell_type": "code",
   "execution_count": 8,
   "metadata": {},
   "outputs": [
    {
     "data": {
      "text/plain": [
       "'Aéroport de Toulon-Hyères (TLN)'"
      ]
     },
     "execution_count": 8,
     "metadata": {},
     "output_type": "execute_result"
    }
   ],
   "source": [
    "df2.iloc[1]['title']"
   ]
  },
  {
   "cell_type": "code",
   "execution_count": 9,
   "metadata": {},
   "outputs": [
    {
     "data": {
      "text/plain": [
       "Index(['g', 'event', 'title', 'description', 'long', 'lat', 'datetimeBegin',\n",
       "       'datetimeEnd', 'place', 'placeName', 'streetAddress', 'locality',\n",
       "       'postalCode', 'telephone', 'email', 'identifier', 'publisher',\n",
       "       'seeAlso', 'category', 'sameAs', 'placeSeeAlso', 'imgObj', 'img'],\n",
       "      dtype='object')"
      ]
     },
     "execution_count": 9,
     "metadata": {},
     "output_type": "execute_result"
    }
   ],
   "source": [
    "df1.columns"
   ]
  },
  {
   "cell_type": "code",
   "execution_count": 10,
   "metadata": {},
   "outputs": [
    {
     "data": {
      "text/plain": [
       "Index(['g', 'venue', 'title', 'description', 'lang', 'telephone', 'email',\n",
       "       'url', 'businessType', 'categoryName', 'rating', 'latitude',\n",
       "       'longitude', 'postalCode', 'streetAddress', 'city', 'img', 'seeAlso',\n",
       "       'publisher', 'sameAs', 'topoImportance'],\n",
       "      dtype='object')"
      ]
     },
     "execution_count": 10,
     "metadata": {},
     "output_type": "execute_result"
    }
   ],
   "source": [
    "df2.columns"
   ]
  },
  {
   "cell_type": "code",
   "execution_count": 11,
   "metadata": {},
   "outputs": [
    {
     "data": {
      "text/plain": [
       "0    06220\n",
       "1    34000\n",
       "2    66270\n",
       "3    06410\n",
       "4    06260\n",
       "Name: postalCode, dtype: object"
      ]
     },
     "execution_count": 11,
     "metadata": {},
     "output_type": "execute_result"
    }
   ],
   "source": [
    "df1['postalCode'].head()"
   ]
  },
  {
   "cell_type": "code",
   "execution_count": 12,
   "metadata": {},
   "outputs": [
    {
     "data": {
      "text/plain": [
       "0      bleu-dargile\n",
       "1       Maison Roux\n",
       "2    Brasserie Rull\n",
       "3          Joël Rat\n",
       "4    Ferme Lavancia\n",
       "Name: placeName, dtype: object"
      ]
     },
     "execution_count": 12,
     "metadata": {},
     "output_type": "execute_result"
    }
   ],
   "source": [
    "df1['placeName'].head()"
   ]
  },
  {
   "cell_type": "markdown",
   "metadata": {},
   "source": [
    "### Simple example of word2vec"
   ]
  },
  {
   "cell_type": "code",
   "execution_count": 13,
   "metadata": {},
   "outputs": [
    {
     "name": "stderr",
     "output_type": "stream",
     "text": [
      "C:\\Users\\Lenovo_T530\\Anaconda3\\lib\\site-packages\\gensim\\utils.py:1212: UserWarning: detected Windows; aliasing chunkize to chunkize_serial\n",
      "  warnings.warn(\"detected Windows; aliasing chunkize to chunkize_serial\")\n"
     ]
    }
   ],
   "source": [
    "from gensim.test.utils import common_texts"
   ]
  },
  {
   "cell_type": "code",
   "execution_count": 14,
   "metadata": {},
   "outputs": [],
   "source": [
    "import gensim"
   ]
  },
  {
   "cell_type": "code",
   "execution_count": 15,
   "metadata": {},
   "outputs": [
    {
     "data": {
      "text/plain": [
       "[['human', 'interface', 'computer'],\n",
       " ['survey', 'user', 'computer', 'system', 'response', 'time'],\n",
       " ['eps', 'user', 'interface', 'system'],\n",
       " ['system', 'human', 'system', 'eps'],\n",
       " ['user', 'response', 'time'],\n",
       " ['trees'],\n",
       " ['graph', 'trees'],\n",
       " ['graph', 'minors', 'trees'],\n",
       " ['graph', 'minors', 'survey']]"
      ]
     },
     "execution_count": 15,
     "metadata": {},
     "output_type": "execute_result"
    }
   ],
   "source": [
    "common_texts"
   ]
  },
  {
   "cell_type": "code",
   "execution_count": 16,
   "metadata": {},
   "outputs": [],
   "source": [
    "from gensim.models import Word2Vec\n",
    "model = Word2Vec(common_texts, size=100, window=5, min_count=1, workers=4)"
   ]
  },
  {
   "cell_type": "code",
   "execution_count": 17,
   "metadata": {},
   "outputs": [],
   "source": [
    "word_vectors = model.wv"
   ]
  },
  {
   "cell_type": "code",
   "execution_count": 18,
   "metadata": {},
   "outputs": [
    {
     "name": "stderr",
     "output_type": "stream",
     "text": [
      "C:\\Users\\Lenovo_T530\\Anaconda3\\lib\\site-packages\\gensim\\matutils.py:737: FutureWarning: Conversion of the second argument of issubdtype from `int` to `np.signedinteger` is deprecated. In future, it will be treated as `np.int32 == np.dtype(int).type`.\n",
      "  if np.issubdtype(vec.dtype, np.int):\n"
     ]
    },
    {
     "data": {
      "text/plain": [
       "'eps'"
      ]
     },
     "execution_count": 18,
     "metadata": {},
     "output_type": "execute_result"
    }
   ],
   "source": [
    "result_1 = word_vectors.most_similar(positive=['computer'], negative=['system'])\n",
    "result_1[0][0]"
   ]
  },
  {
   "cell_type": "markdown",
   "metadata": {},
   "source": [
    "### Exploring pretrained models"
   ]
  },
  {
   "cell_type": "code",
   "execution_count": 32,
   "metadata": {},
   "outputs": [],
   "source": [
    "import fastText\n",
    "from gensim.test.utils import datapath\n",
    "from gensim.models import KeyedVectors"
   ]
  },
  {
   "cell_type": "code",
   "execution_count": 43,
   "metadata": {
    "scrolled": true
   },
   "outputs": [],
   "source": [
    "wv_from_text = KeyedVectors.load_word2vec_format(datapath(\"C:\\\\Users\\\\Lenovo_T530\\\\Desktop\\\\Project\\\\wiki.ang.vec\"), binary=False)"
   ]
  },
  {
   "cell_type": "code",
   "execution_count": 44,
   "metadata": {},
   "outputs": [
    {
     "data": {
      "text/plain": [
       "<gensim.models.keyedvectors.Word2VecKeyedVectors at 0xec880b8>"
      ]
     },
     "execution_count": 44,
     "metadata": {},
     "output_type": "execute_result"
    }
   ],
   "source": [
    "wv_from_text"
   ]
  },
  {
   "cell_type": "code",
   "execution_count": 53,
   "metadata": {},
   "outputs": [
    {
     "name": "stderr",
     "output_type": "stream",
     "text": [
      "C:\\Users\\Lenovo_T530\\Anaconda3\\lib\\site-packages\\gensim\\matutils.py:737: FutureWarning: Conversion of the second argument of issubdtype from `int` to `np.signedinteger` is deprecated. In future, it will be treated as `np.int32 == np.dtype(int).type`.\n",
      "  if np.issubdtype(vec.dtype, np.int):\n"
     ]
    },
    {
     "data": {
      "text/plain": [
       "[('holding', 0.8152550458908081),\n",
       " ('taking', 0.811439037322998),\n",
       " ('kings', 0.809548020362854),\n",
       " ('according', 0.8012422919273376),\n",
       " ('running', 0.7949214577674866),\n",
       " ('ranking', 0.7935211658477783),\n",
       " ('surviving', 0.7886489629745483),\n",
       " ('flying', 0.7886037826538086),\n",
       " ('speaking', 0.7855875492095947),\n",
       " ('sparking', 0.7847887277603149)]"
      ]
     },
     "execution_count": 53,
     "metadata": {},
     "output_type": "execute_result"
    }
   ],
   "source": [
    "result_1 = wv_from_text.most_similar(positive=['king','woman'], negative=['man'])\n",
    "result_1[:10]"
   ]
  },
  {
   "cell_type": "code",
   "execution_count": null,
   "metadata": {},
   "outputs": [],
   "source": []
  },
  {
   "cell_type": "markdown",
   "metadata": {},
   "source": [
    "### Training a model more  specific to our data"
   ]
  },
  {
   "cell_type": "code",
   "execution_count": null,
   "metadata": {},
   "outputs": [],
   "source": [
    "def constructTrainingSet(file,column) : \n",
    "    "
   ]
  }
 ],
 "metadata": {
  "kernelspec": {
   "display_name": "Python 3",
   "language": "python",
   "name": "python3"
  },
  "language_info": {
   "codemirror_mode": {
    "name": "ipython",
    "version": 3
   },
   "file_extension": ".py",
   "mimetype": "text/x-python",
   "name": "python",
   "nbconvert_exporter": "python",
   "pygments_lexer": "ipython3",
   "version": "3.6.4"
  }
 },
 "nbformat": 4,
 "nbformat_minor": 2
}
